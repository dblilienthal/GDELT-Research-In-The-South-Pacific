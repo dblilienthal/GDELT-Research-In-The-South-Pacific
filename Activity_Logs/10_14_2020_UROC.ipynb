{
 "cells": [
  {
   "cell_type": "markdown",
   "metadata": {},
   "source": [
    "<b> This notebook contains me attempting to join the three tables using pandas. I do not join them properly </b>"
   ]
  },
  {
   "cell_type": "code",
   "execution_count": 1,
   "metadata": {},
   "outputs": [],
   "source": [
    "import numpy as np\n",
    "import pandas as pd\n",
    "import matplotlib.pyplot as plt\n",
    "import seaborn as sns"
   ]
  },
  {
   "cell_type": "code",
   "execution_count": 2,
   "metadata": {},
   "outputs": [],
   "source": [
    "events = pd.read_csv(\"C:/Users/dlili/OneDrive/Documents/CSUMB/UROC Fall 2020/CSV Files/Events_Table_10042020.csv\")\n",
    "eventmentions = pd.read_csv(\"C:/Users/dlili/OneDrive/Documents/CSUMB/UROC Fall 2020/CSV Files/Eventmentions_Table_10042020.csv\")\n",
    "events_and_eventmentions = pd.merge(events, eventmentions, how='inner', on='GLOBALEVENTID')\n",
    "events_and_eventmentions.drop_duplicates()\n",
    "del events\n",
    "del eventmentions"
   ]
  },
  {
   "cell_type": "code",
   "execution_count": 4,
   "metadata": {},
   "outputs": [
    {
     "name": "stdout",
     "output_type": "stream",
     "text": [
      "<class 'pandas.core.frame.DataFrame'>\n",
      "Int64Index: 3026992 entries, 0 to 3026991\n",
      "Data columns (total 28 columns):\n",
      " #   Column                 Dtype  \n",
      "---  ------                 -----  \n",
      " 0   GLOBALEVENTID          int64  \n",
      " 1   SQLDATE                int64  \n",
      " 2   MonthYear              int64  \n",
      " 3   Actor1Name             object \n",
      " 4   Actor1CountryCode      object \n",
      " 5   Actor2Name             object \n",
      " 6   Actor2CountryCode      object \n",
      " 7   EventCode              int64  \n",
      " 8   GoldsteinScale         float64\n",
      " 9   NumMentions            int64  \n",
      " 10  NumSources             int64  \n",
      " 11  NumArticles            int64  \n",
      " 12  AvgTone                float64\n",
      " 13  Actor1Geo_FullName     object \n",
      " 14  Actor1Geo_CountryCode  object \n",
      " 15  Actor2Geo_FullName     object \n",
      " 16  Actor2Geo_CountryCode  object \n",
      " 17  ActionGeo_FullName     object \n",
      " 18  ActionGeo_ADM1Code     object \n",
      " 19  ActionGeo_ADM2Code     float64\n",
      " 20  SOURCEURL              object \n",
      " 21  MentionTimeDate        int64  \n",
      " 22  MentionType            int64  \n",
      " 23  MentionSourceName      object \n",
      " 24  MentionIdentifier      object \n",
      " 25  Confidence             int64  \n",
      " 26  MentionDocLen          int64  \n",
      " 27  MentionDocTone         float64\n",
      "dtypes: float64(4), int64(11), object(13)\n",
      "memory usage: 669.7+ MB\n"
     ]
    }
   ],
   "source": [
    "events_and_eventmentions.info()"
   ]
  },
  {
   "cell_type": "code",
   "execution_count": 3,
   "metadata": {},
   "outputs": [],
   "source": [
    "gkg = pd.read_csv(\"C:/Users/dlili/OneDrive/Documents/CSUMB/UROC Fall 2020/python Programming/gkgTable.csv\")\n",
    "del gkg['Themes']\n",
    "del gkg['V2Themes']"
   ]
  },
  {
   "cell_type": "code",
   "execution_count": 5,
   "metadata": {},
   "outputs": [
    {
     "name": "stdout",
     "output_type": "stream",
     "text": [
      "<class 'pandas.core.frame.DataFrame'>\n",
      "RangeIndex: 4315910 entries, 0 to 4315909\n",
      "Data columns (total 7 columns):\n",
      " #   Column                      Dtype \n",
      "---  ------                      ----- \n",
      " 0   MentionIdentifier           object\n",
      " 1   SourceCollectionIdentifier  int64 \n",
      " 2   SourceCommonName            object\n",
      " 3   DocumentIdentifier          object\n",
      " 4   Persons                     object\n",
      " 5   Organizations               object\n",
      " 6   V2Tone                      object\n",
      "dtypes: int64(1), object(6)\n",
      "memory usage: 230.5+ MB\n"
     ]
    }
   ],
   "source": [
    "gkg.info()"
   ]
  },
  {
   "cell_type": "code",
   "execution_count": 6,
   "metadata": {},
   "outputs": [],
   "source": [
    "events_eventmentions_gkg = pd.merge(events_and_eventmentions, gkg, how='inner', left_on='MentionIdentifier', right_on='DocumentIdentifier', copy=False)\n",
    "del gkg"
   ]
  },
  {
   "cell_type": "code",
   "execution_count": null,
   "metadata": {},
   "outputs": [],
   "source": [
    "del events_and_eventmentions"
   ]
  },
  {
   "cell_type": "code",
   "execution_count": 7,
   "metadata": {},
   "outputs": [
    {
     "name": "stdout",
     "output_type": "stream",
     "text": [
      "<class 'pandas.core.frame.DataFrame'>\n",
      "Int64Index: 98272869 entries, 0 to 98272868\n",
      "Data columns (total 35 columns):\n",
      " #   Column                      Dtype  \n",
      "---  ------                      -----  \n",
      " 0   GLOBALEVENTID               int64  \n",
      " 1   SQLDATE                     int64  \n",
      " 2   MonthYear                   int64  \n",
      " 3   Actor1Name                  object \n",
      " 4   Actor1CountryCode           object \n",
      " 5   Actor2Name                  object \n",
      " 6   Actor2CountryCode           object \n",
      " 7   EventCode                   int64  \n",
      " 8   GoldsteinScale              float64\n",
      " 9   NumMentions                 int64  \n",
      " 10  NumSources                  int64  \n",
      " 11  NumArticles                 int64  \n",
      " 12  AvgTone                     float64\n",
      " 13  Actor1Geo_FullName          object \n",
      " 14  Actor1Geo_CountryCode       object \n",
      " 15  Actor2Geo_FullName          object \n",
      " 16  Actor2Geo_CountryCode       object \n",
      " 17  ActionGeo_FullName          object \n",
      " 18  ActionGeo_ADM1Code          object \n",
      " 19  ActionGeo_ADM2Code          float64\n",
      " 20  SOURCEURL                   object \n",
      " 21  MentionTimeDate             int64  \n",
      " 22  MentionType                 int64  \n",
      " 23  MentionSourceName           object \n",
      " 24  MentionIdentifier_x         object \n",
      " 25  Confidence                  int64  \n",
      " 26  MentionDocLen               int64  \n",
      " 27  MentionDocTone              float64\n",
      " 28  MentionIdentifier_y         object \n",
      " 29  SourceCollectionIdentifier  int64  \n",
      " 30  SourceCommonName            object \n",
      " 31  DocumentIdentifier          object \n",
      " 32  Persons                     object \n",
      " 33  Organizations               object \n",
      " 34  V2Tone                      object \n",
      "dtypes: float64(4), int64(12), object(19)\n",
      "memory usage: 26.4+ GB\n"
     ]
    }
   ],
   "source": [
    "events_eventmentions_gkg.info()"
   ]
  },
  {
   "cell_type": "code",
   "execution_count": null,
   "metadata": {},
   "outputs": [],
   "source": [
    "#import sqlalchemy\n",
    "#from sqlalchemy import create_engine\n",
    "#pd.set_option('display.max_rows', None)"
   ]
  },
  {
   "cell_type": "code",
   "execution_count": null,
   "metadata": {},
   "outputs": [],
   "source": [
    "pd.set_option('display.max_rows', None)\n",
    "events_eventmentions_gkg['GLOBALEVENTID'].value_counts().head(10)"
   ]
  },
  {
   "cell_type": "code",
   "execution_count": null,
   "metadata": {},
   "outputs": [],
   "source": [
    "# Create the SQL engine \n",
    "#engine = create_engine('sqlite://', echo=False)\n",
    "#events_eventmentions_gkg.to_sql('events_eventmentions_gkg', con=engine)"
   ]
  },
  {
   "cell_type": "code",
   "execution_count": 14,
   "metadata": {},
   "outputs": [],
   "source": [
    "#events_eventmentions_gkg[events_eventmentions_gkg['GLOBALEVENTID'] == 705959955].head(10)"
   ]
  },
  {
   "cell_type": "code",
   "execution_count": 9,
   "metadata": {},
   "outputs": [
    {
     "data": {
      "text/plain": [
       "Index                           786182952\n",
       "GLOBALEVENTID                   786182952\n",
       "SQLDATE                         786182952\n",
       "MonthYear                       786182952\n",
       "Actor1Name                     6312858776\n",
       "Actor1CountryCode              5017438868\n",
       "Actor2Name                     5889303927\n",
       "Actor2CountryCode              4945782080\n",
       "EventCode                       786182952\n",
       "GoldsteinScale                  786182952\n",
       "NumMentions                     786182952\n",
       "NumSources                      786182952\n",
       "NumArticles                     786182952\n",
       "AvgTone                         786182952\n",
       "Actor1Geo_FullName             6790698180\n",
       "Actor1Geo_CountryCode          5641339917\n",
       "Actor2Geo_FullName             6283589554\n",
       "Actor2Geo_CountryCode          5320185069\n",
       "ActionGeo_FullName             6590538910\n",
       "ActionGeo_ADM1Code             5844489585\n",
       "ActionGeo_ADM2Code              786182952\n",
       "SOURCEURL                     12307051855\n",
       "MentionTimeDate                 786182952\n",
       "MentionType                     786182952\n",
       "MentionSourceName              6990334511\n",
       "MentionIdentifier_x           11861823409\n",
       "Confidence                      786182952\n",
       "MentionDocLen                   786182952\n",
       "MentionDocTone                  786182952\n",
       "MentionIdentifier_y           11861823409\n",
       "SourceCollectionIdentifier      786182952\n",
       "SourceCommonName               6990334511\n",
       "DocumentIdentifier            11861823409\n",
       "Persons                        9633277616\n",
       "Organizations                 11987607530\n",
       "V2Tone                        15007903243\n",
       "dtype: int64"
      ]
     },
     "execution_count": 9,
     "metadata": {},
     "output_type": "execute_result"
    }
   ],
   "source": [
    "events_eventmentions_gkg.memory_usage(deep=True)"
   ]
  },
  {
   "cell_type": "code",
   "execution_count": 12,
   "metadata": {},
   "outputs": [],
   "source": [
    "#del events_eventmentions_gkg['SOURCEURL']\n",
    "del events_eventmentions_gkg['MentionIdentifier_y']"
   ]
  },
  {
   "cell_type": "code",
   "execution_count": 17,
   "metadata": {},
   "outputs": [
    {
     "name": "stdout",
     "output_type": "stream",
     "text": [
      "<class 'pandas.core.frame.DataFrame'>\n",
      "Int64Index: 98272869 entries, 0 to 98272868\n",
      "Data columns (total 33 columns):\n",
      " #   Column                      Dtype  \n",
      "---  ------                      -----  \n",
      " 0   GLOBALEVENTID               int64  \n",
      " 1   SQLDATE                     int64  \n",
      " 2   MonthYear                   int64  \n",
      " 3   Actor1Name                  object \n",
      " 4   Actor1CountryCode           object \n",
      " 5   Actor2Name                  object \n",
      " 6   Actor2CountryCode           object \n",
      " 7   EventCode                   int64  \n",
      " 8   GoldsteinScale              float64\n",
      " 9   NumMentions                 int64  \n",
      " 10  NumSources                  int64  \n",
      " 11  NumArticles                 int64  \n",
      " 12  AvgTone                     float64\n",
      " 13  Actor1Geo_FullName          object \n",
      " 14  Actor1Geo_CountryCode       object \n",
      " 15  Actor2Geo_FullName          object \n",
      " 16  Actor2Geo_CountryCode       object \n",
      " 17  ActionGeo_FullName          object \n",
      " 18  ActionGeo_ADM1Code          object \n",
      " 19  ActionGeo_ADM2Code          float64\n",
      " 20  MentionTimeDate             int64  \n",
      " 21  MentionType                 int64  \n",
      " 22  MentionSourceName           object \n",
      " 23  MentionIdentifier_x         object \n",
      " 24  Confidence                  int64  \n",
      " 25  MentionDocLen               int64  \n",
      " 26  MentionDocTone              float64\n",
      " 27  SourceCollectionIdentifier  int64  \n",
      " 28  SourceCommonName            object \n",
      " 29  DocumentIdentifier          object \n",
      " 30  Persons                     object \n",
      " 31  Organizations               object \n",
      " 32  V2Tone                      object \n",
      "dtypes: float64(4), int64(12), object(17)\n",
      "memory usage: 24.9+ GB\n"
     ]
    }
   ],
   "source": [
    "events_eventmentions_gkg.info()"
   ]
  },
  {
   "cell_type": "code",
   "execution_count": 13,
   "metadata": {},
   "outputs": [
    {
     "data": {
      "text/plain": [
       "Index                           786182952\n",
       "GLOBALEVENTID                   786182952\n",
       "SQLDATE                         786182952\n",
       "MonthYear                       786182952\n",
       "Actor1Name                     6312858776\n",
       "Actor1CountryCode              5017438868\n",
       "Actor2Name                     5889303927\n",
       "Actor2CountryCode              4945782080\n",
       "EventCode                       786182952\n",
       "GoldsteinScale                  786182952\n",
       "NumMentions                     786182952\n",
       "NumSources                      786182952\n",
       "NumArticles                     786182952\n",
       "AvgTone                         786182952\n",
       "Actor1Geo_FullName             6790698180\n",
       "Actor1Geo_CountryCode          5641339917\n",
       "Actor2Geo_FullName             6283589554\n",
       "Actor2Geo_CountryCode          5320185069\n",
       "ActionGeo_FullName             6590538910\n",
       "ActionGeo_ADM1Code             5844489585\n",
       "ActionGeo_ADM2Code              786182952\n",
       "MentionTimeDate                 786182952\n",
       "MentionType                     786182952\n",
       "MentionSourceName              6990334511\n",
       "MentionIdentifier_x           11861823409\n",
       "Confidence                      786182952\n",
       "MentionDocLen                   786182952\n",
       "MentionDocTone                  786182952\n",
       "SourceCollectionIdentifier      786182952\n",
       "SourceCommonName               6990334511\n",
       "DocumentIdentifier            11861823409\n",
       "Persons                        9633277616\n",
       "Organizations                 11987607530\n",
       "V2Tone                        15007903243\n",
       "dtype: int64"
      ]
     },
     "execution_count": 13,
     "metadata": {},
     "output_type": "execute_result"
    }
   ],
   "source": [
    "events_eventmentions_gkg.memory_usage(deep=True)"
   ]
  },
  {
   "cell_type": "code",
   "execution_count": null,
   "metadata": {},
   "outputs": [],
   "source": [
    "events_eventmentions_gkg['GLOBALEVENTID'].value_counts()"
   ]
  },
  {
   "cell_type": "code",
   "execution_count": null,
   "metadata": {},
   "outputs": [],
   "source": []
  }
 ],
 "metadata": {
  "kernelspec": {
   "display_name": "Python 3",
   "language": "python",
   "name": "python3"
  },
  "language_info": {
   "codemirror_mode": {
    "name": "ipython",
    "version": 3
   },
   "file_extension": ".py",
   "mimetype": "text/x-python",
   "name": "python",
   "nbconvert_exporter": "python",
   "pygments_lexer": "ipython3",
   "version": "3.7.9"
  }
 },
 "nbformat": 4,
 "nbformat_minor": 4
}
