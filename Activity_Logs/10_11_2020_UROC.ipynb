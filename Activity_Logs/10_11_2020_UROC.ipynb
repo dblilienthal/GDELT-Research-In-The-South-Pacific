{
 "cells": [
  {
   "cell_type": "markdown",
   "metadata": {},
   "source": [
    "<b> In this notebook, i investigate why merging the GKG table is causing the final data set to be over 98 million rows </b>"
   ]
  },
  {
   "cell_type": "code",
   "execution_count": 1,
   "metadata": {},
   "outputs": [],
   "source": [
    "import numpy as np\n",
    "import pandas as pd\n",
    "import matplotlib.pyplot as plt\n",
    "import seaborn as sns\n",
    "import sqlalchemy\n",
    "from sqlalchemy import create_engine\n",
    "pd.set_option('display.max_rows', None)"
   ]
  },
  {
   "cell_type": "markdown",
   "metadata": {},
   "source": [
    "## Load the Events and Eventmentions table"
   ]
  },
  {
   "cell_type": "code",
   "execution_count": 2,
   "metadata": {},
   "outputs": [],
   "source": [
    "events = pd.read_csv(\"C:/Users/dlili/OneDrive/Documents/CSUMB/UROC Fall 2020/CSV Files/Events_Table_10042020.csv\")\n",
    "eventmentions = pd.read_csv(\"C:/Users/dlili/OneDrive/Documents/CSUMB/UROC Fall 2020/CSV Files/Eventmentions_Table_10042020.csv\")\n",
    "events_and_eventmentions = pd.merge(events, eventmentions, how='inner', on='GLOBALEVENTID')\n",
    "#gkg = pd.read_csv(\"C:/Users/dlili/OneDrive/Documents/CSUMB/UROC Fall 2020/python Programming/gkgTable.csv\")\n",
    "#events_eventmentions_gkg = pd.merge(events_and_eventmentions, gkg, how='inner', on='MentionIdentifier')\n",
    "del events\n",
    "del eventmentions\n",
    "\n",
    "# Create the SQL engine \n",
    "#engine = create_engine('sqlite://', echo=False)\n",
    "#events_and_eventmentions.to_sql('events_and_eventmentions', con=engine)"
   ]
  },
  {
   "cell_type": "markdown",
   "metadata": {},
   "source": [
    "### Grab one random URL to compare it to the GKG table"
   ]
  },
  {
   "cell_type": "code",
   "execution_count": 3,
   "metadata": {},
   "outputs": [
    {
     "name": "stdout",
     "output_type": "stream",
     "text": [
      "<class 'pandas.core.frame.DataFrame'>\n",
      "Int64Index: 3027338 entries, 0 to 3027337\n",
      "Data columns (total 28 columns):\n",
      " #   Column                 Dtype  \n",
      "---  ------                 -----  \n",
      " 0   GLOBALEVENTID          int64  \n",
      " 1   SQLDATE                int64  \n",
      " 2   MonthYear              int64  \n",
      " 3   Actor1Name             object \n",
      " 4   Actor1CountryCode      object \n",
      " 5   Actor2Name             object \n",
      " 6   Actor2CountryCode      object \n",
      " 7   EventCode              int64  \n",
      " 8   GoldsteinScale         float64\n",
      " 9   NumMentions            int64  \n",
      " 10  NumSources             int64  \n",
      " 11  NumArticles            int64  \n",
      " 12  AvgTone                float64\n",
      " 13  Actor1Geo_FullName     object \n",
      " 14  Actor1Geo_CountryCode  object \n",
      " 15  Actor2Geo_FullName     object \n",
      " 16  Actor2Geo_CountryCode  object \n",
      " 17  ActionGeo_FullName     object \n",
      " 18  ActionGeo_ADM1Code     object \n",
      " 19  ActionGeo_ADM2Code     float64\n",
      " 20  SOURCEURL              object \n",
      " 21  MentionTimeDate        float64\n",
      " 22  MentionType            float64\n",
      " 23  MentionSourceName      object \n",
      " 24  MentionIdentifier      object \n",
      " 25  Confidence             float64\n",
      " 26  MentionDocLen          float64\n",
      " 27  MentionDocTone         float64\n",
      "dtypes: float64(8), int64(7), object(13)\n",
      "memory usage: 669.8+ MB\n"
     ]
    }
   ],
   "source": [
    "events_and_eventmentions.info()"
   ]
  },
  {
   "cell_type": "code",
   "execution_count": 11,
   "metadata": {},
   "outputs": [
    {
     "data": {
      "text/plain": [
       "0                                                                                                                                                        https://minorityrights.org/trends2020/pacific/\n",
       "1                                                                                                                                          https://www.hometheaterforum.com/wake-island-blu-ray-review/\n",
       "5     https://parliament.gov.to/media-centre/latest-news/latest-news-in-english/729-cabinet-asked-to-review-budget-allocation-to-health-for-tonga-s-readiness-against-covid-19?switch_to_desktop_ui=438\n",
       "8                                                                                                              https://watchers.news/2020/06/03/the-weekly-volcanic-activity-report-may-27-june-2-2020/\n",
       "9                                                                                                              http://www.pireport.org/articles/2013/01/17/3-png-provinces-facing-worst-monsoon-weather\n",
       "10                                                                                                   https://www.thenational.scot/news/18494355.tiny-tonga-achieved-independence-uk-50-years-ago-today/\n",
       "11            https://parliament.gov.to/media-centre/latest-news/latest-news-in-english/728-public-accounts-committee-to-consider-pm-proposal-20-percent-pay-cut-to-mps-salary?switch_to_desktop_ui=438\n",
       "24                                                                                                                       http://www.cookislandsnews.com/national/local/item/77260-border-begins-to-open\n",
       "25                                                                                                                            http://www.pina.com.fj/?p=pacnews&m=read&o=3528769815ed9a2995fa56f13f8c83\n",
       "27                                                                                     https://dailypost.vu/news/new-inspection-equipment-for-customs/article_e6003aec-a6af-11ea-a95c-634dcb508f82.html\n",
       "Name: SOURCEURL, dtype: object"
      ]
     },
     "execution_count": 11,
     "metadata": {},
     "output_type": "execute_result"
    }
   ],
   "source": [
    "pd.set_option('display.max_colwidth', None)\n",
    "events_and_eventmentions['SOURCEURL'].drop_duplicates().head(10)"
   ]
  },
  {
   "cell_type": "markdown",
   "metadata": {},
   "source": [
    "#### I chose number 5 \n",
    "https://parliament.gov.to/media-centre/latest-news/latest-news-in-english/729-cabinet-asked-to-review-budget-allocation-to-health-for-tonga-s-readiness-against-covid-19?switch_to_desktop_ui=438"
   ]
  },
  {
   "cell_type": "markdown",
   "metadata": {},
   "source": [
    "### Find how many times this URL is in the dataframe"
   ]
  },
  {
   "cell_type": "code",
   "execution_count": 11,
   "metadata": {},
   "outputs": [
    {
     "data": {
      "text/plain": [
       "24"
      ]
     },
     "execution_count": 11,
     "metadata": {},
     "output_type": "execute_result"
    }
   ],
   "source": [
    "events_and_eventmentions['SOURCEURL'][events_and_eventmentions['SOURCEURL'] == \"https://parliament.gov.to/media-centre/latest-news/latest-news-in-english/729-cabinet-asked-to-review-budget-allocation-to-health-for-tonga-s-readiness-against-covid-19?switch_to_desktop_ui=438\"].count()"
   ]
  },
  {
   "cell_type": "code",
   "execution_count": 16,
   "metadata": {},
   "outputs": [
    {
     "data": {
      "text/plain": [
       "12"
      ]
     },
     "execution_count": 16,
     "metadata": {},
     "output_type": "execute_result"
    }
   ],
   "source": [
    "events_and_eventmentions['SOURCEURL'][events_and_eventmentions['SOURCEURL'] == \"http://www.cookislandsnews.com/national/local/item/77260-border-begins-to-open\"].count()"
   ]
  },
  {
   "cell_type": "markdown",
   "metadata": {},
   "source": [
    "## Drop the Event_and_Eventmentions table to load in the GKG"
   ]
  },
  {
   "cell_type": "code",
   "execution_count": 12,
   "metadata": {},
   "outputs": [],
   "source": [
    "del events_and_eventmentions"
   ]
  },
  {
   "cell_type": "markdown",
   "metadata": {},
   "source": [
    "## Load the GKG"
   ]
  },
  {
   "cell_type": "code",
   "execution_count": 12,
   "metadata": {},
   "outputs": [],
   "source": [
    "gkg = pd.read_csv(\"C:/Users/dlili/OneDrive/Documents/CSUMB/UROC Fall 2020/python Programming/gkgTable.csv\")"
   ]
  },
  {
   "cell_type": "code",
   "execution_count": 14,
   "metadata": {},
   "outputs": [
    {
     "data": {
      "text/html": [
       "<div>\n",
       "<style scoped>\n",
       "    .dataframe tbody tr th:only-of-type {\n",
       "        vertical-align: middle;\n",
       "    }\n",
       "\n",
       "    .dataframe tbody tr th {\n",
       "        vertical-align: top;\n",
       "    }\n",
       "\n",
       "    .dataframe thead th {\n",
       "        text-align: right;\n",
       "    }\n",
       "</style>\n",
       "<table border=\"1\" class=\"dataframe\">\n",
       "  <thead>\n",
       "    <tr style=\"text-align: right;\">\n",
       "      <th></th>\n",
       "      <th>MentionIdentifier</th>\n",
       "      <th>SourceCollectionIdentifier</th>\n",
       "      <th>SourceCommonName</th>\n",
       "      <th>DocumentIdentifier</th>\n",
       "      <th>Themes</th>\n",
       "      <th>V2Themes</th>\n",
       "      <th>Persons</th>\n",
       "      <th>Organizations</th>\n",
       "      <th>V2Tone</th>\n",
       "    </tr>\n",
       "  </thead>\n",
       "  <tbody>\n",
       "    <tr>\n",
       "      <th>0</th>\n",
       "      <td>http://www.theherald.com.au/story/3544278/gillian-triggs-opens-up-about-ham-fisted-behaviour-of-abbott-government/</td>\n",
       "      <td>1</td>\n",
       "      <td>theherald.com.au</td>\n",
       "      <td>http://www.theherald.com.au/story/3544278/gillian-triggs-opens-up-about-ham-fisted-behaviour-of-abbott-government/</td>\n",
       "      <td>LEADER;TAX_FNCACT;TAX_FNCACT_PRESIDENT;USPEC_POLITICS_GENERAL1;TAX_ETHNICITY;TAX_ETHNICITY_AUSTRALIAN;TAX_WORLDMAMMALS;TAX_WORLDMAMMALS_HUMAN;SELF_IDENTIFIED_HUMAN_RIGHTS;WB_2203_HUMAN_RIGHTS;WB_2432_FRAGILITY_CONFLICT_AND_VIOLENCE;SCANDAL;GENERAL_GOVERNMENT;TAX_FNCACT_MINISTERS;TAX_FNCACT_GOVERNMENT_MINISTERS;WB_678_DIGITAL_GOVERNMENT;WB_694_BROADCAST_AND_MEDIA;WB_133_INFORMATION_AND_COMMUNICATION_TECHNOLOGIES;RESIGNATION;TAX_FNCACT_CHILDREN;IMMIGRATION;WB_2670_JOBS;WB_2769_JOBS_STRATEGIES;WB_2837_IMMIGRATION;WB_2836_MIGRATION_POLICIES_AND_JOBS;WB_696_PUBLIC_SECTOR_MANAGEMENT;WB_840_JUSTICE;WB_2495_DETENTION_PRISON_AND_CORRECTIONS_REFORM;WB_2470_PEACE_OPERATIONS_AND_CONFLICT_MANAGEMENT;WB_1014_CRIMINAL_JUSTICE;WB_2490_NATIONAL_PROTECTION_AND_SECURITY;EDUCATION;TAX_FNCACT_PROFESSOR;DEMOCRACY;TRIAL;TAX_FNCACT_LAWYER;LEGISLATION;SOC_POINTSOFINTEREST;SOC_POINTSOFINTEREST_UNIVERSITY;CRISISLEX_CRISISLEXREC;TAX_FNCACT_WOMAN;TAX_FNCACT_JUDGES;BULLYING;AFFECT;REFUGEES;GENERAL_HEALTH;MEDICAL;TAX_FNCACT_BARRISTER;SOC_POINTSOFINTEREST_AIRPORT;WB_135_TRANSPORT;WB_1803_TRANSPORT_INFRASTRUCTURE;WB_1804_AIRPORTS;MANMADE_DISASTER_IMPLIED;TAX_FNCACT_HUMANIST;TAX_FNCACT_MINISTER;TAX_FNCACT_PRIME_MINISTER;TAX_FNCACT_ATTORNEY;TAX_WORLDLANGUAGES;TAX_WORLDLANGUAGES_MANUS;</td>\n",
       "      <td>TAX_FNCACT_WOMAN,2155;TAX_FNCACT_WOMAN,2640;TAX_FNCACT_PRIME_MINISTER,3980;TAX_FNCACT_PRIME_MINISTER,4141;TRIAL,1463;TAX_FNCACT_LAWYER,1463;TAX_ETHNICITY_AUSTRALIAN,184;TAX_ETHNICITY_AUSTRALIAN,2551;AFFECT,3042;AFFECT,3790;REFUGEES,3042;REFUGEES,3790;BULLYING,2926;TAX_FNCACT_JUDGES,2685;CRISISLEX_CRISISLEXREC,1824;LEADER,166;LEADER,4516;TAX_FNCACT_PRESIDENT,166;TAX_FNCACT_PRESIDENT,4516;USPEC_POLITICS_GENERAL1,166;USPEC_POLITICS_GENERAL1,4516;TAX_FNCACT_MINISTERS,294;GENERAL_GOVERNMENT,284;GENERAL_GOVERNMENT,459;GENERAL_GOVERNMENT,627;GENERAL_GOVERNMENT,1360;GENERAL_GOVERNMENT,4286;GENERAL_GOVERNMENT,5087;TAX_FNCACT_GOVERNMENT_MINISTERS,294;SCANDAL,233;IMMIGRATION,725;WB_2670_JOBS,725;WB_2769_JOBS_STRATEGIES,725;WB_2837_IMMIGRATION,725;WB_2836_MIGRATION_POLICIES_AND_JOBS,725;EDUCATION,869;EDUCATION,1226;EDUCATION,1582;EDUCATION,1944;EDUCATION,2491;EDUCATION,3278;EDUCATION,4005;EDUCATION,4618;TAX_FNCACT_PROFESSOR,869;TAX_FNCACT_PROFESSOR,1226;TAX_FNCACT_PROFESSOR,1582;TAX_FNCACT_PROFESSOR,1944;TAX_FNCACT_PROFESSOR,2491;TAX_FNCACT_PROFESSOR,3278;TAX_FNCACT_PROFESSOR,4005;TAX_FNCACT_PROFESSOR,4618;TAX_WORLDMAMMALS_HUMAN,190;TAX_WORLDMAMMALS_HUMAN,658;TAX_WORLDMAMMALS_HUMAN,3151;TAX_WORLDMAMMALS_HUMAN,3772;TAX_WORLDMAMMALS_HUMAN,3877;WB_678_DIGITAL_GOVERNMENT,475;WB_678_DIGITAL_GOVERNMENT,907;WB_694_BROADCAST_AND_MEDIA,475;WB_694_BROADCAST_AND_MEDIA,907;WB_133_INFORMATION_AND_COMMUNICATION_TECHNOLOGIES,475;WB_133_INFORMATION_AND_COMMUNICATION_TECHNOLOGIES,907;MANMADE_DISASTER_IMPLIED,3566;TAX_FNCACT_HUMANIST,3754;TAX_FNCACT_MINISTER,3980;TAX_FNCACT_MINISTER,4141;GENERAL_HEALTH,3200;MEDICAL,3200;TAX_FNCACT_BARRISTER,3379;TAX_FNCACT_ATTORNEY,4311;SELF_IDENTIFIED_HUMAN_RIGHTS,197;SELF_IDENTIFIED_HUMAN_RIGHTS,665;SELF_IDENTIFIED_HUMAN_RIGHTS,3158;SELF_IDENTIFIED_HUMAN_RIGHTS,3779;SELF_IDENTIFIED_HUMAN_RIGHTS,3884;WB_2203_HUMAN_RIGHTS,197;WB_2203_HUMAN_RIGHTS,665;WB_2203_HUMAN_RIGHTS,3158;WB_2203_HUMAN_RIGHTS,3779;WB_2203_HUMAN_RIGHTS,3884;WB_2432_FRAGILITY_CONFLICT_AND_VIOLENCE,197;WB_2432_FRAGILITY_CONFLICT_AND_VIOLENCE,665;WB_2432_FRAGILITY_CONFLICT_AND_VIOLENCE,3158;WB_2432_FRAGILITY_CONFLICT_AND_VIOLENCE,3779;WB_2432_FRAGILITY_CONFLICT_AND_VIOLENCE,3884;SOC_POINTSOFINTEREST_UNIVERSITY,1549;DEMOCRACY,1214;WB_696_PUBLIC_SECTOR_MANAGEMENT,735;WB_696_PUBLIC_SECTOR_MANAGEMENT,1681;WB_696_PUBLIC_SECTOR_MANAGEMENT,3032;WB_696_PUBLIC_SECTOR_MANAGEMENT,4843;WB_696_PUBLIC_SECTOR_MANAGEMENT,4979;WB_840_JUSTICE,735;WB_840_JUSTICE,1681;WB_840_JUSTICE,3032;WB_840_JUSTICE,4843;WB_840_JUSTICE,4979;WB_2495_DETENTION_PRISON_AND_CORRECTIONS_REFORM,735;WB_2495_DETENTION_PRISON_AND_CORRECTIONS_REFORM,1681;WB_2495_DETENTION_PRISON_AND_CORRECTIONS_REFORM,3032;WB_2495_DETENTION_PRISON_AND_CORRECTIONS_REFORM,4843;WB_2495_DETENTION_PRISON_AND_CORRECTIONS_REFORM,4979;WB_2470_PEACE_OPERATIONS_AND_CONFLICT_MANAGEMENT,735;WB_2470_PEACE_OPERATIONS_AND_CONFLICT_MANAGEMENT,1681;WB_2470_PEACE_OPERATIONS_AND_CONFLICT_MANAGEMENT,3032;WB_2470_PEACE_OPERATIONS_AND_CONFLICT_MANAGEMENT,4843;WB_2470_PEACE_OPERATIONS_AND_CONFLICT_MANAGEMENT,4979;WB_1014_CRIMINAL_JUSTICE,735;WB_1014_CRIMINAL_JUSTICE,1681;WB_1014_CRIMINAL_JUSTICE,3032;WB_1014_CRIMINAL_JUSTICE,4843;WB_1014_CRIMINAL_JUSTICE,4979;WB_2490_NATIONAL_PROTECTION_AND_SECURITY,735;WB_2490_NATIONAL_PROTECTION_AND_SECURITY,1681;WB_2490_NATIONAL_PROTECTION_AND_SECURITY,3032;WB_2490_NATIONAL_PROTECTION_AND_SECURITY,4843;WB_2490_NATIONAL_PROTECTION_AND_SECURITY,4979;RESIGNATION,501;RESIGNATION,994;SOC_POINTSOFINTEREST_AIRPORT,3548;WB_135_TRANSPORT,3548;WB_1803_TRANSPORT_INFRASTRUCTURE,3548;WB_1804_AIRPORTS,3548;TAX_WORLDLANGUAGES_MANUS,4988;LEGISLATION,1531;LEGISLATION,3162;TAX_FNCACT_CHILDREN,689;TAX_FNCACT_CHILDREN,1668;TAX_FNCACT_CHILDREN,3006;TAX_FNCACT_CHILDREN,3058;TAX_FNCACT_CHILDREN,3193;TAX_FNCACT_CHILDREN,4824;</td>\n",
       "      <td>gillian triggs;george brandis;malcolm turnbull;tony abbott</td>\n",
       "      <td>university of sydney;australian human rights commission</td>\n",
       "      <td>-1.13378684807256,3.40136054421769,4.53514739229025,7.93650793650794,19.9546485260771,0.793650793650794,792</td>\n",
       "    </tr>\n",
       "    <tr>\n",
       "      <th>1</th>\n",
       "      <td>https://www.fijitimes.com/fnrl-calls-for-support-of-the-fiji-pms-xiii/</td>\n",
       "      <td>1</td>\n",
       "      <td>fijitimes.com</td>\n",
       "      <td>https://www.fijitimes.com/fnrl-calls-for-support-of-the-fiji-pms-xiii/</td>\n",
       "      <td>TAX_ETHNICITY;TAX_ETHNICITY_FIJIANS;TAX_WORLDLANGUAGES;TAX_WORLDLANGUAGES_FIJIANS;</td>\n",
       "      <td>TAX_ETHNICITY_FIJIANS,48;TAX_WORLDLANGUAGES_FIJIANS,48;</td>\n",
       "      <td>NaN</td>\n",
       "      <td>fiji national rugby league;national stadium</td>\n",
       "      <td>6.89655172413793,6.89655172413793,0,6.89655172413793,20.6896551724138,1.72413793103448,53</td>\n",
       "    </tr>\n",
       "    <tr>\n",
       "      <th>2</th>\n",
       "      <td>https://www.rnz.co.nz/international/pacific-news/403896/png-leaders-cautious-ahead-of-bougainville-vote</td>\n",
       "      <td>1</td>\n",
       "      <td>rnz.co.nz</td>\n",
       "      <td>https://www.rnz.co.nz/international/pacific-news/403896/png-leaders-cautious-ahead-of-bougainville-vote</td>\n",
       "      <td>ARMEDCONFLICT;EPU_CATS_NATIONAL_SECURITY;REBELLION;WB_739_POLITICAL_VIOLENCE_AND_CIVIL_WAR;WB_738_SOCIAL_COHESION;WB_134_SOCIAL_DEVELOPMENT;TAX_FNCACT;TAX_FNCACT_COURIER;TAX_DISEASE;TAX_DISEASE_ANTICIPATION;TAX_FNCACT_LEADERS;TAX_FNCACT_NATIONAL_LEADERS;TAX_FNCACT_MINISTER;LEADER;TAX_FNCACT_PRIME_MINISTER;MEDIA_MSM;EPU_POLICY;EPU_POLICY_POLITICAL;EPU_ECONOMY;EPU_ECONOMY_HISTORIC;NEGOTIATIONS;WB_696_PUBLIC_SECTOR_MANAGEMENT;WB_840_JUSTICE;WB_2473_DIPLOMACY_AND_NEGOTIATIONS;WB_939_NEGOTIATION;WB_2470_PEACE_OPERATIONS_AND_CONFLICT_MANAGEMENT;WB_936_ALTERNATIVE_DISPUTE_RESOLUTION;WB_2432_FRAGILITY_CONFLICT_AND_VIOLENCE;WB_843_DISPUTE_RESOLUTION;WB_2471_PEACEKEEPING;TAX_FNCACT_MAN;TAX_FNCACT_FATHER;CRISISLEX_T11_UPDATESSYMPATHY;CRISISLEX_CRISISLEXREC;UNGP_FORESTS_RIVERS_OCEANS;TAX_FNCACT_PRESIDENT;USPEC_POLITICS_GENERAL1;LEGISLATION;EPU_POLICY_LAW;SLFID_RULE_OF_LAW;TAX_FNCACT_SECRETARY;TAX_FNCACT_SECRETARY_GENERAL;</td>\n",
       "      <td>TAX_FNCACT_SECRETARY_GENERAL,2888;TAX_FNCACT_SECRETARY_GENERAL,3138;TAX_FNCACT_SECRETARY_GENERAL,3208;EPU_POLICY_POLITICAL,1238;EPU_POLICY_POLITICAL,1410;MEDIA_MSM,966;ARMEDCONFLICT,390;EPU_CATS_NATIONAL_SECURITY,390;TAX_FNCACT_FATHER,1463;LEADER,592;LEADER,658;LEADER,923;LEADER,1501;LEADER,1663;LEADER,1705;LEADER,1763;LEADER,2275;TAX_FNCACT_PRIME_MINISTER,592;TAX_FNCACT_PRIME_MINISTER,658;TAX_FNCACT_PRIME_MINISTER,923;TAX_FNCACT_PRIME_MINISTER,1501;TAX_FNCACT_PRIME_MINISTER,1663;TAX_FNCACT_PRIME_MINISTER,1705;TAX_FNCACT_PRIME_MINISTER,1763;TAX_FNCACT_PRIME_MINISTER,2275;TAX_FNCACT_LEADERS,527;CRISISLEX_CRISISLEXREC,1969;EPU_ECONOMY,1283;EPU_ECONOMY_HISTORIC,1283;NEGOTIATIONS,1342;WB_696_PUBLIC_SECTOR_MANAGEMENT,1342;WB_840_JUSTICE,1342;WB_2473_DIPLOMACY_AND_NEGOTIATIONS,1342;WB_939_NEGOTIATION,1342;WB_2470_PEACE_OPERATIONS_AND_CONFLICT_MANAGEMENT,1342;WB_936_ALTERNATIVE_DISPUTE_RESOLUTION,1342;WB_2432_FRAGILITY_CONFLICT_AND_VIOLENCE,1342;WB_843_DISPUTE_RESOLUTION,1342;WB_2471_PEACEKEEPING,1342;TAX_FNCACT_NATIONAL_LEADERS,527;TAX_FNCACT_MINISTER,592;TAX_FNCACT_MINISTER,658;TAX_FNCACT_MINISTER,923;TAX_FNCACT_MINISTER,1501;TAX_FNCACT_MINISTER,1663;TAX_FNCACT_MINISTER,1705;TAX_FNCACT_MINISTER,1763;TAX_FNCACT_MINISTER,2275;TAX_FNCACT_COURIER,444;CRISISLEX_T11_UPDATESSYMPATHY,1550;TAX_DISEASE_ANTICIPATION,495;UNGP_FORESTS_RIVERS_OCEANS,2328;TAX_FNCACT_PRESIDENT,2518;TAX_FNCACT_PRESIDENT,2572;TAX_FNCACT_PRESIDENT,2674;USPEC_POLITICS_GENERAL1,2518;USPEC_POLITICS_GENERAL1,2572;USPEC_POLITICS_GENERAL1,2674;SLFID_RULE_OF_LAW,2630;REBELLION,390;WB_739_POLITICAL_VIOLENCE_AND_CIVIL_WAR,390;WB_738_SOCIAL_COHESION,390;WB_134_SOCIAL_DEVELOPMENT,390;LEGISLATION,2630;EPU_POLICY_LAW,2630;TAX_FNCACT_MAN,1443;TAX_FNCACT_SECRETARY,2880;TAX_FNCACT_SECRETARY,3130;TAX_FNCACT_SECRETARY,3200;</td>\n",
       "      <td>dame meg taylor;peter oneill;james marape;peter oneill peter oneill;john momis;michael somare</td>\n",
       "      <td>pacific islands forum;pacific islands forum dame meg taylor</td>\n",
       "      <td>1.49812734082397,2.80898876404494,1.31086142322097,4.11985018726592,24.3445692883895,0.374531835205993,535</td>\n",
       "    </tr>\n",
       "    <tr>\n",
       "      <th>3</th>\n",
       "      <td>http://www.cairnspost.com.au/news/national/thanks-for-the-interrogation-malcolm-turnbull-grilled-over-refugee-deal-by-lisa-wilkinson/news-story/41269d68d0d86892b6f78762a84175a7?nk=600da304f8523d714e239164dade7993-1479084418</td>\n",
       "      <td>1</td>\n",
       "      <td>cairnspost.com.au</td>\n",
       "      <td>http://www.cairnspost.com.au/news/national/thanks-for-the-interrogation-malcolm-turnbull-grilled-over-refugee-deal-by-lisa-wilkinson/news-story/41269d68d0d86892b6f78762a84175a7?nk=600da304f8523d714e239164dade7993-1479084418</td>\n",
       "      <td>TAX_FNCACT;TAX_FNCACT_MINISTER;LEADER;TAX_FNCACT_PRIME_MINISTER;NEGOTIATIONS;WB_696_PUBLIC_SECTOR_MANAGEMENT;WB_840_JUSTICE;WB_2473_DIPLOMACY_AND_NEGOTIATIONS;WB_939_NEGOTIATION;WB_2470_PEACE_OPERATIONS_AND_CONFLICT_MANAGEMENT;WB_936_ALTERNATIVE_DISPUTE_RESOLUTION;WB_2432_FRAGILITY_CONFLICT_AND_VIOLENCE;WB_843_DISPUTE_RESOLUTION;WB_2471_PEACEKEEPING;AFFECT;REFUGEES;EPU_CATS_MIGRATION_FEAR_MIGRATION;WB_2480_POST_CONFLICT_RECONSTRUCTION;WB_2488_POPULATION_RESETTLEMENT;WB_2665_REFUGEE_RESETTLEMENT;TAX_ETHNICITY;TAX_ETHNICITY_AMERICANS;CRISISLEX_C07_SAFETY;GENERAL_HEALTH;MEDICAL;TAX_FNCACT_VETERAN;CRISISLEX_T11_UPDATESSYMPATHY;UNGP_FORESTS_RIVERS_OCEANS;GENERAL_GOVERNMENT;EPU_POLICY;EPU_POLICY_GOVERNMENT;TAX_FNCACT_PRESIDENT;USPEC_POLITICS_GENERAL1;DISCRIMINATION_IMMIGRATION;DISCRIMINATION_IMMIGRATION_ANTIIMMIGRATION;WB_2490_NATIONAL_PROTECTION_AND_SECURITY;EPU_CATS_NATIONAL_SECURITY;ARREST;TAX_WORLDLANGUAGES;TAX_WORLDLANGUAGES_MANUS;TAX_FNCACT_SECRETARY;TAX_FNCACT_SECRETARY_OF_STATE;</td>\n",
       "      <td>GENERAL_GOVERNMENT,1393;GENERAL_GOVERNMENT,2409;EPU_POLICY_GOVERNMENT,1393;EPU_POLICY_GOVERNMENT,2409;LEADER,14;TAX_FNCACT_PRIME_MINISTER,14;TAX_FNCACT_VETERAN,1022;TAX_ETHNICITY_AMERICANS,412;CRISISLEX_C07_SAFETY,453;CRISISLEX_C07_SAFETY,2856;NEGOTIATIONS,201;WB_696_PUBLIC_SECTOR_MANAGEMENT,201;WB_840_JUSTICE,201;WB_2473_DIPLOMACY_AND_NEGOTIATIONS,201;WB_939_NEGOTIATION,201;WB_2470_PEACE_OPERATIONS_AND_CONFLICT_MANAGEMENT,201;WB_936_ALTERNATIVE_DISPUTE_RESOLUTION,201;WB_2432_FRAGILITY_CONFLICT_AND_VIOLENCE,201;WB_843_DISPUTE_RESOLUTION,201;WB_2471_PEACEKEEPING,201;DISCRIMINATION_IMMIGRATION_ANTIIMMIGRATION,2453;CRISISLEX_T11_UPDATESSYMPATHY,1081;TAX_FNCACT_MINISTER,14;GENERAL_HEALTH,462;MEDICAL,462;TAX_FNCACT_SECRETARY_OF_STATE,3011;WB_2480_POST_CONFLICT_RECONSTRUCTION,269;WB_2480_POST_CONFLICT_RECONSTRUCTION,562;WB_2480_POST_CONFLICT_RECONSTRUCTION,726;WB_2488_POPULATION_RESETTLEMENT,269;WB_2488_POPULATION_RESETTLEMENT,562;WB_2488_POPULATION_RESETTLEMENT,726;WB_2490_NATIONAL_PROTECTION_AND_SECURITY,2856;EPU_CATS_NATIONAL_SECURITY,2856;UNGP_FORESTS_RIVERS_OCEANS,1099;UNGP_FORESTS_RIVERS_OCEANS,1201;UNGP_FORESTS_RIVERS_OCEANS,2000;TAX_FNCACT_PRESIDENT,1767;TAX_FNCACT_PRESIDENT,1855;TAX_FNCACT_PRESIDENT,2362;TAX_FNCACT_PRESIDENT,2577;USPEC_POLITICS_GENERAL1,1767;USPEC_POLITICS_GENERAL1,1855;USPEC_POLITICS_GENERAL1,2362;USPEC_POLITICS_GENERAL1,2577;ARREST,2937;TAX_WORLDLANGUAGES_MANUS,2946;WB_2665_REFUGEE_RESETTLEMENT,269;AFFECT,256;REFUGEES,256;EPU_CATS_MIGRATION_FEAR_MIGRATION,256;TAX_FNCACT_SECRETARY,3002;</td>\n",
       "      <td>john kerry;donald trump;barack obama;lisa wilkinson;malcolm turnbull;chris reason</td>\n",
       "      <td>united states</td>\n",
       "      <td>-1.35396518375242,2.12765957446809,3.4816247582205,5.60928433268859,23.4042553191489,2.321083172147,447</td>\n",
       "    </tr>\n",
       "    <tr>\n",
       "      <th>4</th>\n",
       "      <td>http://www.winonadailynews.com/news/state-and-regional/mn/old-driver-s-license-you-can-still-fly-for-more/article_66d59368-5748-5759-9859-addc6ee8656a.html</td>\n",
       "      <td>1</td>\n",
       "      <td>winonadailynews.com</td>\n",
       "      <td>http://www.winonadailynews.com/news/state-and-regional/mn/old-driver-s-license-you-can-still-fly-for-more/article_66d59368-5748-5759-9859-addc6ee8656a.html</td>\n",
       "      <td>TAX_FNCACT;TAX_FNCACT_DRIVER;SOC_POINTSOFINTEREST;SOC_POINTSOFINTEREST_AIRPORT;WB_135_TRANSPORT;WB_1803_TRANSPORT_INFRASTRUCTURE;WB_1804_AIRPORTS;CRISISLEX_C07_SAFETY;SEIGE;CHECKPOINT;UNREST_CHECKPOINT;SOC_USSECURITYAGENCIES;LEGISLATION;EPU_POLICY;EPU_POLICY_LAW;GENERAL_GOVERNMENT;USPEC_POLITICS_GENERAL1;EPU_POLICY_CONGRESS;TERROR;ARMEDCONFLICT;CRISISLEX_CRISISLEXREC;DELAY;USPEC_UNCERTAINTY1;CRISISLEX_C04_LOGISTICS_TRANSPORT;WB_1921_PRIVATE_SECTOR_DEVELOPMENT;WB_405_BUSINESS_CLIMATE;WB_2531_INSPECTIONS_LICENSING_AND_PERMITS;WB_2530_BUSINESS_ENVIRONMENT;TAX_FNCACT_EMPLOYEES;TAX_ETHNICITY;TAX_ETHNICITY_AMERICAN;TAX_FNCACT_OFFICIALS;</td>\n",
       "      <td>SEIGE,169;CHECKPOINT,169;UNREST_CHECKPOINT,169;DELAY,867;USPEC_UNCERTAINTY1,867;CRISISLEX_C04_LOGISTICS_TRANSPORT,867;TERROR,796;ARMEDCONFLICT,796;CRISISLEX_CRISISLEXREC,817;SOC_USSECURITYAGENCIES,252;TAX_FNCACT_DRIVER,69;TAX_FNCACT_DRIVER,572;TAX_FNCACT_DRIVER,1119;TAX_FNCACT_DRIVER,1547;CRISISLEX_C07_SAFETY,157;CRISISLEX_C07_SAFETY,237;CRISISLEX_C07_SAFETY,424;CRISISLEX_C07_SAFETY,762;SOC_POINTSOFINTEREST_AIRPORT,148;WB_135_TRANSPORT,148;WB_1803_TRANSPORT_INFRASTRUCTURE,148;WB_1804_AIRPORTS,148;GENERAL_GOVERNMENT,696;USPEC_POLITICS_GENERAL1,696;EPU_POLICY_CONGRESS,696;TAX_FNCACT_OFFICIALS,1647;LEGISLATION,297;LEGISLATION,1494;EPU_POLICY_LAW,297;EPU_POLICY_LAW,1494;TAX_FNCACT_EMPLOYEES,1092;TAX_ETHNICITY_AMERICAN,1386;WB_1921_PRIVATE_SECTOR_DEVELOPMENT,884;WB_1921_PRIVATE_SECTOR_DEVELOPMENT,1555;WB_405_BUSINESS_CLIMATE,884;WB_405_BUSINESS_CLIMATE,1555;WB_2531_INSPECTIONS_LICENSING_AND_PERMITS,884;WB_2531_INSPECTIONS_LICENSING_AND_PERMITS,1555;WB_2530_BUSINESS_ENVIRONMENT,884;WB_2530_BUSINESS_ENVIRONMENT,1555;</td>\n",
       "      <td>NaN</td>\n",
       "      <td>transportation security administration;department of homeland security</td>\n",
       "      <td>-2.0979020979021,2.0979020979021,4.1958041958042,6.29370629370629,22.3776223776224,0,246</td>\n",
       "    </tr>\n",
       "  </tbody>\n",
       "</table>\n",
       "</div>"
      ],
      "text/plain": [
       "                                                                                                                                                                                                                 MentionIdentifier  \\\n",
       "0                                                                                                               http://www.theherald.com.au/story/3544278/gillian-triggs-opens-up-about-ham-fisted-behaviour-of-abbott-government/   \n",
       "1                                                                                                                                                           https://www.fijitimes.com/fnrl-calls-for-support-of-the-fiji-pms-xiii/   \n",
       "2                                                                                                                          https://www.rnz.co.nz/international/pacific-news/403896/png-leaders-cautious-ahead-of-bougainville-vote   \n",
       "3  http://www.cairnspost.com.au/news/national/thanks-for-the-interrogation-malcolm-turnbull-grilled-over-refugee-deal-by-lisa-wilkinson/news-story/41269d68d0d86892b6f78762a84175a7?nk=600da304f8523d714e239164dade7993-1479084418   \n",
       "4                                                                      http://www.winonadailynews.com/news/state-and-regional/mn/old-driver-s-license-you-can-still-fly-for-more/article_66d59368-5748-5759-9859-addc6ee8656a.html   \n",
       "\n",
       "   SourceCollectionIdentifier     SourceCommonName  \\\n",
       "0                           1     theherald.com.au   \n",
       "1                           1        fijitimes.com   \n",
       "2                           1            rnz.co.nz   \n",
       "3                           1    cairnspost.com.au   \n",
       "4                           1  winonadailynews.com   \n",
       "\n",
       "                                                                                                                                                                                                                DocumentIdentifier  \\\n",
       "0                                                                                                               http://www.theherald.com.au/story/3544278/gillian-triggs-opens-up-about-ham-fisted-behaviour-of-abbott-government/   \n",
       "1                                                                                                                                                           https://www.fijitimes.com/fnrl-calls-for-support-of-the-fiji-pms-xiii/   \n",
       "2                                                                                                                          https://www.rnz.co.nz/international/pacific-news/403896/png-leaders-cautious-ahead-of-bougainville-vote   \n",
       "3  http://www.cairnspost.com.au/news/national/thanks-for-the-interrogation-malcolm-turnbull-grilled-over-refugee-deal-by-lisa-wilkinson/news-story/41269d68d0d86892b6f78762a84175a7?nk=600da304f8523d714e239164dade7993-1479084418   \n",
       "4                                                                      http://www.winonadailynews.com/news/state-and-regional/mn/old-driver-s-license-you-can-still-fly-for-more/article_66d59368-5748-5759-9859-addc6ee8656a.html   \n",
       "\n",
       "                                                                                                                                                                                                                                                                                                                                                                                                                                                                                                                                                                                                                                                                                                                                                                                                                                                                                                                                                                                                                                                                                                                                                                                                                                                                                                                   Themes  \\\n",
       "0  LEADER;TAX_FNCACT;TAX_FNCACT_PRESIDENT;USPEC_POLITICS_GENERAL1;TAX_ETHNICITY;TAX_ETHNICITY_AUSTRALIAN;TAX_WORLDMAMMALS;TAX_WORLDMAMMALS_HUMAN;SELF_IDENTIFIED_HUMAN_RIGHTS;WB_2203_HUMAN_RIGHTS;WB_2432_FRAGILITY_CONFLICT_AND_VIOLENCE;SCANDAL;GENERAL_GOVERNMENT;TAX_FNCACT_MINISTERS;TAX_FNCACT_GOVERNMENT_MINISTERS;WB_678_DIGITAL_GOVERNMENT;WB_694_BROADCAST_AND_MEDIA;WB_133_INFORMATION_AND_COMMUNICATION_TECHNOLOGIES;RESIGNATION;TAX_FNCACT_CHILDREN;IMMIGRATION;WB_2670_JOBS;WB_2769_JOBS_STRATEGIES;WB_2837_IMMIGRATION;WB_2836_MIGRATION_POLICIES_AND_JOBS;WB_696_PUBLIC_SECTOR_MANAGEMENT;WB_840_JUSTICE;WB_2495_DETENTION_PRISON_AND_CORRECTIONS_REFORM;WB_2470_PEACE_OPERATIONS_AND_CONFLICT_MANAGEMENT;WB_1014_CRIMINAL_JUSTICE;WB_2490_NATIONAL_PROTECTION_AND_SECURITY;EDUCATION;TAX_FNCACT_PROFESSOR;DEMOCRACY;TRIAL;TAX_FNCACT_LAWYER;LEGISLATION;SOC_POINTSOFINTEREST;SOC_POINTSOFINTEREST_UNIVERSITY;CRISISLEX_CRISISLEXREC;TAX_FNCACT_WOMAN;TAX_FNCACT_JUDGES;BULLYING;AFFECT;REFUGEES;GENERAL_HEALTH;MEDICAL;TAX_FNCACT_BARRISTER;SOC_POINTSOFINTEREST_AIRPORT;WB_135_TRANSPORT;WB_1803_TRANSPORT_INFRASTRUCTURE;WB_1804_AIRPORTS;MANMADE_DISASTER_IMPLIED;TAX_FNCACT_HUMANIST;TAX_FNCACT_MINISTER;TAX_FNCACT_PRIME_MINISTER;TAX_FNCACT_ATTORNEY;TAX_WORLDLANGUAGES;TAX_WORLDLANGUAGES_MANUS;   \n",
       "1                                                                                                                                                                                                                                                                                                                                                                                                                                                                                                                                                                                                                                                                                                                                                                                                                                                                                                                                                                                                                                                                                                                                                                                                                                      TAX_ETHNICITY;TAX_ETHNICITY_FIJIANS;TAX_WORLDLANGUAGES;TAX_WORLDLANGUAGES_FIJIANS;   \n",
       "2                                                                                                                                                                                                                                                                                                                                                             ARMEDCONFLICT;EPU_CATS_NATIONAL_SECURITY;REBELLION;WB_739_POLITICAL_VIOLENCE_AND_CIVIL_WAR;WB_738_SOCIAL_COHESION;WB_134_SOCIAL_DEVELOPMENT;TAX_FNCACT;TAX_FNCACT_COURIER;TAX_DISEASE;TAX_DISEASE_ANTICIPATION;TAX_FNCACT_LEADERS;TAX_FNCACT_NATIONAL_LEADERS;TAX_FNCACT_MINISTER;LEADER;TAX_FNCACT_PRIME_MINISTER;MEDIA_MSM;EPU_POLICY;EPU_POLICY_POLITICAL;EPU_ECONOMY;EPU_ECONOMY_HISTORIC;NEGOTIATIONS;WB_696_PUBLIC_SECTOR_MANAGEMENT;WB_840_JUSTICE;WB_2473_DIPLOMACY_AND_NEGOTIATIONS;WB_939_NEGOTIATION;WB_2470_PEACE_OPERATIONS_AND_CONFLICT_MANAGEMENT;WB_936_ALTERNATIVE_DISPUTE_RESOLUTION;WB_2432_FRAGILITY_CONFLICT_AND_VIOLENCE;WB_843_DISPUTE_RESOLUTION;WB_2471_PEACEKEEPING;TAX_FNCACT_MAN;TAX_FNCACT_FATHER;CRISISLEX_T11_UPDATESSYMPATHY;CRISISLEX_CRISISLEXREC;UNGP_FORESTS_RIVERS_OCEANS;TAX_FNCACT_PRESIDENT;USPEC_POLITICS_GENERAL1;LEGISLATION;EPU_POLICY_LAW;SLFID_RULE_OF_LAW;TAX_FNCACT_SECRETARY;TAX_FNCACT_SECRETARY_GENERAL;   \n",
       "3                                                                                                                                                                                                                                                                                     TAX_FNCACT;TAX_FNCACT_MINISTER;LEADER;TAX_FNCACT_PRIME_MINISTER;NEGOTIATIONS;WB_696_PUBLIC_SECTOR_MANAGEMENT;WB_840_JUSTICE;WB_2473_DIPLOMACY_AND_NEGOTIATIONS;WB_939_NEGOTIATION;WB_2470_PEACE_OPERATIONS_AND_CONFLICT_MANAGEMENT;WB_936_ALTERNATIVE_DISPUTE_RESOLUTION;WB_2432_FRAGILITY_CONFLICT_AND_VIOLENCE;WB_843_DISPUTE_RESOLUTION;WB_2471_PEACEKEEPING;AFFECT;REFUGEES;EPU_CATS_MIGRATION_FEAR_MIGRATION;WB_2480_POST_CONFLICT_RECONSTRUCTION;WB_2488_POPULATION_RESETTLEMENT;WB_2665_REFUGEE_RESETTLEMENT;TAX_ETHNICITY;TAX_ETHNICITY_AMERICANS;CRISISLEX_C07_SAFETY;GENERAL_HEALTH;MEDICAL;TAX_FNCACT_VETERAN;CRISISLEX_T11_UPDATESSYMPATHY;UNGP_FORESTS_RIVERS_OCEANS;GENERAL_GOVERNMENT;EPU_POLICY;EPU_POLICY_GOVERNMENT;TAX_FNCACT_PRESIDENT;USPEC_POLITICS_GENERAL1;DISCRIMINATION_IMMIGRATION;DISCRIMINATION_IMMIGRATION_ANTIIMMIGRATION;WB_2490_NATIONAL_PROTECTION_AND_SECURITY;EPU_CATS_NATIONAL_SECURITY;ARREST;TAX_WORLDLANGUAGES;TAX_WORLDLANGUAGES_MANUS;TAX_FNCACT_SECRETARY;TAX_FNCACT_SECRETARY_OF_STATE;   \n",
       "4                                                                                                                                                                                                                                                                                                                                                                                                                                                                                                                                                                                                                                                          TAX_FNCACT;TAX_FNCACT_DRIVER;SOC_POINTSOFINTEREST;SOC_POINTSOFINTEREST_AIRPORT;WB_135_TRANSPORT;WB_1803_TRANSPORT_INFRASTRUCTURE;WB_1804_AIRPORTS;CRISISLEX_C07_SAFETY;SEIGE;CHECKPOINT;UNREST_CHECKPOINT;SOC_USSECURITYAGENCIES;LEGISLATION;EPU_POLICY;EPU_POLICY_LAW;GENERAL_GOVERNMENT;USPEC_POLITICS_GENERAL1;EPU_POLICY_CONGRESS;TERROR;ARMEDCONFLICT;CRISISLEX_CRISISLEXREC;DELAY;USPEC_UNCERTAINTY1;CRISISLEX_C04_LOGISTICS_TRANSPORT;WB_1921_PRIVATE_SECTOR_DEVELOPMENT;WB_405_BUSINESS_CLIMATE;WB_2531_INSPECTIONS_LICENSING_AND_PERMITS;WB_2530_BUSINESS_ENVIRONMENT;TAX_FNCACT_EMPLOYEES;TAX_ETHNICITY;TAX_ETHNICITY_AMERICAN;TAX_FNCACT_OFFICIALS;   \n",
       "\n",
       "                                                                                                                                                                                                                                                                                                                                                                                                                                                                                                                                                                                                                                                                                                                                                                                                                                                                                                                                                                                                                                                                                                                                                                                                                                                                                                                                                                                                                                                                                                                                                                                                                                                                                                                                                                                                                                                                                                                                                                                                                                                                                                                                                                                                                                                                                                                                                                                                                                                                                                                                                                                                                                                                                                                                                                                                                                                                                                                                                                                                                                                                                                                                                                                                                                                                                                                                                                                                                                                                                                                                                                                                                                                                                                                                                                                                                                                                                                                                              V2Themes  \\\n",
       "0  TAX_FNCACT_WOMAN,2155;TAX_FNCACT_WOMAN,2640;TAX_FNCACT_PRIME_MINISTER,3980;TAX_FNCACT_PRIME_MINISTER,4141;TRIAL,1463;TAX_FNCACT_LAWYER,1463;TAX_ETHNICITY_AUSTRALIAN,184;TAX_ETHNICITY_AUSTRALIAN,2551;AFFECT,3042;AFFECT,3790;REFUGEES,3042;REFUGEES,3790;BULLYING,2926;TAX_FNCACT_JUDGES,2685;CRISISLEX_CRISISLEXREC,1824;LEADER,166;LEADER,4516;TAX_FNCACT_PRESIDENT,166;TAX_FNCACT_PRESIDENT,4516;USPEC_POLITICS_GENERAL1,166;USPEC_POLITICS_GENERAL1,4516;TAX_FNCACT_MINISTERS,294;GENERAL_GOVERNMENT,284;GENERAL_GOVERNMENT,459;GENERAL_GOVERNMENT,627;GENERAL_GOVERNMENT,1360;GENERAL_GOVERNMENT,4286;GENERAL_GOVERNMENT,5087;TAX_FNCACT_GOVERNMENT_MINISTERS,294;SCANDAL,233;IMMIGRATION,725;WB_2670_JOBS,725;WB_2769_JOBS_STRATEGIES,725;WB_2837_IMMIGRATION,725;WB_2836_MIGRATION_POLICIES_AND_JOBS,725;EDUCATION,869;EDUCATION,1226;EDUCATION,1582;EDUCATION,1944;EDUCATION,2491;EDUCATION,3278;EDUCATION,4005;EDUCATION,4618;TAX_FNCACT_PROFESSOR,869;TAX_FNCACT_PROFESSOR,1226;TAX_FNCACT_PROFESSOR,1582;TAX_FNCACT_PROFESSOR,1944;TAX_FNCACT_PROFESSOR,2491;TAX_FNCACT_PROFESSOR,3278;TAX_FNCACT_PROFESSOR,4005;TAX_FNCACT_PROFESSOR,4618;TAX_WORLDMAMMALS_HUMAN,190;TAX_WORLDMAMMALS_HUMAN,658;TAX_WORLDMAMMALS_HUMAN,3151;TAX_WORLDMAMMALS_HUMAN,3772;TAX_WORLDMAMMALS_HUMAN,3877;WB_678_DIGITAL_GOVERNMENT,475;WB_678_DIGITAL_GOVERNMENT,907;WB_694_BROADCAST_AND_MEDIA,475;WB_694_BROADCAST_AND_MEDIA,907;WB_133_INFORMATION_AND_COMMUNICATION_TECHNOLOGIES,475;WB_133_INFORMATION_AND_COMMUNICATION_TECHNOLOGIES,907;MANMADE_DISASTER_IMPLIED,3566;TAX_FNCACT_HUMANIST,3754;TAX_FNCACT_MINISTER,3980;TAX_FNCACT_MINISTER,4141;GENERAL_HEALTH,3200;MEDICAL,3200;TAX_FNCACT_BARRISTER,3379;TAX_FNCACT_ATTORNEY,4311;SELF_IDENTIFIED_HUMAN_RIGHTS,197;SELF_IDENTIFIED_HUMAN_RIGHTS,665;SELF_IDENTIFIED_HUMAN_RIGHTS,3158;SELF_IDENTIFIED_HUMAN_RIGHTS,3779;SELF_IDENTIFIED_HUMAN_RIGHTS,3884;WB_2203_HUMAN_RIGHTS,197;WB_2203_HUMAN_RIGHTS,665;WB_2203_HUMAN_RIGHTS,3158;WB_2203_HUMAN_RIGHTS,3779;WB_2203_HUMAN_RIGHTS,3884;WB_2432_FRAGILITY_CONFLICT_AND_VIOLENCE,197;WB_2432_FRAGILITY_CONFLICT_AND_VIOLENCE,665;WB_2432_FRAGILITY_CONFLICT_AND_VIOLENCE,3158;WB_2432_FRAGILITY_CONFLICT_AND_VIOLENCE,3779;WB_2432_FRAGILITY_CONFLICT_AND_VIOLENCE,3884;SOC_POINTSOFINTEREST_UNIVERSITY,1549;DEMOCRACY,1214;WB_696_PUBLIC_SECTOR_MANAGEMENT,735;WB_696_PUBLIC_SECTOR_MANAGEMENT,1681;WB_696_PUBLIC_SECTOR_MANAGEMENT,3032;WB_696_PUBLIC_SECTOR_MANAGEMENT,4843;WB_696_PUBLIC_SECTOR_MANAGEMENT,4979;WB_840_JUSTICE,735;WB_840_JUSTICE,1681;WB_840_JUSTICE,3032;WB_840_JUSTICE,4843;WB_840_JUSTICE,4979;WB_2495_DETENTION_PRISON_AND_CORRECTIONS_REFORM,735;WB_2495_DETENTION_PRISON_AND_CORRECTIONS_REFORM,1681;WB_2495_DETENTION_PRISON_AND_CORRECTIONS_REFORM,3032;WB_2495_DETENTION_PRISON_AND_CORRECTIONS_REFORM,4843;WB_2495_DETENTION_PRISON_AND_CORRECTIONS_REFORM,4979;WB_2470_PEACE_OPERATIONS_AND_CONFLICT_MANAGEMENT,735;WB_2470_PEACE_OPERATIONS_AND_CONFLICT_MANAGEMENT,1681;WB_2470_PEACE_OPERATIONS_AND_CONFLICT_MANAGEMENT,3032;WB_2470_PEACE_OPERATIONS_AND_CONFLICT_MANAGEMENT,4843;WB_2470_PEACE_OPERATIONS_AND_CONFLICT_MANAGEMENT,4979;WB_1014_CRIMINAL_JUSTICE,735;WB_1014_CRIMINAL_JUSTICE,1681;WB_1014_CRIMINAL_JUSTICE,3032;WB_1014_CRIMINAL_JUSTICE,4843;WB_1014_CRIMINAL_JUSTICE,4979;WB_2490_NATIONAL_PROTECTION_AND_SECURITY,735;WB_2490_NATIONAL_PROTECTION_AND_SECURITY,1681;WB_2490_NATIONAL_PROTECTION_AND_SECURITY,3032;WB_2490_NATIONAL_PROTECTION_AND_SECURITY,4843;WB_2490_NATIONAL_PROTECTION_AND_SECURITY,4979;RESIGNATION,501;RESIGNATION,994;SOC_POINTSOFINTEREST_AIRPORT,3548;WB_135_TRANSPORT,3548;WB_1803_TRANSPORT_INFRASTRUCTURE,3548;WB_1804_AIRPORTS,3548;TAX_WORLDLANGUAGES_MANUS,4988;LEGISLATION,1531;LEGISLATION,3162;TAX_FNCACT_CHILDREN,689;TAX_FNCACT_CHILDREN,1668;TAX_FNCACT_CHILDREN,3006;TAX_FNCACT_CHILDREN,3058;TAX_FNCACT_CHILDREN,3193;TAX_FNCACT_CHILDREN,4824;   \n",
       "1                                                                                                                                                                                                                                                                                                                                                                                                                                                                                                                                                                                                                                                                                                                                                                                                                                                                                                                                                                                                                                                                                                                                                                                                                                                                                                                                                                                                                                                                                                                                                                                                                                                                                                                                                                                                                                                                                                                                                                                                                                                                                                                                                                                                                                                                                                                                                                                                                                                                                                                                                                                                                                                                                                                                                                                                                                                                                                                                                                                                                                                                                                                                                                                                                                                                                                                                                                                                                                                                                                                                                                                                                                                                                                                                                                                                                                                                                              TAX_ETHNICITY_FIJIANS,48;TAX_WORLDLANGUAGES_FIJIANS,48;   \n",
       "2                                                                                                                                                                                                                                                                                                                                                                                                                                                                                                                                                                                                                                                                                                                                                                                                                                                                                                                                                                                                                                                                                                                                                                                                                                                                                                                                                                                                                                                                                                                                                                                                                                                                                                                                                                                                                                                                                                                                                                                                                                                                                 TAX_FNCACT_SECRETARY_GENERAL,2888;TAX_FNCACT_SECRETARY_GENERAL,3138;TAX_FNCACT_SECRETARY_GENERAL,3208;EPU_POLICY_POLITICAL,1238;EPU_POLICY_POLITICAL,1410;MEDIA_MSM,966;ARMEDCONFLICT,390;EPU_CATS_NATIONAL_SECURITY,390;TAX_FNCACT_FATHER,1463;LEADER,592;LEADER,658;LEADER,923;LEADER,1501;LEADER,1663;LEADER,1705;LEADER,1763;LEADER,2275;TAX_FNCACT_PRIME_MINISTER,592;TAX_FNCACT_PRIME_MINISTER,658;TAX_FNCACT_PRIME_MINISTER,923;TAX_FNCACT_PRIME_MINISTER,1501;TAX_FNCACT_PRIME_MINISTER,1663;TAX_FNCACT_PRIME_MINISTER,1705;TAX_FNCACT_PRIME_MINISTER,1763;TAX_FNCACT_PRIME_MINISTER,2275;TAX_FNCACT_LEADERS,527;CRISISLEX_CRISISLEXREC,1969;EPU_ECONOMY,1283;EPU_ECONOMY_HISTORIC,1283;NEGOTIATIONS,1342;WB_696_PUBLIC_SECTOR_MANAGEMENT,1342;WB_840_JUSTICE,1342;WB_2473_DIPLOMACY_AND_NEGOTIATIONS,1342;WB_939_NEGOTIATION,1342;WB_2470_PEACE_OPERATIONS_AND_CONFLICT_MANAGEMENT,1342;WB_936_ALTERNATIVE_DISPUTE_RESOLUTION,1342;WB_2432_FRAGILITY_CONFLICT_AND_VIOLENCE,1342;WB_843_DISPUTE_RESOLUTION,1342;WB_2471_PEACEKEEPING,1342;TAX_FNCACT_NATIONAL_LEADERS,527;TAX_FNCACT_MINISTER,592;TAX_FNCACT_MINISTER,658;TAX_FNCACT_MINISTER,923;TAX_FNCACT_MINISTER,1501;TAX_FNCACT_MINISTER,1663;TAX_FNCACT_MINISTER,1705;TAX_FNCACT_MINISTER,1763;TAX_FNCACT_MINISTER,2275;TAX_FNCACT_COURIER,444;CRISISLEX_T11_UPDATESSYMPATHY,1550;TAX_DISEASE_ANTICIPATION,495;UNGP_FORESTS_RIVERS_OCEANS,2328;TAX_FNCACT_PRESIDENT,2518;TAX_FNCACT_PRESIDENT,2572;TAX_FNCACT_PRESIDENT,2674;USPEC_POLITICS_GENERAL1,2518;USPEC_POLITICS_GENERAL1,2572;USPEC_POLITICS_GENERAL1,2674;SLFID_RULE_OF_LAW,2630;REBELLION,390;WB_739_POLITICAL_VIOLENCE_AND_CIVIL_WAR,390;WB_738_SOCIAL_COHESION,390;WB_134_SOCIAL_DEVELOPMENT,390;LEGISLATION,2630;EPU_POLICY_LAW,2630;TAX_FNCACT_MAN,1443;TAX_FNCACT_SECRETARY,2880;TAX_FNCACT_SECRETARY,3130;TAX_FNCACT_SECRETARY,3200;   \n",
       "3                                                                                                                                                                                                                                                                                                                                                                                                                                                                                                                                                                                                                                                                                                                                                                                                                                                                                                                                                                                                                                                                                                                                                                                                                                                                                                                                                                                                                                                                                                                                                                                                                                                                                                                                                                                                                                                                                                                                                                                                                                                                                                                                                                                                                                                                                                                                                         GENERAL_GOVERNMENT,1393;GENERAL_GOVERNMENT,2409;EPU_POLICY_GOVERNMENT,1393;EPU_POLICY_GOVERNMENT,2409;LEADER,14;TAX_FNCACT_PRIME_MINISTER,14;TAX_FNCACT_VETERAN,1022;TAX_ETHNICITY_AMERICANS,412;CRISISLEX_C07_SAFETY,453;CRISISLEX_C07_SAFETY,2856;NEGOTIATIONS,201;WB_696_PUBLIC_SECTOR_MANAGEMENT,201;WB_840_JUSTICE,201;WB_2473_DIPLOMACY_AND_NEGOTIATIONS,201;WB_939_NEGOTIATION,201;WB_2470_PEACE_OPERATIONS_AND_CONFLICT_MANAGEMENT,201;WB_936_ALTERNATIVE_DISPUTE_RESOLUTION,201;WB_2432_FRAGILITY_CONFLICT_AND_VIOLENCE,201;WB_843_DISPUTE_RESOLUTION,201;WB_2471_PEACEKEEPING,201;DISCRIMINATION_IMMIGRATION_ANTIIMMIGRATION,2453;CRISISLEX_T11_UPDATESSYMPATHY,1081;TAX_FNCACT_MINISTER,14;GENERAL_HEALTH,462;MEDICAL,462;TAX_FNCACT_SECRETARY_OF_STATE,3011;WB_2480_POST_CONFLICT_RECONSTRUCTION,269;WB_2480_POST_CONFLICT_RECONSTRUCTION,562;WB_2480_POST_CONFLICT_RECONSTRUCTION,726;WB_2488_POPULATION_RESETTLEMENT,269;WB_2488_POPULATION_RESETTLEMENT,562;WB_2488_POPULATION_RESETTLEMENT,726;WB_2490_NATIONAL_PROTECTION_AND_SECURITY,2856;EPU_CATS_NATIONAL_SECURITY,2856;UNGP_FORESTS_RIVERS_OCEANS,1099;UNGP_FORESTS_RIVERS_OCEANS,1201;UNGP_FORESTS_RIVERS_OCEANS,2000;TAX_FNCACT_PRESIDENT,1767;TAX_FNCACT_PRESIDENT,1855;TAX_FNCACT_PRESIDENT,2362;TAX_FNCACT_PRESIDENT,2577;USPEC_POLITICS_GENERAL1,1767;USPEC_POLITICS_GENERAL1,1855;USPEC_POLITICS_GENERAL1,2362;USPEC_POLITICS_GENERAL1,2577;ARREST,2937;TAX_WORLDLANGUAGES_MANUS,2946;WB_2665_REFUGEE_RESETTLEMENT,269;AFFECT,256;REFUGEES,256;EPU_CATS_MIGRATION_FEAR_MIGRATION,256;TAX_FNCACT_SECRETARY,3002;   \n",
       "4                                                                                                                                                                                                                                                                                                                                                                                                                                                                                                                                                                                                                                                                                                                                                                                                                                                                                                                                                                                                                                                                                                                                                                                                                                                                                                                                                                                                                                                                                                                                                                                                                                                                                                                                                                                                                                                                                                                                                                                                                                                                                                                                                                                                                                                                                                                                                                                                                                                                                                                                                                                                                                                                                                                                                                                                                                                                                    SEIGE,169;CHECKPOINT,169;UNREST_CHECKPOINT,169;DELAY,867;USPEC_UNCERTAINTY1,867;CRISISLEX_C04_LOGISTICS_TRANSPORT,867;TERROR,796;ARMEDCONFLICT,796;CRISISLEX_CRISISLEXREC,817;SOC_USSECURITYAGENCIES,252;TAX_FNCACT_DRIVER,69;TAX_FNCACT_DRIVER,572;TAX_FNCACT_DRIVER,1119;TAX_FNCACT_DRIVER,1547;CRISISLEX_C07_SAFETY,157;CRISISLEX_C07_SAFETY,237;CRISISLEX_C07_SAFETY,424;CRISISLEX_C07_SAFETY,762;SOC_POINTSOFINTEREST_AIRPORT,148;WB_135_TRANSPORT,148;WB_1803_TRANSPORT_INFRASTRUCTURE,148;WB_1804_AIRPORTS,148;GENERAL_GOVERNMENT,696;USPEC_POLITICS_GENERAL1,696;EPU_POLICY_CONGRESS,696;TAX_FNCACT_OFFICIALS,1647;LEGISLATION,297;LEGISLATION,1494;EPU_POLICY_LAW,297;EPU_POLICY_LAW,1494;TAX_FNCACT_EMPLOYEES,1092;TAX_ETHNICITY_AMERICAN,1386;WB_1921_PRIVATE_SECTOR_DEVELOPMENT,884;WB_1921_PRIVATE_SECTOR_DEVELOPMENT,1555;WB_405_BUSINESS_CLIMATE,884;WB_405_BUSINESS_CLIMATE,1555;WB_2531_INSPECTIONS_LICENSING_AND_PERMITS,884;WB_2531_INSPECTIONS_LICENSING_AND_PERMITS,1555;WB_2530_BUSINESS_ENVIRONMENT,884;WB_2530_BUSINESS_ENVIRONMENT,1555;   \n",
       "\n",
       "                                                                                         Persons  \\\n",
       "0                                     gillian triggs;george brandis;malcolm turnbull;tony abbott   \n",
       "1                                                                                            NaN   \n",
       "2  dame meg taylor;peter oneill;james marape;peter oneill peter oneill;john momis;michael somare   \n",
       "3              john kerry;donald trump;barack obama;lisa wilkinson;malcolm turnbull;chris reason   \n",
       "4                                                                                            NaN   \n",
       "\n",
       "                                                            Organizations  \\\n",
       "0                 university of sydney;australian human rights commission   \n",
       "1                             fiji national rugby league;national stadium   \n",
       "2             pacific islands forum;pacific islands forum dame meg taylor   \n",
       "3                                                           united states   \n",
       "4  transportation security administration;department of homeland security   \n",
       "\n",
       "                                                                                                        V2Tone  \n",
       "0  -1.13378684807256,3.40136054421769,4.53514739229025,7.93650793650794,19.9546485260771,0.793650793650794,792  \n",
       "1                    6.89655172413793,6.89655172413793,0,6.89655172413793,20.6896551724138,1.72413793103448,53  \n",
       "2   1.49812734082397,2.80898876404494,1.31086142322097,4.11985018726592,24.3445692883895,0.374531835205993,535  \n",
       "3      -1.35396518375242,2.12765957446809,3.4816247582205,5.60928433268859,23.4042553191489,2.321083172147,447  \n",
       "4                     -2.0979020979021,2.0979020979021,4.1958041958042,6.29370629370629,22.3776223776224,0,246  "
      ]
     },
     "execution_count": 14,
     "metadata": {},
     "output_type": "execute_result"
    }
   ],
   "source": [
    "gkg.head()"
   ]
  },
  {
   "cell_type": "code",
   "execution_count": 15,
   "metadata": {},
   "outputs": [
    {
     "name": "stdout",
     "output_type": "stream",
     "text": [
      "<class 'pandas.core.frame.DataFrame'>\n",
      "RangeIndex: 4315910 entries, 0 to 4315909\n",
      "Data columns (total 9 columns):\n",
      " #   Column                      Dtype \n",
      "---  ------                      ----- \n",
      " 0   MentionIdentifier           object\n",
      " 1   SourceCollectionIdentifier  int64 \n",
      " 2   SourceCommonName            object\n",
      " 3   DocumentIdentifier          object\n",
      " 4   Themes                      object\n",
      " 5   V2Themes                    object\n",
      " 6   Persons                     object\n",
      " 7   Organizations               object\n",
      " 8   V2Tone                      object\n",
      "dtypes: int64(1), object(8)\n",
      "memory usage: 296.4+ MB\n"
     ]
    }
   ],
   "source": [
    "gkg.info()"
   ]
  },
  {
   "cell_type": "code",
   "execution_count": 16,
   "metadata": {},
   "outputs": [
    {
     "data": {
      "text/plain": [
       "8"
      ]
     },
     "execution_count": 16,
     "metadata": {},
     "output_type": "execute_result"
    }
   ],
   "source": [
    "gkg['MentionIdentifier'][gkg['MentionIdentifier'] == 'https://parliament.gov.to/media-centre/latest-news/latest-news-in-english/729-cabinet-asked-to-review-budget-allocation-to-health-for-tonga-s-readiness-against-covid-19?switch_to_desktop_ui=438'].count()"
   ]
  },
  {
   "cell_type": "code",
   "execution_count": 17,
   "metadata": {},
   "outputs": [
    {
     "data": {
      "text/html": [
       "<div>\n",
       "<style scoped>\n",
       "    .dataframe tbody tr th:only-of-type {\n",
       "        vertical-align: middle;\n",
       "    }\n",
       "\n",
       "    .dataframe tbody tr th {\n",
       "        vertical-align: top;\n",
       "    }\n",
       "\n",
       "    .dataframe thead th {\n",
       "        text-align: right;\n",
       "    }\n",
       "</style>\n",
       "<table border=\"1\" class=\"dataframe\">\n",
       "  <thead>\n",
       "    <tr style=\"text-align: right;\">\n",
       "      <th></th>\n",
       "      <th>MentionIdentifier</th>\n",
       "      <th>SourceCollectionIdentifier</th>\n",
       "      <th>SourceCommonName</th>\n",
       "      <th>DocumentIdentifier</th>\n",
       "      <th>Themes</th>\n",
       "      <th>V2Themes</th>\n",
       "      <th>Persons</th>\n",
       "      <th>Organizations</th>\n",
       "      <th>V2Tone</th>\n",
       "    </tr>\n",
       "  </thead>\n",
       "  <tbody>\n",
       "    <tr>\n",
       "      <th>62545</th>\n",
       "      <td>https://parliament.gov.to/media-centre/latest-news/latest-news-in-english/729-cabinet-asked-to-review-budget-allocation-to-health-for-tonga-s-readiness-against-covid-19?switch_to_desktop_ui=438</td>\n",
       "      <td>1</td>\n",
       "      <td>parliament.gov.to</td>\n",
       "      <td>https://parliament.gov.to/media-centre/latest-news/latest-news-in-english/729-cabinet-asked-to-review-budget-allocation-to-health-for-tonga-s-readiness-against-covid-19?switch_to_desktop_ui=438</td>\n",
       "      <td>GENERAL_HEALTH;MEDICAL;TAX_FNCACT;TAX_FNCACT_MINISTER;USPEC_POLICY1;EPU_POLICY;EPU_POLICY_BUDGET;HEALTH_VACCINATION;UNGP_HEALTHCARE;TAX_DISEASE;TAX_DISEASE_CORONAVIRUS;WB_642_CHILD_HEALTH;WB_1459_IMMUNIZATIONS;WB_621_HEALTH_NUTRITION_AND_POPULATION;WB_639_REPRODUCTIVE_MATERNAL_AND_CHILD_HEALTH;CRISISLEX_CRISISLEXREC;GENERAL_GOVERNMENT;EPU_POLICY_GOVERNMENT;UNGP_FORESTS_RIVERS_OCEANS;CRISISLEX_T03_DEAD;TAX_DISEASE_MEASLES;TAX_DISEASE_OUTBREAK;WB_635_PUBLIC_HEALTH;WB_2165_HEALTH_EMERGENCIES;WB_2166_HEALTH_EMERGENCY_PREPAREDNESS_AND_DISASTER_RESPONSE;WB_2167_PANDEMICS;SHORTAGE;CRISISLEX_C03_WELLBEING_HEALTH;WB_1331_HEALTH_TECHNOLOGIES;WB_1350_PHARMACEUTICALS;EPU_ECONOMY;EPU_ECONOMY_HISTORIC;TAX_DISEASE_DISEASES;WB_1406_DISEASES;WB_1427_NON_COMMUNICABLE_DISEASE_AND_INJURY;TAX_DISEASE_DIABETES;TAX_CHRONICDISEASE;TAX_CHRONICDISEASE_DIABETES;WB_1433_DIABETES;TAX_DISEASE_HIGH_BLOOD_PRESSURE;WB_1432_HYPERTENSION;WB_2024_ANTI_CORRUPTION_AUTHORITIES;WB_696_PUBLIC_SECTOR_MANAGEMENT;WB_831_GOVERNANCE;WB_832_ANTI_CORRUPTION;WB_2026_PREVENTION;WB_840_JUSTICE;WB_2473_DIPLOMACY_AND_NEGOTIATIONS;WB_939_NEGOTIATION;WB_2470_PEACE_OPERATIONS_AND_CONFLICT_MANAGEMENT;WB_936_ALTERNATIVE_DISPUTE_RESOLUTION;WB_2432_FRAGILITY_CONFLICT_AND_VIOLENCE;WB_843_DISPUTE_RESOLUTION;WB_2471_PEACEKEEPING;</td>\n",
       "      <td>GENERAL_GOVERNMENT,681;GENERAL_GOVERNMENT,2163;EPU_POLICY_GOVERNMENT,681;EPU_POLICY_GOVERNMENT,2163;CRISISLEX_CRISISLEXREC,453;WB_642_CHILD_HEALTH,438;WB_642_CHILD_HEALTH,550;WB_642_CHILD_HEALTH,723;WB_642_CHILD_HEALTH,985;WB_1459_IMMUNIZATIONS,438;WB_1459_IMMUNIZATIONS,550;WB_1459_IMMUNIZATIONS,723;WB_1459_IMMUNIZATIONS,985;WB_621_HEALTH_NUTRITION_AND_POPULATION,438;WB_621_HEALTH_NUTRITION_AND_POPULATION,550;WB_621_HEALTH_NUTRITION_AND_POPULATION,723;WB_621_HEALTH_NUTRITION_AND_POPULATION,985;WB_639_REPRODUCTIVE_MATERNAL_AND_CHILD_HEALTH,438;WB_639_REPRODUCTIVE_MATERNAL_AND_CHILD_HEALTH,550;WB_639_REPRODUCTIVE_MATERNAL_AND_CHILD_HEALTH,723;WB_639_REPRODUCTIVE_MATERNAL_AND_CHILD_HEALTH,985;HEALTH_VACCINATION,283;UNGP_HEALTHCARE,283;TAX_DISEASE_DISEASES,1994;WB_1406_DISEASES,1994;CRISISLEX_C03_WELLBEING_HEALTH,1689;CRISISLEX_C03_WELLBEING_HEALTH,1897;CRISISLEX_T03_DEAD,1381;SHORTAGE,1678;EPU_ECONOMY,1809;EPU_ECONOMY_HISTORIC,1809;TAX_DISEASE_MEASLES,1420;WB_840_JUSTICE,3198;WB_2473_DIPLOMACY_AND_NEGOTIATIONS,3198;WB_939_NEGOTIATION,3198;WB_2470_PEACE_OPERATIONS_AND_CONFLICT_MANAGEMENT,3198;WB_936_ALTERNATIVE_DISPUTE_RESOLUTION,3198;WB_2432_FRAGILITY_CONFLICT_AND_VIOLENCE,3198;WB_843_DISPUTE_RESOLUTION,3198;WB_2471_PEACEKEEPING,3198;WB_2024_ANTI_CORRUPTION_AUTHORITIES,2748;WB_696_PUBLIC_SECTOR_MANAGEMENT,2748;WB_831_GOVERNANCE,2748;WB_832_ANTI_CORRUPTION,2748;WB_2026_PREVENTION,2748;TAX_DISEASE_DIABETES,2011;TAX_CHRONICDISEASE_DIABETES,2011;WB_1433_DIABETES,2011;TAX_DISEASE_CORONAVIRUS,309;TAX_DISEASE_CORONAVIRUS,770;TAX_DISEASE_CORONAVIRUS,887;TAX_DISEASE_CORONAVIRUS,2281;TAX_DISEASE_CORONAVIRUS,3270;WB_1427_NON_COMMUNICABLE_DISEASE_AND_INJURY,1994;TAX_FNCACT_MINISTER,156;TAX_FNCACT_MINISTER,339;TAX_FNCACT_MINISTER,2314;TAX_FNCACT_MINISTER,2863;TAX_FNCACT_MINISTER,3317;GENERAL_HEALTH,147;GENERAL_HEALTH,330;GENERAL_HEALTH,2205;GENERAL_HEALTH,2305;GENERAL_HEALTH,3308;GENERAL_HEALTH,3373;MEDICAL,147;MEDICAL,330;MEDICAL,2205;MEDICAL,2305;MEDICAL,3308;MEDICAL,3373;TAX_DISEASE_HIGH_BLOOD_PRESSURE,2033;WB_1432_HYPERTENSION,2033;TAX_DISEASE_OUTBREAK,1429;WB_635_PUBLIC_HEALTH,1429;WB_2165_HEALTH_EMERGENCIES,1429;WB_2166_HEALTH_EMERGENCY_PREPAREDNESS_AND_DISASTER_RESPONSE,1429;WB_2167_PANDEMICS,1429;WB_1331_HEALTH_TECHNOLOGIES,1698;WB_1331_HEALTH_TECHNOLOGIES,1906;WB_1350_PHARMACEUTICALS,1698;WB_1350_PHARMACEUTICALS,1906;UNGP_FORESTS_RIVERS_OCEANS,900;USPEC_POLICY1,226;USPEC_POLICY1,1845;USPEC_POLICY1,2184;EPU_POLICY_BUDGET,226;EPU_POLICY_BUDGET,1845;EPU_POLICY_BUDGET,2184;</td>\n",
       "      <td>amelia tuipulotu</td>\n",
       "      <td>health for tonga;mua health centre</td>\n",
       "      <td>0.33955857385399,3.05602716468591,2.71646859083192,5.77249575551783,22.0713073005093,0.169779286926995,520</td>\n",
       "    </tr>\n",
       "    <tr>\n",
       "      <th>579408</th>\n",
       "      <td>https://parliament.gov.to/media-centre/latest-news/latest-news-in-english/729-cabinet-asked-to-review-budget-allocation-to-health-for-tonga-s-readiness-against-covid-19?switch_to_desktop_ui=438</td>\n",
       "      <td>1</td>\n",
       "      <td>parliament.gov.to</td>\n",
       "      <td>https://parliament.gov.to/media-centre/latest-news/latest-news-in-english/729-cabinet-asked-to-review-budget-allocation-to-health-for-tonga-s-readiness-against-covid-19?switch_to_desktop_ui=438</td>\n",
       "      <td>GENERAL_HEALTH;MEDICAL;TAX_FNCACT;TAX_FNCACT_MINISTER;USPEC_POLICY1;EPU_POLICY;EPU_POLICY_BUDGET;HEALTH_VACCINATION;UNGP_HEALTHCARE;TAX_DISEASE;TAX_DISEASE_CORONAVIRUS;WB_642_CHILD_HEALTH;WB_1459_IMMUNIZATIONS;WB_621_HEALTH_NUTRITION_AND_POPULATION;WB_639_REPRODUCTIVE_MATERNAL_AND_CHILD_HEALTH;CRISISLEX_CRISISLEXREC;GENERAL_GOVERNMENT;EPU_POLICY_GOVERNMENT;UNGP_FORESTS_RIVERS_OCEANS;CRISISLEX_T03_DEAD;TAX_DISEASE_MEASLES;TAX_DISEASE_OUTBREAK;WB_635_PUBLIC_HEALTH;WB_2165_HEALTH_EMERGENCIES;WB_2166_HEALTH_EMERGENCY_PREPAREDNESS_AND_DISASTER_RESPONSE;WB_2167_PANDEMICS;SHORTAGE;CRISISLEX_C03_WELLBEING_HEALTH;WB_1331_HEALTH_TECHNOLOGIES;WB_1350_PHARMACEUTICALS;EPU_ECONOMY;EPU_ECONOMY_HISTORIC;TAX_DISEASE_DISEASES;WB_1406_DISEASES;WB_1427_NON_COMMUNICABLE_DISEASE_AND_INJURY;TAX_DISEASE_DIABETES;TAX_CHRONICDISEASE;TAX_CHRONICDISEASE_DIABETES;WB_1433_DIABETES;TAX_DISEASE_HIGH_BLOOD_PRESSURE;WB_1432_HYPERTENSION;WB_2024_ANTI_CORRUPTION_AUTHORITIES;WB_696_PUBLIC_SECTOR_MANAGEMENT;WB_831_GOVERNANCE;WB_832_ANTI_CORRUPTION;WB_2026_PREVENTION;WB_840_JUSTICE;WB_2473_DIPLOMACY_AND_NEGOTIATIONS;WB_939_NEGOTIATION;WB_2470_PEACE_OPERATIONS_AND_CONFLICT_MANAGEMENT;WB_936_ALTERNATIVE_DISPUTE_RESOLUTION;WB_2432_FRAGILITY_CONFLICT_AND_VIOLENCE;WB_843_DISPUTE_RESOLUTION;WB_2471_PEACEKEEPING;</td>\n",
       "      <td>GENERAL_GOVERNMENT,681;GENERAL_GOVERNMENT,2163;EPU_POLICY_GOVERNMENT,681;EPU_POLICY_GOVERNMENT,2163;CRISISLEX_CRISISLEXREC,453;WB_642_CHILD_HEALTH,438;WB_642_CHILD_HEALTH,550;WB_642_CHILD_HEALTH,723;WB_642_CHILD_HEALTH,985;WB_1459_IMMUNIZATIONS,438;WB_1459_IMMUNIZATIONS,550;WB_1459_IMMUNIZATIONS,723;WB_1459_IMMUNIZATIONS,985;WB_621_HEALTH_NUTRITION_AND_POPULATION,438;WB_621_HEALTH_NUTRITION_AND_POPULATION,550;WB_621_HEALTH_NUTRITION_AND_POPULATION,723;WB_621_HEALTH_NUTRITION_AND_POPULATION,985;WB_639_REPRODUCTIVE_MATERNAL_AND_CHILD_HEALTH,438;WB_639_REPRODUCTIVE_MATERNAL_AND_CHILD_HEALTH,550;WB_639_REPRODUCTIVE_MATERNAL_AND_CHILD_HEALTH,723;WB_639_REPRODUCTIVE_MATERNAL_AND_CHILD_HEALTH,985;HEALTH_VACCINATION,283;UNGP_HEALTHCARE,283;TAX_DISEASE_DISEASES,1994;WB_1406_DISEASES,1994;CRISISLEX_C03_WELLBEING_HEALTH,1689;CRISISLEX_C03_WELLBEING_HEALTH,1897;CRISISLEX_T03_DEAD,1381;SHORTAGE,1678;EPU_ECONOMY,1809;EPU_ECONOMY_HISTORIC,1809;TAX_DISEASE_MEASLES,1420;WB_840_JUSTICE,3198;WB_2473_DIPLOMACY_AND_NEGOTIATIONS,3198;WB_939_NEGOTIATION,3198;WB_2470_PEACE_OPERATIONS_AND_CONFLICT_MANAGEMENT,3198;WB_936_ALTERNATIVE_DISPUTE_RESOLUTION,3198;WB_2432_FRAGILITY_CONFLICT_AND_VIOLENCE,3198;WB_843_DISPUTE_RESOLUTION,3198;WB_2471_PEACEKEEPING,3198;WB_2024_ANTI_CORRUPTION_AUTHORITIES,2748;WB_696_PUBLIC_SECTOR_MANAGEMENT,2748;WB_831_GOVERNANCE,2748;WB_832_ANTI_CORRUPTION,2748;WB_2026_PREVENTION,2748;TAX_DISEASE_DIABETES,2011;TAX_CHRONICDISEASE_DIABETES,2011;WB_1433_DIABETES,2011;TAX_DISEASE_CORONAVIRUS,309;TAX_DISEASE_CORONAVIRUS,770;TAX_DISEASE_CORONAVIRUS,887;TAX_DISEASE_CORONAVIRUS,2281;TAX_DISEASE_CORONAVIRUS,3270;WB_1427_NON_COMMUNICABLE_DISEASE_AND_INJURY,1994;TAX_FNCACT_MINISTER,156;TAX_FNCACT_MINISTER,339;TAX_FNCACT_MINISTER,2314;TAX_FNCACT_MINISTER,2863;TAX_FNCACT_MINISTER,3317;GENERAL_HEALTH,147;GENERAL_HEALTH,330;GENERAL_HEALTH,2205;GENERAL_HEALTH,2305;GENERAL_HEALTH,3308;GENERAL_HEALTH,3373;MEDICAL,147;MEDICAL,330;MEDICAL,2205;MEDICAL,2305;MEDICAL,3308;MEDICAL,3373;TAX_DISEASE_HIGH_BLOOD_PRESSURE,2033;WB_1432_HYPERTENSION,2033;TAX_DISEASE_OUTBREAK,1429;WB_635_PUBLIC_HEALTH,1429;WB_2165_HEALTH_EMERGENCIES,1429;WB_2166_HEALTH_EMERGENCY_PREPAREDNESS_AND_DISASTER_RESPONSE,1429;WB_2167_PANDEMICS,1429;WB_1331_HEALTH_TECHNOLOGIES,1698;WB_1331_HEALTH_TECHNOLOGIES,1906;WB_1350_PHARMACEUTICALS,1698;WB_1350_PHARMACEUTICALS,1906;UNGP_FORESTS_RIVERS_OCEANS,900;USPEC_POLICY1,226;USPEC_POLICY1,1845;USPEC_POLICY1,2184;EPU_POLICY_BUDGET,226;EPU_POLICY_BUDGET,1845;EPU_POLICY_BUDGET,2184;</td>\n",
       "      <td>amelia tuipulotu</td>\n",
       "      <td>health for tonga;mua health centre</td>\n",
       "      <td>0.33955857385399,3.05602716468591,2.71646859083192,5.77249575551783,22.0713073005093,0.169779286926995,520</td>\n",
       "    </tr>\n",
       "    <tr>\n",
       "      <th>1613628</th>\n",
       "      <td>https://parliament.gov.to/media-centre/latest-news/latest-news-in-english/729-cabinet-asked-to-review-budget-allocation-to-health-for-tonga-s-readiness-against-covid-19?switch_to_desktop_ui=438</td>\n",
       "      <td>1</td>\n",
       "      <td>parliament.gov.to</td>\n",
       "      <td>https://parliament.gov.to/media-centre/latest-news/latest-news-in-english/729-cabinet-asked-to-review-budget-allocation-to-health-for-tonga-s-readiness-against-covid-19?switch_to_desktop_ui=438</td>\n",
       "      <td>GENERAL_HEALTH;MEDICAL;TAX_FNCACT;TAX_FNCACT_MINISTER;USPEC_POLICY1;EPU_POLICY;EPU_POLICY_BUDGET;HEALTH_VACCINATION;UNGP_HEALTHCARE;TAX_DISEASE;TAX_DISEASE_CORONAVIRUS;WB_642_CHILD_HEALTH;WB_1459_IMMUNIZATIONS;WB_621_HEALTH_NUTRITION_AND_POPULATION;WB_639_REPRODUCTIVE_MATERNAL_AND_CHILD_HEALTH;CRISISLEX_CRISISLEXREC;GENERAL_GOVERNMENT;EPU_POLICY_GOVERNMENT;UNGP_FORESTS_RIVERS_OCEANS;CRISISLEX_T03_DEAD;TAX_DISEASE_MEASLES;TAX_DISEASE_OUTBREAK;WB_635_PUBLIC_HEALTH;WB_2165_HEALTH_EMERGENCIES;WB_2166_HEALTH_EMERGENCY_PREPAREDNESS_AND_DISASTER_RESPONSE;WB_2167_PANDEMICS;SHORTAGE;CRISISLEX_C03_WELLBEING_HEALTH;WB_1331_HEALTH_TECHNOLOGIES;WB_1350_PHARMACEUTICALS;EPU_ECONOMY;EPU_ECONOMY_HISTORIC;TAX_DISEASE_DISEASES;WB_1406_DISEASES;WB_1427_NON_COMMUNICABLE_DISEASE_AND_INJURY;TAX_DISEASE_DIABETES;TAX_CHRONICDISEASE;TAX_CHRONICDISEASE_DIABETES;WB_1433_DIABETES;TAX_DISEASE_HIGH_BLOOD_PRESSURE;WB_1432_HYPERTENSION;WB_2024_ANTI_CORRUPTION_AUTHORITIES;WB_696_PUBLIC_SECTOR_MANAGEMENT;WB_831_GOVERNANCE;WB_832_ANTI_CORRUPTION;WB_2026_PREVENTION;WB_840_JUSTICE;WB_2473_DIPLOMACY_AND_NEGOTIATIONS;WB_939_NEGOTIATION;WB_2470_PEACE_OPERATIONS_AND_CONFLICT_MANAGEMENT;WB_936_ALTERNATIVE_DISPUTE_RESOLUTION;WB_2432_FRAGILITY_CONFLICT_AND_VIOLENCE;WB_843_DISPUTE_RESOLUTION;WB_2471_PEACEKEEPING;</td>\n",
       "      <td>GENERAL_GOVERNMENT,681;GENERAL_GOVERNMENT,2163;EPU_POLICY_GOVERNMENT,681;EPU_POLICY_GOVERNMENT,2163;CRISISLEX_CRISISLEXREC,453;WB_642_CHILD_HEALTH,438;WB_642_CHILD_HEALTH,550;WB_642_CHILD_HEALTH,723;WB_642_CHILD_HEALTH,985;WB_1459_IMMUNIZATIONS,438;WB_1459_IMMUNIZATIONS,550;WB_1459_IMMUNIZATIONS,723;WB_1459_IMMUNIZATIONS,985;WB_621_HEALTH_NUTRITION_AND_POPULATION,438;WB_621_HEALTH_NUTRITION_AND_POPULATION,550;WB_621_HEALTH_NUTRITION_AND_POPULATION,723;WB_621_HEALTH_NUTRITION_AND_POPULATION,985;WB_639_REPRODUCTIVE_MATERNAL_AND_CHILD_HEALTH,438;WB_639_REPRODUCTIVE_MATERNAL_AND_CHILD_HEALTH,550;WB_639_REPRODUCTIVE_MATERNAL_AND_CHILD_HEALTH,723;WB_639_REPRODUCTIVE_MATERNAL_AND_CHILD_HEALTH,985;HEALTH_VACCINATION,283;UNGP_HEALTHCARE,283;TAX_DISEASE_DISEASES,1994;WB_1406_DISEASES,1994;CRISISLEX_C03_WELLBEING_HEALTH,1689;CRISISLEX_C03_WELLBEING_HEALTH,1897;CRISISLEX_T03_DEAD,1381;SHORTAGE,1678;EPU_ECONOMY,1809;EPU_ECONOMY_HISTORIC,1809;TAX_DISEASE_MEASLES,1420;WB_840_JUSTICE,3198;WB_2473_DIPLOMACY_AND_NEGOTIATIONS,3198;WB_939_NEGOTIATION,3198;WB_2470_PEACE_OPERATIONS_AND_CONFLICT_MANAGEMENT,3198;WB_936_ALTERNATIVE_DISPUTE_RESOLUTION,3198;WB_2432_FRAGILITY_CONFLICT_AND_VIOLENCE,3198;WB_843_DISPUTE_RESOLUTION,3198;WB_2471_PEACEKEEPING,3198;WB_2024_ANTI_CORRUPTION_AUTHORITIES,2748;WB_696_PUBLIC_SECTOR_MANAGEMENT,2748;WB_831_GOVERNANCE,2748;WB_832_ANTI_CORRUPTION,2748;WB_2026_PREVENTION,2748;TAX_DISEASE_DIABETES,2011;TAX_CHRONICDISEASE_DIABETES,2011;WB_1433_DIABETES,2011;TAX_DISEASE_CORONAVIRUS,309;TAX_DISEASE_CORONAVIRUS,770;TAX_DISEASE_CORONAVIRUS,887;TAX_DISEASE_CORONAVIRUS,2281;TAX_DISEASE_CORONAVIRUS,3270;WB_1427_NON_COMMUNICABLE_DISEASE_AND_INJURY,1994;TAX_FNCACT_MINISTER,156;TAX_FNCACT_MINISTER,339;TAX_FNCACT_MINISTER,2314;TAX_FNCACT_MINISTER,2863;TAX_FNCACT_MINISTER,3317;GENERAL_HEALTH,147;GENERAL_HEALTH,330;GENERAL_HEALTH,2205;GENERAL_HEALTH,2305;GENERAL_HEALTH,3308;GENERAL_HEALTH,3373;MEDICAL,147;MEDICAL,330;MEDICAL,2205;MEDICAL,2305;MEDICAL,3308;MEDICAL,3373;TAX_DISEASE_HIGH_BLOOD_PRESSURE,2033;WB_1432_HYPERTENSION,2033;TAX_DISEASE_OUTBREAK,1429;WB_635_PUBLIC_HEALTH,1429;WB_2165_HEALTH_EMERGENCIES,1429;WB_2166_HEALTH_EMERGENCY_PREPAREDNESS_AND_DISASTER_RESPONSE,1429;WB_2167_PANDEMICS,1429;WB_1331_HEALTH_TECHNOLOGIES,1698;WB_1331_HEALTH_TECHNOLOGIES,1906;WB_1350_PHARMACEUTICALS,1698;WB_1350_PHARMACEUTICALS,1906;UNGP_FORESTS_RIVERS_OCEANS,900;USPEC_POLICY1,226;USPEC_POLICY1,1845;USPEC_POLICY1,2184;EPU_POLICY_BUDGET,226;EPU_POLICY_BUDGET,1845;EPU_POLICY_BUDGET,2184;</td>\n",
       "      <td>amelia tuipulotu</td>\n",
       "      <td>health for tonga;mua health centre</td>\n",
       "      <td>0.33955857385399,3.05602716468591,2.71646859083192,5.77249575551783,22.0713073005093,0.169779286926995,520</td>\n",
       "    </tr>\n",
       "    <tr>\n",
       "      <th>2177827</th>\n",
       "      <td>https://parliament.gov.to/media-centre/latest-news/latest-news-in-english/729-cabinet-asked-to-review-budget-allocation-to-health-for-tonga-s-readiness-against-covid-19?switch_to_desktop_ui=438</td>\n",
       "      <td>1</td>\n",
       "      <td>parliament.gov.to</td>\n",
       "      <td>https://parliament.gov.to/media-centre/latest-news/latest-news-in-english/729-cabinet-asked-to-review-budget-allocation-to-health-for-tonga-s-readiness-against-covid-19?switch_to_desktop_ui=438</td>\n",
       "      <td>GENERAL_HEALTH;MEDICAL;TAX_FNCACT;TAX_FNCACT_MINISTER;USPEC_POLICY1;EPU_POLICY;EPU_POLICY_BUDGET;HEALTH_VACCINATION;UNGP_HEALTHCARE;TAX_DISEASE;TAX_DISEASE_CORONAVIRUS;WB_642_CHILD_HEALTH;WB_1459_IMMUNIZATIONS;WB_621_HEALTH_NUTRITION_AND_POPULATION;WB_639_REPRODUCTIVE_MATERNAL_AND_CHILD_HEALTH;CRISISLEX_CRISISLEXREC;GENERAL_GOVERNMENT;EPU_POLICY_GOVERNMENT;UNGP_FORESTS_RIVERS_OCEANS;CRISISLEX_T03_DEAD;TAX_DISEASE_MEASLES;TAX_DISEASE_OUTBREAK;WB_635_PUBLIC_HEALTH;WB_2165_HEALTH_EMERGENCIES;WB_2166_HEALTH_EMERGENCY_PREPAREDNESS_AND_DISASTER_RESPONSE;WB_2167_PANDEMICS;SHORTAGE;CRISISLEX_C03_WELLBEING_HEALTH;WB_1331_HEALTH_TECHNOLOGIES;WB_1350_PHARMACEUTICALS;EPU_ECONOMY;EPU_ECONOMY_HISTORIC;TAX_DISEASE_DISEASES;WB_1406_DISEASES;WB_1427_NON_COMMUNICABLE_DISEASE_AND_INJURY;TAX_DISEASE_DIABETES;TAX_CHRONICDISEASE;TAX_CHRONICDISEASE_DIABETES;WB_1433_DIABETES;TAX_DISEASE_HIGH_BLOOD_PRESSURE;WB_1432_HYPERTENSION;WB_2024_ANTI_CORRUPTION_AUTHORITIES;WB_696_PUBLIC_SECTOR_MANAGEMENT;WB_831_GOVERNANCE;WB_832_ANTI_CORRUPTION;WB_2026_PREVENTION;WB_840_JUSTICE;WB_2473_DIPLOMACY_AND_NEGOTIATIONS;WB_939_NEGOTIATION;WB_2470_PEACE_OPERATIONS_AND_CONFLICT_MANAGEMENT;WB_936_ALTERNATIVE_DISPUTE_RESOLUTION;WB_2432_FRAGILITY_CONFLICT_AND_VIOLENCE;WB_843_DISPUTE_RESOLUTION;WB_2471_PEACEKEEPING;</td>\n",
       "      <td>GENERAL_GOVERNMENT,681;GENERAL_GOVERNMENT,2163;EPU_POLICY_GOVERNMENT,681;EPU_POLICY_GOVERNMENT,2163;CRISISLEX_CRISISLEXREC,453;WB_642_CHILD_HEALTH,438;WB_642_CHILD_HEALTH,550;WB_642_CHILD_HEALTH,723;WB_642_CHILD_HEALTH,985;WB_1459_IMMUNIZATIONS,438;WB_1459_IMMUNIZATIONS,550;WB_1459_IMMUNIZATIONS,723;WB_1459_IMMUNIZATIONS,985;WB_621_HEALTH_NUTRITION_AND_POPULATION,438;WB_621_HEALTH_NUTRITION_AND_POPULATION,550;WB_621_HEALTH_NUTRITION_AND_POPULATION,723;WB_621_HEALTH_NUTRITION_AND_POPULATION,985;WB_639_REPRODUCTIVE_MATERNAL_AND_CHILD_HEALTH,438;WB_639_REPRODUCTIVE_MATERNAL_AND_CHILD_HEALTH,550;WB_639_REPRODUCTIVE_MATERNAL_AND_CHILD_HEALTH,723;WB_639_REPRODUCTIVE_MATERNAL_AND_CHILD_HEALTH,985;HEALTH_VACCINATION,283;UNGP_HEALTHCARE,283;TAX_DISEASE_DISEASES,1994;WB_1406_DISEASES,1994;CRISISLEX_C03_WELLBEING_HEALTH,1689;CRISISLEX_C03_WELLBEING_HEALTH,1897;CRISISLEX_T03_DEAD,1381;SHORTAGE,1678;EPU_ECONOMY,1809;EPU_ECONOMY_HISTORIC,1809;TAX_DISEASE_MEASLES,1420;WB_840_JUSTICE,3198;WB_2473_DIPLOMACY_AND_NEGOTIATIONS,3198;WB_939_NEGOTIATION,3198;WB_2470_PEACE_OPERATIONS_AND_CONFLICT_MANAGEMENT,3198;WB_936_ALTERNATIVE_DISPUTE_RESOLUTION,3198;WB_2432_FRAGILITY_CONFLICT_AND_VIOLENCE,3198;WB_843_DISPUTE_RESOLUTION,3198;WB_2471_PEACEKEEPING,3198;WB_2024_ANTI_CORRUPTION_AUTHORITIES,2748;WB_696_PUBLIC_SECTOR_MANAGEMENT,2748;WB_831_GOVERNANCE,2748;WB_832_ANTI_CORRUPTION,2748;WB_2026_PREVENTION,2748;TAX_DISEASE_DIABETES,2011;TAX_CHRONICDISEASE_DIABETES,2011;WB_1433_DIABETES,2011;TAX_DISEASE_CORONAVIRUS,309;TAX_DISEASE_CORONAVIRUS,770;TAX_DISEASE_CORONAVIRUS,887;TAX_DISEASE_CORONAVIRUS,2281;TAX_DISEASE_CORONAVIRUS,3270;WB_1427_NON_COMMUNICABLE_DISEASE_AND_INJURY,1994;TAX_FNCACT_MINISTER,156;TAX_FNCACT_MINISTER,339;TAX_FNCACT_MINISTER,2314;TAX_FNCACT_MINISTER,2863;TAX_FNCACT_MINISTER,3317;GENERAL_HEALTH,147;GENERAL_HEALTH,330;GENERAL_HEALTH,2205;GENERAL_HEALTH,2305;GENERAL_HEALTH,3308;GENERAL_HEALTH,3373;MEDICAL,147;MEDICAL,330;MEDICAL,2205;MEDICAL,2305;MEDICAL,3308;MEDICAL,3373;TAX_DISEASE_HIGH_BLOOD_PRESSURE,2033;WB_1432_HYPERTENSION,2033;TAX_DISEASE_OUTBREAK,1429;WB_635_PUBLIC_HEALTH,1429;WB_2165_HEALTH_EMERGENCIES,1429;WB_2166_HEALTH_EMERGENCY_PREPAREDNESS_AND_DISASTER_RESPONSE,1429;WB_2167_PANDEMICS,1429;WB_1331_HEALTH_TECHNOLOGIES,1698;WB_1331_HEALTH_TECHNOLOGIES,1906;WB_1350_PHARMACEUTICALS,1698;WB_1350_PHARMACEUTICALS,1906;UNGP_FORESTS_RIVERS_OCEANS,900;USPEC_POLICY1,226;USPEC_POLICY1,1845;USPEC_POLICY1,2184;EPU_POLICY_BUDGET,226;EPU_POLICY_BUDGET,1845;EPU_POLICY_BUDGET,2184;</td>\n",
       "      <td>amelia tuipulotu</td>\n",
       "      <td>health for tonga;mua health centre</td>\n",
       "      <td>0.33955857385399,3.05602716468591,2.71646859083192,5.77249575551783,22.0713073005093,0.169779286926995,520</td>\n",
       "    </tr>\n",
       "    <tr>\n",
       "      <th>2261689</th>\n",
       "      <td>https://parliament.gov.to/media-centre/latest-news/latest-news-in-english/729-cabinet-asked-to-review-budget-allocation-to-health-for-tonga-s-readiness-against-covid-19?switch_to_desktop_ui=438</td>\n",
       "      <td>1</td>\n",
       "      <td>parliament.gov.to</td>\n",
       "      <td>https://parliament.gov.to/media-centre/latest-news/latest-news-in-english/729-cabinet-asked-to-review-budget-allocation-to-health-for-tonga-s-readiness-against-covid-19?switch_to_desktop_ui=438</td>\n",
       "      <td>GENERAL_HEALTH;MEDICAL;TAX_FNCACT;TAX_FNCACT_MINISTER;USPEC_POLICY1;EPU_POLICY;EPU_POLICY_BUDGET;HEALTH_VACCINATION;UNGP_HEALTHCARE;TAX_DISEASE;TAX_DISEASE_CORONAVIRUS;WB_642_CHILD_HEALTH;WB_1459_IMMUNIZATIONS;WB_621_HEALTH_NUTRITION_AND_POPULATION;WB_639_REPRODUCTIVE_MATERNAL_AND_CHILD_HEALTH;CRISISLEX_CRISISLEXREC;GENERAL_GOVERNMENT;EPU_POLICY_GOVERNMENT;UNGP_FORESTS_RIVERS_OCEANS;CRISISLEX_T03_DEAD;TAX_DISEASE_MEASLES;TAX_DISEASE_OUTBREAK;WB_635_PUBLIC_HEALTH;WB_2165_HEALTH_EMERGENCIES;WB_2166_HEALTH_EMERGENCY_PREPAREDNESS_AND_DISASTER_RESPONSE;WB_2167_PANDEMICS;SHORTAGE;CRISISLEX_C03_WELLBEING_HEALTH;WB_1331_HEALTH_TECHNOLOGIES;WB_1350_PHARMACEUTICALS;EPU_ECONOMY;EPU_ECONOMY_HISTORIC;TAX_DISEASE_DISEASES;WB_1406_DISEASES;WB_1427_NON_COMMUNICABLE_DISEASE_AND_INJURY;TAX_DISEASE_DIABETES;TAX_CHRONICDISEASE;TAX_CHRONICDISEASE_DIABETES;WB_1433_DIABETES;TAX_DISEASE_HIGH_BLOOD_PRESSURE;WB_1432_HYPERTENSION;WB_2024_ANTI_CORRUPTION_AUTHORITIES;WB_696_PUBLIC_SECTOR_MANAGEMENT;WB_831_GOVERNANCE;WB_832_ANTI_CORRUPTION;WB_2026_PREVENTION;WB_840_JUSTICE;WB_2473_DIPLOMACY_AND_NEGOTIATIONS;WB_939_NEGOTIATION;WB_2470_PEACE_OPERATIONS_AND_CONFLICT_MANAGEMENT;WB_936_ALTERNATIVE_DISPUTE_RESOLUTION;WB_2432_FRAGILITY_CONFLICT_AND_VIOLENCE;WB_843_DISPUTE_RESOLUTION;WB_2471_PEACEKEEPING;</td>\n",
       "      <td>GENERAL_GOVERNMENT,681;GENERAL_GOVERNMENT,2163;EPU_POLICY_GOVERNMENT,681;EPU_POLICY_GOVERNMENT,2163;CRISISLEX_CRISISLEXREC,453;WB_642_CHILD_HEALTH,438;WB_642_CHILD_HEALTH,550;WB_642_CHILD_HEALTH,723;WB_642_CHILD_HEALTH,985;WB_1459_IMMUNIZATIONS,438;WB_1459_IMMUNIZATIONS,550;WB_1459_IMMUNIZATIONS,723;WB_1459_IMMUNIZATIONS,985;WB_621_HEALTH_NUTRITION_AND_POPULATION,438;WB_621_HEALTH_NUTRITION_AND_POPULATION,550;WB_621_HEALTH_NUTRITION_AND_POPULATION,723;WB_621_HEALTH_NUTRITION_AND_POPULATION,985;WB_639_REPRODUCTIVE_MATERNAL_AND_CHILD_HEALTH,438;WB_639_REPRODUCTIVE_MATERNAL_AND_CHILD_HEALTH,550;WB_639_REPRODUCTIVE_MATERNAL_AND_CHILD_HEALTH,723;WB_639_REPRODUCTIVE_MATERNAL_AND_CHILD_HEALTH,985;HEALTH_VACCINATION,283;UNGP_HEALTHCARE,283;TAX_DISEASE_DISEASES,1994;WB_1406_DISEASES,1994;CRISISLEX_C03_WELLBEING_HEALTH,1689;CRISISLEX_C03_WELLBEING_HEALTH,1897;CRISISLEX_T03_DEAD,1381;SHORTAGE,1678;EPU_ECONOMY,1809;EPU_ECONOMY_HISTORIC,1809;TAX_DISEASE_MEASLES,1420;WB_840_JUSTICE,3198;WB_2473_DIPLOMACY_AND_NEGOTIATIONS,3198;WB_939_NEGOTIATION,3198;WB_2470_PEACE_OPERATIONS_AND_CONFLICT_MANAGEMENT,3198;WB_936_ALTERNATIVE_DISPUTE_RESOLUTION,3198;WB_2432_FRAGILITY_CONFLICT_AND_VIOLENCE,3198;WB_843_DISPUTE_RESOLUTION,3198;WB_2471_PEACEKEEPING,3198;WB_2024_ANTI_CORRUPTION_AUTHORITIES,2748;WB_696_PUBLIC_SECTOR_MANAGEMENT,2748;WB_831_GOVERNANCE,2748;WB_832_ANTI_CORRUPTION,2748;WB_2026_PREVENTION,2748;TAX_DISEASE_DIABETES,2011;TAX_CHRONICDISEASE_DIABETES,2011;WB_1433_DIABETES,2011;TAX_DISEASE_CORONAVIRUS,309;TAX_DISEASE_CORONAVIRUS,770;TAX_DISEASE_CORONAVIRUS,887;TAX_DISEASE_CORONAVIRUS,2281;TAX_DISEASE_CORONAVIRUS,3270;WB_1427_NON_COMMUNICABLE_DISEASE_AND_INJURY,1994;TAX_FNCACT_MINISTER,156;TAX_FNCACT_MINISTER,339;TAX_FNCACT_MINISTER,2314;TAX_FNCACT_MINISTER,2863;TAX_FNCACT_MINISTER,3317;GENERAL_HEALTH,147;GENERAL_HEALTH,330;GENERAL_HEALTH,2205;GENERAL_HEALTH,2305;GENERAL_HEALTH,3308;GENERAL_HEALTH,3373;MEDICAL,147;MEDICAL,330;MEDICAL,2205;MEDICAL,2305;MEDICAL,3308;MEDICAL,3373;TAX_DISEASE_HIGH_BLOOD_PRESSURE,2033;WB_1432_HYPERTENSION,2033;TAX_DISEASE_OUTBREAK,1429;WB_635_PUBLIC_HEALTH,1429;WB_2165_HEALTH_EMERGENCIES,1429;WB_2166_HEALTH_EMERGENCY_PREPAREDNESS_AND_DISASTER_RESPONSE,1429;WB_2167_PANDEMICS,1429;WB_1331_HEALTH_TECHNOLOGIES,1698;WB_1331_HEALTH_TECHNOLOGIES,1906;WB_1350_PHARMACEUTICALS,1698;WB_1350_PHARMACEUTICALS,1906;UNGP_FORESTS_RIVERS_OCEANS,900;USPEC_POLICY1,226;USPEC_POLICY1,1845;USPEC_POLICY1,2184;EPU_POLICY_BUDGET,226;EPU_POLICY_BUDGET,1845;EPU_POLICY_BUDGET,2184;</td>\n",
       "      <td>amelia tuipulotu</td>\n",
       "      <td>health for tonga;mua health centre</td>\n",
       "      <td>0.33955857385399,3.05602716468591,2.71646859083192,5.77249575551783,22.0713073005093,0.169779286926995,520</td>\n",
       "    </tr>\n",
       "    <tr>\n",
       "      <th>2302755</th>\n",
       "      <td>https://parliament.gov.to/media-centre/latest-news/latest-news-in-english/729-cabinet-asked-to-review-budget-allocation-to-health-for-tonga-s-readiness-against-covid-19?switch_to_desktop_ui=438</td>\n",
       "      <td>1</td>\n",
       "      <td>parliament.gov.to</td>\n",
       "      <td>https://parliament.gov.to/media-centre/latest-news/latest-news-in-english/729-cabinet-asked-to-review-budget-allocation-to-health-for-tonga-s-readiness-against-covid-19?switch_to_desktop_ui=438</td>\n",
       "      <td>GENERAL_HEALTH;MEDICAL;TAX_FNCACT;TAX_FNCACT_MINISTER;USPEC_POLICY1;EPU_POLICY;EPU_POLICY_BUDGET;HEALTH_VACCINATION;UNGP_HEALTHCARE;TAX_DISEASE;TAX_DISEASE_CORONAVIRUS;WB_642_CHILD_HEALTH;WB_1459_IMMUNIZATIONS;WB_621_HEALTH_NUTRITION_AND_POPULATION;WB_639_REPRODUCTIVE_MATERNAL_AND_CHILD_HEALTH;CRISISLEX_CRISISLEXREC;GENERAL_GOVERNMENT;EPU_POLICY_GOVERNMENT;UNGP_FORESTS_RIVERS_OCEANS;CRISISLEX_T03_DEAD;TAX_DISEASE_MEASLES;TAX_DISEASE_OUTBREAK;WB_635_PUBLIC_HEALTH;WB_2165_HEALTH_EMERGENCIES;WB_2166_HEALTH_EMERGENCY_PREPAREDNESS_AND_DISASTER_RESPONSE;WB_2167_PANDEMICS;SHORTAGE;CRISISLEX_C03_WELLBEING_HEALTH;WB_1331_HEALTH_TECHNOLOGIES;WB_1350_PHARMACEUTICALS;EPU_ECONOMY;EPU_ECONOMY_HISTORIC;TAX_DISEASE_DISEASES;WB_1406_DISEASES;WB_1427_NON_COMMUNICABLE_DISEASE_AND_INJURY;TAX_DISEASE_DIABETES;TAX_CHRONICDISEASE;TAX_CHRONICDISEASE_DIABETES;WB_1433_DIABETES;TAX_DISEASE_HIGH_BLOOD_PRESSURE;WB_1432_HYPERTENSION;WB_2024_ANTI_CORRUPTION_AUTHORITIES;WB_696_PUBLIC_SECTOR_MANAGEMENT;WB_831_GOVERNANCE;WB_832_ANTI_CORRUPTION;WB_2026_PREVENTION;WB_840_JUSTICE;WB_2473_DIPLOMACY_AND_NEGOTIATIONS;WB_939_NEGOTIATION;WB_2470_PEACE_OPERATIONS_AND_CONFLICT_MANAGEMENT;WB_936_ALTERNATIVE_DISPUTE_RESOLUTION;WB_2432_FRAGILITY_CONFLICT_AND_VIOLENCE;WB_843_DISPUTE_RESOLUTION;WB_2471_PEACEKEEPING;</td>\n",
       "      <td>GENERAL_GOVERNMENT,681;GENERAL_GOVERNMENT,2163;EPU_POLICY_GOVERNMENT,681;EPU_POLICY_GOVERNMENT,2163;CRISISLEX_CRISISLEXREC,453;WB_642_CHILD_HEALTH,438;WB_642_CHILD_HEALTH,550;WB_642_CHILD_HEALTH,723;WB_642_CHILD_HEALTH,985;WB_1459_IMMUNIZATIONS,438;WB_1459_IMMUNIZATIONS,550;WB_1459_IMMUNIZATIONS,723;WB_1459_IMMUNIZATIONS,985;WB_621_HEALTH_NUTRITION_AND_POPULATION,438;WB_621_HEALTH_NUTRITION_AND_POPULATION,550;WB_621_HEALTH_NUTRITION_AND_POPULATION,723;WB_621_HEALTH_NUTRITION_AND_POPULATION,985;WB_639_REPRODUCTIVE_MATERNAL_AND_CHILD_HEALTH,438;WB_639_REPRODUCTIVE_MATERNAL_AND_CHILD_HEALTH,550;WB_639_REPRODUCTIVE_MATERNAL_AND_CHILD_HEALTH,723;WB_639_REPRODUCTIVE_MATERNAL_AND_CHILD_HEALTH,985;HEALTH_VACCINATION,283;UNGP_HEALTHCARE,283;TAX_DISEASE_DISEASES,1994;WB_1406_DISEASES,1994;CRISISLEX_C03_WELLBEING_HEALTH,1689;CRISISLEX_C03_WELLBEING_HEALTH,1897;CRISISLEX_T03_DEAD,1381;SHORTAGE,1678;EPU_ECONOMY,1809;EPU_ECONOMY_HISTORIC,1809;TAX_DISEASE_MEASLES,1420;WB_840_JUSTICE,3198;WB_2473_DIPLOMACY_AND_NEGOTIATIONS,3198;WB_939_NEGOTIATION,3198;WB_2470_PEACE_OPERATIONS_AND_CONFLICT_MANAGEMENT,3198;WB_936_ALTERNATIVE_DISPUTE_RESOLUTION,3198;WB_2432_FRAGILITY_CONFLICT_AND_VIOLENCE,3198;WB_843_DISPUTE_RESOLUTION,3198;WB_2471_PEACEKEEPING,3198;WB_2024_ANTI_CORRUPTION_AUTHORITIES,2748;WB_696_PUBLIC_SECTOR_MANAGEMENT,2748;WB_831_GOVERNANCE,2748;WB_832_ANTI_CORRUPTION,2748;WB_2026_PREVENTION,2748;TAX_DISEASE_DIABETES,2011;TAX_CHRONICDISEASE_DIABETES,2011;WB_1433_DIABETES,2011;TAX_DISEASE_CORONAVIRUS,309;TAX_DISEASE_CORONAVIRUS,770;TAX_DISEASE_CORONAVIRUS,887;TAX_DISEASE_CORONAVIRUS,2281;TAX_DISEASE_CORONAVIRUS,3270;WB_1427_NON_COMMUNICABLE_DISEASE_AND_INJURY,1994;TAX_FNCACT_MINISTER,156;TAX_FNCACT_MINISTER,339;TAX_FNCACT_MINISTER,2314;TAX_FNCACT_MINISTER,2863;TAX_FNCACT_MINISTER,3317;GENERAL_HEALTH,147;GENERAL_HEALTH,330;GENERAL_HEALTH,2205;GENERAL_HEALTH,2305;GENERAL_HEALTH,3308;GENERAL_HEALTH,3373;MEDICAL,147;MEDICAL,330;MEDICAL,2205;MEDICAL,2305;MEDICAL,3308;MEDICAL,3373;TAX_DISEASE_HIGH_BLOOD_PRESSURE,2033;WB_1432_HYPERTENSION,2033;TAX_DISEASE_OUTBREAK,1429;WB_635_PUBLIC_HEALTH,1429;WB_2165_HEALTH_EMERGENCIES,1429;WB_2166_HEALTH_EMERGENCY_PREPAREDNESS_AND_DISASTER_RESPONSE,1429;WB_2167_PANDEMICS,1429;WB_1331_HEALTH_TECHNOLOGIES,1698;WB_1331_HEALTH_TECHNOLOGIES,1906;WB_1350_PHARMACEUTICALS,1698;WB_1350_PHARMACEUTICALS,1906;UNGP_FORESTS_RIVERS_OCEANS,900;USPEC_POLICY1,226;USPEC_POLICY1,1845;USPEC_POLICY1,2184;EPU_POLICY_BUDGET,226;EPU_POLICY_BUDGET,1845;EPU_POLICY_BUDGET,2184;</td>\n",
       "      <td>amelia tuipulotu</td>\n",
       "      <td>health for tonga;mua health centre</td>\n",
       "      <td>0.33955857385399,3.05602716468591,2.71646859083192,5.77249575551783,22.0713073005093,0.169779286926995,520</td>\n",
       "    </tr>\n",
       "    <tr>\n",
       "      <th>2350729</th>\n",
       "      <td>https://parliament.gov.to/media-centre/latest-news/latest-news-in-english/729-cabinet-asked-to-review-budget-allocation-to-health-for-tonga-s-readiness-against-covid-19?switch_to_desktop_ui=438</td>\n",
       "      <td>1</td>\n",
       "      <td>parliament.gov.to</td>\n",
       "      <td>https://parliament.gov.to/media-centre/latest-news/latest-news-in-english/729-cabinet-asked-to-review-budget-allocation-to-health-for-tonga-s-readiness-against-covid-19?switch_to_desktop_ui=438</td>\n",
       "      <td>GENERAL_HEALTH;MEDICAL;TAX_FNCACT;TAX_FNCACT_MINISTER;USPEC_POLICY1;EPU_POLICY;EPU_POLICY_BUDGET;HEALTH_VACCINATION;UNGP_HEALTHCARE;TAX_DISEASE;TAX_DISEASE_CORONAVIRUS;WB_642_CHILD_HEALTH;WB_1459_IMMUNIZATIONS;WB_621_HEALTH_NUTRITION_AND_POPULATION;WB_639_REPRODUCTIVE_MATERNAL_AND_CHILD_HEALTH;CRISISLEX_CRISISLEXREC;GENERAL_GOVERNMENT;EPU_POLICY_GOVERNMENT;UNGP_FORESTS_RIVERS_OCEANS;CRISISLEX_T03_DEAD;TAX_DISEASE_MEASLES;TAX_DISEASE_OUTBREAK;WB_635_PUBLIC_HEALTH;WB_2165_HEALTH_EMERGENCIES;WB_2166_HEALTH_EMERGENCY_PREPAREDNESS_AND_DISASTER_RESPONSE;WB_2167_PANDEMICS;SHORTAGE;CRISISLEX_C03_WELLBEING_HEALTH;WB_1331_HEALTH_TECHNOLOGIES;WB_1350_PHARMACEUTICALS;EPU_ECONOMY;EPU_ECONOMY_HISTORIC;TAX_DISEASE_DISEASES;WB_1406_DISEASES;WB_1427_NON_COMMUNICABLE_DISEASE_AND_INJURY;TAX_DISEASE_DIABETES;TAX_CHRONICDISEASE;TAX_CHRONICDISEASE_DIABETES;WB_1433_DIABETES;TAX_DISEASE_HIGH_BLOOD_PRESSURE;WB_1432_HYPERTENSION;WB_2024_ANTI_CORRUPTION_AUTHORITIES;WB_696_PUBLIC_SECTOR_MANAGEMENT;WB_831_GOVERNANCE;WB_832_ANTI_CORRUPTION;WB_2026_PREVENTION;WB_840_JUSTICE;WB_2473_DIPLOMACY_AND_NEGOTIATIONS;WB_939_NEGOTIATION;WB_2470_PEACE_OPERATIONS_AND_CONFLICT_MANAGEMENT;WB_936_ALTERNATIVE_DISPUTE_RESOLUTION;WB_2432_FRAGILITY_CONFLICT_AND_VIOLENCE;WB_843_DISPUTE_RESOLUTION;WB_2471_PEACEKEEPING;</td>\n",
       "      <td>GENERAL_GOVERNMENT,681;GENERAL_GOVERNMENT,2163;EPU_POLICY_GOVERNMENT,681;EPU_POLICY_GOVERNMENT,2163;CRISISLEX_CRISISLEXREC,453;WB_642_CHILD_HEALTH,438;WB_642_CHILD_HEALTH,550;WB_642_CHILD_HEALTH,723;WB_642_CHILD_HEALTH,985;WB_1459_IMMUNIZATIONS,438;WB_1459_IMMUNIZATIONS,550;WB_1459_IMMUNIZATIONS,723;WB_1459_IMMUNIZATIONS,985;WB_621_HEALTH_NUTRITION_AND_POPULATION,438;WB_621_HEALTH_NUTRITION_AND_POPULATION,550;WB_621_HEALTH_NUTRITION_AND_POPULATION,723;WB_621_HEALTH_NUTRITION_AND_POPULATION,985;WB_639_REPRODUCTIVE_MATERNAL_AND_CHILD_HEALTH,438;WB_639_REPRODUCTIVE_MATERNAL_AND_CHILD_HEALTH,550;WB_639_REPRODUCTIVE_MATERNAL_AND_CHILD_HEALTH,723;WB_639_REPRODUCTIVE_MATERNAL_AND_CHILD_HEALTH,985;HEALTH_VACCINATION,283;UNGP_HEALTHCARE,283;TAX_DISEASE_DISEASES,1994;WB_1406_DISEASES,1994;CRISISLEX_C03_WELLBEING_HEALTH,1689;CRISISLEX_C03_WELLBEING_HEALTH,1897;CRISISLEX_T03_DEAD,1381;SHORTAGE,1678;EPU_ECONOMY,1809;EPU_ECONOMY_HISTORIC,1809;TAX_DISEASE_MEASLES,1420;WB_840_JUSTICE,3198;WB_2473_DIPLOMACY_AND_NEGOTIATIONS,3198;WB_939_NEGOTIATION,3198;WB_2470_PEACE_OPERATIONS_AND_CONFLICT_MANAGEMENT,3198;WB_936_ALTERNATIVE_DISPUTE_RESOLUTION,3198;WB_2432_FRAGILITY_CONFLICT_AND_VIOLENCE,3198;WB_843_DISPUTE_RESOLUTION,3198;WB_2471_PEACEKEEPING,3198;WB_2024_ANTI_CORRUPTION_AUTHORITIES,2748;WB_696_PUBLIC_SECTOR_MANAGEMENT,2748;WB_831_GOVERNANCE,2748;WB_832_ANTI_CORRUPTION,2748;WB_2026_PREVENTION,2748;TAX_DISEASE_DIABETES,2011;TAX_CHRONICDISEASE_DIABETES,2011;WB_1433_DIABETES,2011;TAX_DISEASE_CORONAVIRUS,309;TAX_DISEASE_CORONAVIRUS,770;TAX_DISEASE_CORONAVIRUS,887;TAX_DISEASE_CORONAVIRUS,2281;TAX_DISEASE_CORONAVIRUS,3270;WB_1427_NON_COMMUNICABLE_DISEASE_AND_INJURY,1994;TAX_FNCACT_MINISTER,156;TAX_FNCACT_MINISTER,339;TAX_FNCACT_MINISTER,2314;TAX_FNCACT_MINISTER,2863;TAX_FNCACT_MINISTER,3317;GENERAL_HEALTH,147;GENERAL_HEALTH,330;GENERAL_HEALTH,2205;GENERAL_HEALTH,2305;GENERAL_HEALTH,3308;GENERAL_HEALTH,3373;MEDICAL,147;MEDICAL,330;MEDICAL,2205;MEDICAL,2305;MEDICAL,3308;MEDICAL,3373;TAX_DISEASE_HIGH_BLOOD_PRESSURE,2033;WB_1432_HYPERTENSION,2033;TAX_DISEASE_OUTBREAK,1429;WB_635_PUBLIC_HEALTH,1429;WB_2165_HEALTH_EMERGENCIES,1429;WB_2166_HEALTH_EMERGENCY_PREPAREDNESS_AND_DISASTER_RESPONSE,1429;WB_2167_PANDEMICS,1429;WB_1331_HEALTH_TECHNOLOGIES,1698;WB_1331_HEALTH_TECHNOLOGIES,1906;WB_1350_PHARMACEUTICALS,1698;WB_1350_PHARMACEUTICALS,1906;UNGP_FORESTS_RIVERS_OCEANS,900;USPEC_POLICY1,226;USPEC_POLICY1,1845;USPEC_POLICY1,2184;EPU_POLICY_BUDGET,226;EPU_POLICY_BUDGET,1845;EPU_POLICY_BUDGET,2184;</td>\n",
       "      <td>amelia tuipulotu</td>\n",
       "      <td>health for tonga;mua health centre</td>\n",
       "      <td>0.33955857385399,3.05602716468591,2.71646859083192,5.77249575551783,22.0713073005093,0.169779286926995,520</td>\n",
       "    </tr>\n",
       "    <tr>\n",
       "      <th>3729368</th>\n",
       "      <td>https://parliament.gov.to/media-centre/latest-news/latest-news-in-english/729-cabinet-asked-to-review-budget-allocation-to-health-for-tonga-s-readiness-against-covid-19?switch_to_desktop_ui=438</td>\n",
       "      <td>1</td>\n",
       "      <td>parliament.gov.to</td>\n",
       "      <td>https://parliament.gov.to/media-centre/latest-news/latest-news-in-english/729-cabinet-asked-to-review-budget-allocation-to-health-for-tonga-s-readiness-against-covid-19?switch_to_desktop_ui=438</td>\n",
       "      <td>GENERAL_HEALTH;MEDICAL;TAX_FNCACT;TAX_FNCACT_MINISTER;USPEC_POLICY1;EPU_POLICY;EPU_POLICY_BUDGET;HEALTH_VACCINATION;UNGP_HEALTHCARE;TAX_DISEASE;TAX_DISEASE_CORONAVIRUS;WB_642_CHILD_HEALTH;WB_1459_IMMUNIZATIONS;WB_621_HEALTH_NUTRITION_AND_POPULATION;WB_639_REPRODUCTIVE_MATERNAL_AND_CHILD_HEALTH;CRISISLEX_CRISISLEXREC;GENERAL_GOVERNMENT;EPU_POLICY_GOVERNMENT;UNGP_FORESTS_RIVERS_OCEANS;CRISISLEX_T03_DEAD;TAX_DISEASE_MEASLES;TAX_DISEASE_OUTBREAK;WB_635_PUBLIC_HEALTH;WB_2165_HEALTH_EMERGENCIES;WB_2166_HEALTH_EMERGENCY_PREPAREDNESS_AND_DISASTER_RESPONSE;WB_2167_PANDEMICS;SHORTAGE;CRISISLEX_C03_WELLBEING_HEALTH;WB_1331_HEALTH_TECHNOLOGIES;WB_1350_PHARMACEUTICALS;EPU_ECONOMY;EPU_ECONOMY_HISTORIC;TAX_DISEASE_DISEASES;WB_1406_DISEASES;WB_1427_NON_COMMUNICABLE_DISEASE_AND_INJURY;TAX_DISEASE_DIABETES;TAX_CHRONICDISEASE;TAX_CHRONICDISEASE_DIABETES;WB_1433_DIABETES;TAX_DISEASE_HIGH_BLOOD_PRESSURE;WB_1432_HYPERTENSION;WB_2024_ANTI_CORRUPTION_AUTHORITIES;WB_696_PUBLIC_SECTOR_MANAGEMENT;WB_831_GOVERNANCE;WB_832_ANTI_CORRUPTION;WB_2026_PREVENTION;WB_840_JUSTICE;WB_2473_DIPLOMACY_AND_NEGOTIATIONS;WB_939_NEGOTIATION;WB_2470_PEACE_OPERATIONS_AND_CONFLICT_MANAGEMENT;WB_936_ALTERNATIVE_DISPUTE_RESOLUTION;WB_2432_FRAGILITY_CONFLICT_AND_VIOLENCE;WB_843_DISPUTE_RESOLUTION;WB_2471_PEACEKEEPING;</td>\n",
       "      <td>GENERAL_GOVERNMENT,681;GENERAL_GOVERNMENT,2163;EPU_POLICY_GOVERNMENT,681;EPU_POLICY_GOVERNMENT,2163;CRISISLEX_CRISISLEXREC,453;WB_642_CHILD_HEALTH,438;WB_642_CHILD_HEALTH,550;WB_642_CHILD_HEALTH,723;WB_642_CHILD_HEALTH,985;WB_1459_IMMUNIZATIONS,438;WB_1459_IMMUNIZATIONS,550;WB_1459_IMMUNIZATIONS,723;WB_1459_IMMUNIZATIONS,985;WB_621_HEALTH_NUTRITION_AND_POPULATION,438;WB_621_HEALTH_NUTRITION_AND_POPULATION,550;WB_621_HEALTH_NUTRITION_AND_POPULATION,723;WB_621_HEALTH_NUTRITION_AND_POPULATION,985;WB_639_REPRODUCTIVE_MATERNAL_AND_CHILD_HEALTH,438;WB_639_REPRODUCTIVE_MATERNAL_AND_CHILD_HEALTH,550;WB_639_REPRODUCTIVE_MATERNAL_AND_CHILD_HEALTH,723;WB_639_REPRODUCTIVE_MATERNAL_AND_CHILD_HEALTH,985;HEALTH_VACCINATION,283;UNGP_HEALTHCARE,283;TAX_DISEASE_DISEASES,1994;WB_1406_DISEASES,1994;CRISISLEX_C03_WELLBEING_HEALTH,1689;CRISISLEX_C03_WELLBEING_HEALTH,1897;CRISISLEX_T03_DEAD,1381;SHORTAGE,1678;EPU_ECONOMY,1809;EPU_ECONOMY_HISTORIC,1809;TAX_DISEASE_MEASLES,1420;WB_840_JUSTICE,3198;WB_2473_DIPLOMACY_AND_NEGOTIATIONS,3198;WB_939_NEGOTIATION,3198;WB_2470_PEACE_OPERATIONS_AND_CONFLICT_MANAGEMENT,3198;WB_936_ALTERNATIVE_DISPUTE_RESOLUTION,3198;WB_2432_FRAGILITY_CONFLICT_AND_VIOLENCE,3198;WB_843_DISPUTE_RESOLUTION,3198;WB_2471_PEACEKEEPING,3198;WB_2024_ANTI_CORRUPTION_AUTHORITIES,2748;WB_696_PUBLIC_SECTOR_MANAGEMENT,2748;WB_831_GOVERNANCE,2748;WB_832_ANTI_CORRUPTION,2748;WB_2026_PREVENTION,2748;TAX_DISEASE_DIABETES,2011;TAX_CHRONICDISEASE_DIABETES,2011;WB_1433_DIABETES,2011;TAX_DISEASE_CORONAVIRUS,309;TAX_DISEASE_CORONAVIRUS,770;TAX_DISEASE_CORONAVIRUS,887;TAX_DISEASE_CORONAVIRUS,2281;TAX_DISEASE_CORONAVIRUS,3270;WB_1427_NON_COMMUNICABLE_DISEASE_AND_INJURY,1994;TAX_FNCACT_MINISTER,156;TAX_FNCACT_MINISTER,339;TAX_FNCACT_MINISTER,2314;TAX_FNCACT_MINISTER,2863;TAX_FNCACT_MINISTER,3317;GENERAL_HEALTH,147;GENERAL_HEALTH,330;GENERAL_HEALTH,2205;GENERAL_HEALTH,2305;GENERAL_HEALTH,3308;GENERAL_HEALTH,3373;MEDICAL,147;MEDICAL,330;MEDICAL,2205;MEDICAL,2305;MEDICAL,3308;MEDICAL,3373;TAX_DISEASE_HIGH_BLOOD_PRESSURE,2033;WB_1432_HYPERTENSION,2033;TAX_DISEASE_OUTBREAK,1429;WB_635_PUBLIC_HEALTH,1429;WB_2165_HEALTH_EMERGENCIES,1429;WB_2166_HEALTH_EMERGENCY_PREPAREDNESS_AND_DISASTER_RESPONSE,1429;WB_2167_PANDEMICS,1429;WB_1331_HEALTH_TECHNOLOGIES,1698;WB_1331_HEALTH_TECHNOLOGIES,1906;WB_1350_PHARMACEUTICALS,1698;WB_1350_PHARMACEUTICALS,1906;UNGP_FORESTS_RIVERS_OCEANS,900;USPEC_POLICY1,226;USPEC_POLICY1,1845;USPEC_POLICY1,2184;EPU_POLICY_BUDGET,226;EPU_POLICY_BUDGET,1845;EPU_POLICY_BUDGET,2184;</td>\n",
       "      <td>amelia tuipulotu</td>\n",
       "      <td>health for tonga;mua health centre</td>\n",
       "      <td>0.33955857385399,3.05602716468591,2.71646859083192,5.77249575551783,22.0713073005093,0.169779286926995,520</td>\n",
       "    </tr>\n",
       "  </tbody>\n",
       "</table>\n",
       "</div>"
      ],
      "text/plain": [
       "                                                                                                                                                                                         MentionIdentifier  \\\n",
       "62545    https://parliament.gov.to/media-centre/latest-news/latest-news-in-english/729-cabinet-asked-to-review-budget-allocation-to-health-for-tonga-s-readiness-against-covid-19?switch_to_desktop_ui=438   \n",
       "579408   https://parliament.gov.to/media-centre/latest-news/latest-news-in-english/729-cabinet-asked-to-review-budget-allocation-to-health-for-tonga-s-readiness-against-covid-19?switch_to_desktop_ui=438   \n",
       "1613628  https://parliament.gov.to/media-centre/latest-news/latest-news-in-english/729-cabinet-asked-to-review-budget-allocation-to-health-for-tonga-s-readiness-against-covid-19?switch_to_desktop_ui=438   \n",
       "2177827  https://parliament.gov.to/media-centre/latest-news/latest-news-in-english/729-cabinet-asked-to-review-budget-allocation-to-health-for-tonga-s-readiness-against-covid-19?switch_to_desktop_ui=438   \n",
       "2261689  https://parliament.gov.to/media-centre/latest-news/latest-news-in-english/729-cabinet-asked-to-review-budget-allocation-to-health-for-tonga-s-readiness-against-covid-19?switch_to_desktop_ui=438   \n",
       "2302755  https://parliament.gov.to/media-centre/latest-news/latest-news-in-english/729-cabinet-asked-to-review-budget-allocation-to-health-for-tonga-s-readiness-against-covid-19?switch_to_desktop_ui=438   \n",
       "2350729  https://parliament.gov.to/media-centre/latest-news/latest-news-in-english/729-cabinet-asked-to-review-budget-allocation-to-health-for-tonga-s-readiness-against-covid-19?switch_to_desktop_ui=438   \n",
       "3729368  https://parliament.gov.to/media-centre/latest-news/latest-news-in-english/729-cabinet-asked-to-review-budget-allocation-to-health-for-tonga-s-readiness-against-covid-19?switch_to_desktop_ui=438   \n",
       "\n",
       "         SourceCollectionIdentifier   SourceCommonName  \\\n",
       "62545                             1  parliament.gov.to   \n",
       "579408                            1  parliament.gov.to   \n",
       "1613628                           1  parliament.gov.to   \n",
       "2177827                           1  parliament.gov.to   \n",
       "2261689                           1  parliament.gov.to   \n",
       "2302755                           1  parliament.gov.to   \n",
       "2350729                           1  parliament.gov.to   \n",
       "3729368                           1  parliament.gov.to   \n",
       "\n",
       "                                                                                                                                                                                        DocumentIdentifier  \\\n",
       "62545    https://parliament.gov.to/media-centre/latest-news/latest-news-in-english/729-cabinet-asked-to-review-budget-allocation-to-health-for-tonga-s-readiness-against-covid-19?switch_to_desktop_ui=438   \n",
       "579408   https://parliament.gov.to/media-centre/latest-news/latest-news-in-english/729-cabinet-asked-to-review-budget-allocation-to-health-for-tonga-s-readiness-against-covid-19?switch_to_desktop_ui=438   \n",
       "1613628  https://parliament.gov.to/media-centre/latest-news/latest-news-in-english/729-cabinet-asked-to-review-budget-allocation-to-health-for-tonga-s-readiness-against-covid-19?switch_to_desktop_ui=438   \n",
       "2177827  https://parliament.gov.to/media-centre/latest-news/latest-news-in-english/729-cabinet-asked-to-review-budget-allocation-to-health-for-tonga-s-readiness-against-covid-19?switch_to_desktop_ui=438   \n",
       "2261689  https://parliament.gov.to/media-centre/latest-news/latest-news-in-english/729-cabinet-asked-to-review-budget-allocation-to-health-for-tonga-s-readiness-against-covid-19?switch_to_desktop_ui=438   \n",
       "2302755  https://parliament.gov.to/media-centre/latest-news/latest-news-in-english/729-cabinet-asked-to-review-budget-allocation-to-health-for-tonga-s-readiness-against-covid-19?switch_to_desktop_ui=438   \n",
       "2350729  https://parliament.gov.to/media-centre/latest-news/latest-news-in-english/729-cabinet-asked-to-review-budget-allocation-to-health-for-tonga-s-readiness-against-covid-19?switch_to_desktop_ui=438   \n",
       "3729368  https://parliament.gov.to/media-centre/latest-news/latest-news-in-english/729-cabinet-asked-to-review-budget-allocation-to-health-for-tonga-s-readiness-against-covid-19?switch_to_desktop_ui=438   \n",
       "\n",
       "                                                                                                                                                                                                                                                                                                                                                                                                                                                                                                                                                                                                                                                                                                                                                                                                                                                                                                                                                                                                                                                                                                                                                                                                                                                                                                                                           Themes  \\\n",
       "62545    GENERAL_HEALTH;MEDICAL;TAX_FNCACT;TAX_FNCACT_MINISTER;USPEC_POLICY1;EPU_POLICY;EPU_POLICY_BUDGET;HEALTH_VACCINATION;UNGP_HEALTHCARE;TAX_DISEASE;TAX_DISEASE_CORONAVIRUS;WB_642_CHILD_HEALTH;WB_1459_IMMUNIZATIONS;WB_621_HEALTH_NUTRITION_AND_POPULATION;WB_639_REPRODUCTIVE_MATERNAL_AND_CHILD_HEALTH;CRISISLEX_CRISISLEXREC;GENERAL_GOVERNMENT;EPU_POLICY_GOVERNMENT;UNGP_FORESTS_RIVERS_OCEANS;CRISISLEX_T03_DEAD;TAX_DISEASE_MEASLES;TAX_DISEASE_OUTBREAK;WB_635_PUBLIC_HEALTH;WB_2165_HEALTH_EMERGENCIES;WB_2166_HEALTH_EMERGENCY_PREPAREDNESS_AND_DISASTER_RESPONSE;WB_2167_PANDEMICS;SHORTAGE;CRISISLEX_C03_WELLBEING_HEALTH;WB_1331_HEALTH_TECHNOLOGIES;WB_1350_PHARMACEUTICALS;EPU_ECONOMY;EPU_ECONOMY_HISTORIC;TAX_DISEASE_DISEASES;WB_1406_DISEASES;WB_1427_NON_COMMUNICABLE_DISEASE_AND_INJURY;TAX_DISEASE_DIABETES;TAX_CHRONICDISEASE;TAX_CHRONICDISEASE_DIABETES;WB_1433_DIABETES;TAX_DISEASE_HIGH_BLOOD_PRESSURE;WB_1432_HYPERTENSION;WB_2024_ANTI_CORRUPTION_AUTHORITIES;WB_696_PUBLIC_SECTOR_MANAGEMENT;WB_831_GOVERNANCE;WB_832_ANTI_CORRUPTION;WB_2026_PREVENTION;WB_840_JUSTICE;WB_2473_DIPLOMACY_AND_NEGOTIATIONS;WB_939_NEGOTIATION;WB_2470_PEACE_OPERATIONS_AND_CONFLICT_MANAGEMENT;WB_936_ALTERNATIVE_DISPUTE_RESOLUTION;WB_2432_FRAGILITY_CONFLICT_AND_VIOLENCE;WB_843_DISPUTE_RESOLUTION;WB_2471_PEACEKEEPING;   \n",
       "579408   GENERAL_HEALTH;MEDICAL;TAX_FNCACT;TAX_FNCACT_MINISTER;USPEC_POLICY1;EPU_POLICY;EPU_POLICY_BUDGET;HEALTH_VACCINATION;UNGP_HEALTHCARE;TAX_DISEASE;TAX_DISEASE_CORONAVIRUS;WB_642_CHILD_HEALTH;WB_1459_IMMUNIZATIONS;WB_621_HEALTH_NUTRITION_AND_POPULATION;WB_639_REPRODUCTIVE_MATERNAL_AND_CHILD_HEALTH;CRISISLEX_CRISISLEXREC;GENERAL_GOVERNMENT;EPU_POLICY_GOVERNMENT;UNGP_FORESTS_RIVERS_OCEANS;CRISISLEX_T03_DEAD;TAX_DISEASE_MEASLES;TAX_DISEASE_OUTBREAK;WB_635_PUBLIC_HEALTH;WB_2165_HEALTH_EMERGENCIES;WB_2166_HEALTH_EMERGENCY_PREPAREDNESS_AND_DISASTER_RESPONSE;WB_2167_PANDEMICS;SHORTAGE;CRISISLEX_C03_WELLBEING_HEALTH;WB_1331_HEALTH_TECHNOLOGIES;WB_1350_PHARMACEUTICALS;EPU_ECONOMY;EPU_ECONOMY_HISTORIC;TAX_DISEASE_DISEASES;WB_1406_DISEASES;WB_1427_NON_COMMUNICABLE_DISEASE_AND_INJURY;TAX_DISEASE_DIABETES;TAX_CHRONICDISEASE;TAX_CHRONICDISEASE_DIABETES;WB_1433_DIABETES;TAX_DISEASE_HIGH_BLOOD_PRESSURE;WB_1432_HYPERTENSION;WB_2024_ANTI_CORRUPTION_AUTHORITIES;WB_696_PUBLIC_SECTOR_MANAGEMENT;WB_831_GOVERNANCE;WB_832_ANTI_CORRUPTION;WB_2026_PREVENTION;WB_840_JUSTICE;WB_2473_DIPLOMACY_AND_NEGOTIATIONS;WB_939_NEGOTIATION;WB_2470_PEACE_OPERATIONS_AND_CONFLICT_MANAGEMENT;WB_936_ALTERNATIVE_DISPUTE_RESOLUTION;WB_2432_FRAGILITY_CONFLICT_AND_VIOLENCE;WB_843_DISPUTE_RESOLUTION;WB_2471_PEACEKEEPING;   \n",
       "1613628  GENERAL_HEALTH;MEDICAL;TAX_FNCACT;TAX_FNCACT_MINISTER;USPEC_POLICY1;EPU_POLICY;EPU_POLICY_BUDGET;HEALTH_VACCINATION;UNGP_HEALTHCARE;TAX_DISEASE;TAX_DISEASE_CORONAVIRUS;WB_642_CHILD_HEALTH;WB_1459_IMMUNIZATIONS;WB_621_HEALTH_NUTRITION_AND_POPULATION;WB_639_REPRODUCTIVE_MATERNAL_AND_CHILD_HEALTH;CRISISLEX_CRISISLEXREC;GENERAL_GOVERNMENT;EPU_POLICY_GOVERNMENT;UNGP_FORESTS_RIVERS_OCEANS;CRISISLEX_T03_DEAD;TAX_DISEASE_MEASLES;TAX_DISEASE_OUTBREAK;WB_635_PUBLIC_HEALTH;WB_2165_HEALTH_EMERGENCIES;WB_2166_HEALTH_EMERGENCY_PREPAREDNESS_AND_DISASTER_RESPONSE;WB_2167_PANDEMICS;SHORTAGE;CRISISLEX_C03_WELLBEING_HEALTH;WB_1331_HEALTH_TECHNOLOGIES;WB_1350_PHARMACEUTICALS;EPU_ECONOMY;EPU_ECONOMY_HISTORIC;TAX_DISEASE_DISEASES;WB_1406_DISEASES;WB_1427_NON_COMMUNICABLE_DISEASE_AND_INJURY;TAX_DISEASE_DIABETES;TAX_CHRONICDISEASE;TAX_CHRONICDISEASE_DIABETES;WB_1433_DIABETES;TAX_DISEASE_HIGH_BLOOD_PRESSURE;WB_1432_HYPERTENSION;WB_2024_ANTI_CORRUPTION_AUTHORITIES;WB_696_PUBLIC_SECTOR_MANAGEMENT;WB_831_GOVERNANCE;WB_832_ANTI_CORRUPTION;WB_2026_PREVENTION;WB_840_JUSTICE;WB_2473_DIPLOMACY_AND_NEGOTIATIONS;WB_939_NEGOTIATION;WB_2470_PEACE_OPERATIONS_AND_CONFLICT_MANAGEMENT;WB_936_ALTERNATIVE_DISPUTE_RESOLUTION;WB_2432_FRAGILITY_CONFLICT_AND_VIOLENCE;WB_843_DISPUTE_RESOLUTION;WB_2471_PEACEKEEPING;   \n",
       "2177827  GENERAL_HEALTH;MEDICAL;TAX_FNCACT;TAX_FNCACT_MINISTER;USPEC_POLICY1;EPU_POLICY;EPU_POLICY_BUDGET;HEALTH_VACCINATION;UNGP_HEALTHCARE;TAX_DISEASE;TAX_DISEASE_CORONAVIRUS;WB_642_CHILD_HEALTH;WB_1459_IMMUNIZATIONS;WB_621_HEALTH_NUTRITION_AND_POPULATION;WB_639_REPRODUCTIVE_MATERNAL_AND_CHILD_HEALTH;CRISISLEX_CRISISLEXREC;GENERAL_GOVERNMENT;EPU_POLICY_GOVERNMENT;UNGP_FORESTS_RIVERS_OCEANS;CRISISLEX_T03_DEAD;TAX_DISEASE_MEASLES;TAX_DISEASE_OUTBREAK;WB_635_PUBLIC_HEALTH;WB_2165_HEALTH_EMERGENCIES;WB_2166_HEALTH_EMERGENCY_PREPAREDNESS_AND_DISASTER_RESPONSE;WB_2167_PANDEMICS;SHORTAGE;CRISISLEX_C03_WELLBEING_HEALTH;WB_1331_HEALTH_TECHNOLOGIES;WB_1350_PHARMACEUTICALS;EPU_ECONOMY;EPU_ECONOMY_HISTORIC;TAX_DISEASE_DISEASES;WB_1406_DISEASES;WB_1427_NON_COMMUNICABLE_DISEASE_AND_INJURY;TAX_DISEASE_DIABETES;TAX_CHRONICDISEASE;TAX_CHRONICDISEASE_DIABETES;WB_1433_DIABETES;TAX_DISEASE_HIGH_BLOOD_PRESSURE;WB_1432_HYPERTENSION;WB_2024_ANTI_CORRUPTION_AUTHORITIES;WB_696_PUBLIC_SECTOR_MANAGEMENT;WB_831_GOVERNANCE;WB_832_ANTI_CORRUPTION;WB_2026_PREVENTION;WB_840_JUSTICE;WB_2473_DIPLOMACY_AND_NEGOTIATIONS;WB_939_NEGOTIATION;WB_2470_PEACE_OPERATIONS_AND_CONFLICT_MANAGEMENT;WB_936_ALTERNATIVE_DISPUTE_RESOLUTION;WB_2432_FRAGILITY_CONFLICT_AND_VIOLENCE;WB_843_DISPUTE_RESOLUTION;WB_2471_PEACEKEEPING;   \n",
       "2261689  GENERAL_HEALTH;MEDICAL;TAX_FNCACT;TAX_FNCACT_MINISTER;USPEC_POLICY1;EPU_POLICY;EPU_POLICY_BUDGET;HEALTH_VACCINATION;UNGP_HEALTHCARE;TAX_DISEASE;TAX_DISEASE_CORONAVIRUS;WB_642_CHILD_HEALTH;WB_1459_IMMUNIZATIONS;WB_621_HEALTH_NUTRITION_AND_POPULATION;WB_639_REPRODUCTIVE_MATERNAL_AND_CHILD_HEALTH;CRISISLEX_CRISISLEXREC;GENERAL_GOVERNMENT;EPU_POLICY_GOVERNMENT;UNGP_FORESTS_RIVERS_OCEANS;CRISISLEX_T03_DEAD;TAX_DISEASE_MEASLES;TAX_DISEASE_OUTBREAK;WB_635_PUBLIC_HEALTH;WB_2165_HEALTH_EMERGENCIES;WB_2166_HEALTH_EMERGENCY_PREPAREDNESS_AND_DISASTER_RESPONSE;WB_2167_PANDEMICS;SHORTAGE;CRISISLEX_C03_WELLBEING_HEALTH;WB_1331_HEALTH_TECHNOLOGIES;WB_1350_PHARMACEUTICALS;EPU_ECONOMY;EPU_ECONOMY_HISTORIC;TAX_DISEASE_DISEASES;WB_1406_DISEASES;WB_1427_NON_COMMUNICABLE_DISEASE_AND_INJURY;TAX_DISEASE_DIABETES;TAX_CHRONICDISEASE;TAX_CHRONICDISEASE_DIABETES;WB_1433_DIABETES;TAX_DISEASE_HIGH_BLOOD_PRESSURE;WB_1432_HYPERTENSION;WB_2024_ANTI_CORRUPTION_AUTHORITIES;WB_696_PUBLIC_SECTOR_MANAGEMENT;WB_831_GOVERNANCE;WB_832_ANTI_CORRUPTION;WB_2026_PREVENTION;WB_840_JUSTICE;WB_2473_DIPLOMACY_AND_NEGOTIATIONS;WB_939_NEGOTIATION;WB_2470_PEACE_OPERATIONS_AND_CONFLICT_MANAGEMENT;WB_936_ALTERNATIVE_DISPUTE_RESOLUTION;WB_2432_FRAGILITY_CONFLICT_AND_VIOLENCE;WB_843_DISPUTE_RESOLUTION;WB_2471_PEACEKEEPING;   \n",
       "2302755  GENERAL_HEALTH;MEDICAL;TAX_FNCACT;TAX_FNCACT_MINISTER;USPEC_POLICY1;EPU_POLICY;EPU_POLICY_BUDGET;HEALTH_VACCINATION;UNGP_HEALTHCARE;TAX_DISEASE;TAX_DISEASE_CORONAVIRUS;WB_642_CHILD_HEALTH;WB_1459_IMMUNIZATIONS;WB_621_HEALTH_NUTRITION_AND_POPULATION;WB_639_REPRODUCTIVE_MATERNAL_AND_CHILD_HEALTH;CRISISLEX_CRISISLEXREC;GENERAL_GOVERNMENT;EPU_POLICY_GOVERNMENT;UNGP_FORESTS_RIVERS_OCEANS;CRISISLEX_T03_DEAD;TAX_DISEASE_MEASLES;TAX_DISEASE_OUTBREAK;WB_635_PUBLIC_HEALTH;WB_2165_HEALTH_EMERGENCIES;WB_2166_HEALTH_EMERGENCY_PREPAREDNESS_AND_DISASTER_RESPONSE;WB_2167_PANDEMICS;SHORTAGE;CRISISLEX_C03_WELLBEING_HEALTH;WB_1331_HEALTH_TECHNOLOGIES;WB_1350_PHARMACEUTICALS;EPU_ECONOMY;EPU_ECONOMY_HISTORIC;TAX_DISEASE_DISEASES;WB_1406_DISEASES;WB_1427_NON_COMMUNICABLE_DISEASE_AND_INJURY;TAX_DISEASE_DIABETES;TAX_CHRONICDISEASE;TAX_CHRONICDISEASE_DIABETES;WB_1433_DIABETES;TAX_DISEASE_HIGH_BLOOD_PRESSURE;WB_1432_HYPERTENSION;WB_2024_ANTI_CORRUPTION_AUTHORITIES;WB_696_PUBLIC_SECTOR_MANAGEMENT;WB_831_GOVERNANCE;WB_832_ANTI_CORRUPTION;WB_2026_PREVENTION;WB_840_JUSTICE;WB_2473_DIPLOMACY_AND_NEGOTIATIONS;WB_939_NEGOTIATION;WB_2470_PEACE_OPERATIONS_AND_CONFLICT_MANAGEMENT;WB_936_ALTERNATIVE_DISPUTE_RESOLUTION;WB_2432_FRAGILITY_CONFLICT_AND_VIOLENCE;WB_843_DISPUTE_RESOLUTION;WB_2471_PEACEKEEPING;   \n",
       "2350729  GENERAL_HEALTH;MEDICAL;TAX_FNCACT;TAX_FNCACT_MINISTER;USPEC_POLICY1;EPU_POLICY;EPU_POLICY_BUDGET;HEALTH_VACCINATION;UNGP_HEALTHCARE;TAX_DISEASE;TAX_DISEASE_CORONAVIRUS;WB_642_CHILD_HEALTH;WB_1459_IMMUNIZATIONS;WB_621_HEALTH_NUTRITION_AND_POPULATION;WB_639_REPRODUCTIVE_MATERNAL_AND_CHILD_HEALTH;CRISISLEX_CRISISLEXREC;GENERAL_GOVERNMENT;EPU_POLICY_GOVERNMENT;UNGP_FORESTS_RIVERS_OCEANS;CRISISLEX_T03_DEAD;TAX_DISEASE_MEASLES;TAX_DISEASE_OUTBREAK;WB_635_PUBLIC_HEALTH;WB_2165_HEALTH_EMERGENCIES;WB_2166_HEALTH_EMERGENCY_PREPAREDNESS_AND_DISASTER_RESPONSE;WB_2167_PANDEMICS;SHORTAGE;CRISISLEX_C03_WELLBEING_HEALTH;WB_1331_HEALTH_TECHNOLOGIES;WB_1350_PHARMACEUTICALS;EPU_ECONOMY;EPU_ECONOMY_HISTORIC;TAX_DISEASE_DISEASES;WB_1406_DISEASES;WB_1427_NON_COMMUNICABLE_DISEASE_AND_INJURY;TAX_DISEASE_DIABETES;TAX_CHRONICDISEASE;TAX_CHRONICDISEASE_DIABETES;WB_1433_DIABETES;TAX_DISEASE_HIGH_BLOOD_PRESSURE;WB_1432_HYPERTENSION;WB_2024_ANTI_CORRUPTION_AUTHORITIES;WB_696_PUBLIC_SECTOR_MANAGEMENT;WB_831_GOVERNANCE;WB_832_ANTI_CORRUPTION;WB_2026_PREVENTION;WB_840_JUSTICE;WB_2473_DIPLOMACY_AND_NEGOTIATIONS;WB_939_NEGOTIATION;WB_2470_PEACE_OPERATIONS_AND_CONFLICT_MANAGEMENT;WB_936_ALTERNATIVE_DISPUTE_RESOLUTION;WB_2432_FRAGILITY_CONFLICT_AND_VIOLENCE;WB_843_DISPUTE_RESOLUTION;WB_2471_PEACEKEEPING;   \n",
       "3729368  GENERAL_HEALTH;MEDICAL;TAX_FNCACT;TAX_FNCACT_MINISTER;USPEC_POLICY1;EPU_POLICY;EPU_POLICY_BUDGET;HEALTH_VACCINATION;UNGP_HEALTHCARE;TAX_DISEASE;TAX_DISEASE_CORONAVIRUS;WB_642_CHILD_HEALTH;WB_1459_IMMUNIZATIONS;WB_621_HEALTH_NUTRITION_AND_POPULATION;WB_639_REPRODUCTIVE_MATERNAL_AND_CHILD_HEALTH;CRISISLEX_CRISISLEXREC;GENERAL_GOVERNMENT;EPU_POLICY_GOVERNMENT;UNGP_FORESTS_RIVERS_OCEANS;CRISISLEX_T03_DEAD;TAX_DISEASE_MEASLES;TAX_DISEASE_OUTBREAK;WB_635_PUBLIC_HEALTH;WB_2165_HEALTH_EMERGENCIES;WB_2166_HEALTH_EMERGENCY_PREPAREDNESS_AND_DISASTER_RESPONSE;WB_2167_PANDEMICS;SHORTAGE;CRISISLEX_C03_WELLBEING_HEALTH;WB_1331_HEALTH_TECHNOLOGIES;WB_1350_PHARMACEUTICALS;EPU_ECONOMY;EPU_ECONOMY_HISTORIC;TAX_DISEASE_DISEASES;WB_1406_DISEASES;WB_1427_NON_COMMUNICABLE_DISEASE_AND_INJURY;TAX_DISEASE_DIABETES;TAX_CHRONICDISEASE;TAX_CHRONICDISEASE_DIABETES;WB_1433_DIABETES;TAX_DISEASE_HIGH_BLOOD_PRESSURE;WB_1432_HYPERTENSION;WB_2024_ANTI_CORRUPTION_AUTHORITIES;WB_696_PUBLIC_SECTOR_MANAGEMENT;WB_831_GOVERNANCE;WB_832_ANTI_CORRUPTION;WB_2026_PREVENTION;WB_840_JUSTICE;WB_2473_DIPLOMACY_AND_NEGOTIATIONS;WB_939_NEGOTIATION;WB_2470_PEACE_OPERATIONS_AND_CONFLICT_MANAGEMENT;WB_936_ALTERNATIVE_DISPUTE_RESOLUTION;WB_2432_FRAGILITY_CONFLICT_AND_VIOLENCE;WB_843_DISPUTE_RESOLUTION;WB_2471_PEACEKEEPING;   \n",
       "\n",
       "                                                                                                                                                                                                                                                                                                                                                                                                                                                                                                                                                                                                                                                                                                                                                                                                                                                                                                                                                                                                                                                                                                                                                                                                                                                                                                                                                                                                                                                                                                                                                                                                                                                                                                                                                                                                                                                                                                                                                                                                                                                                                                                                                                                                                                                                                                                                                                                                                                                                                                                                                                                                            V2Themes  \\\n",
       "62545    GENERAL_GOVERNMENT,681;GENERAL_GOVERNMENT,2163;EPU_POLICY_GOVERNMENT,681;EPU_POLICY_GOVERNMENT,2163;CRISISLEX_CRISISLEXREC,453;WB_642_CHILD_HEALTH,438;WB_642_CHILD_HEALTH,550;WB_642_CHILD_HEALTH,723;WB_642_CHILD_HEALTH,985;WB_1459_IMMUNIZATIONS,438;WB_1459_IMMUNIZATIONS,550;WB_1459_IMMUNIZATIONS,723;WB_1459_IMMUNIZATIONS,985;WB_621_HEALTH_NUTRITION_AND_POPULATION,438;WB_621_HEALTH_NUTRITION_AND_POPULATION,550;WB_621_HEALTH_NUTRITION_AND_POPULATION,723;WB_621_HEALTH_NUTRITION_AND_POPULATION,985;WB_639_REPRODUCTIVE_MATERNAL_AND_CHILD_HEALTH,438;WB_639_REPRODUCTIVE_MATERNAL_AND_CHILD_HEALTH,550;WB_639_REPRODUCTIVE_MATERNAL_AND_CHILD_HEALTH,723;WB_639_REPRODUCTIVE_MATERNAL_AND_CHILD_HEALTH,985;HEALTH_VACCINATION,283;UNGP_HEALTHCARE,283;TAX_DISEASE_DISEASES,1994;WB_1406_DISEASES,1994;CRISISLEX_C03_WELLBEING_HEALTH,1689;CRISISLEX_C03_WELLBEING_HEALTH,1897;CRISISLEX_T03_DEAD,1381;SHORTAGE,1678;EPU_ECONOMY,1809;EPU_ECONOMY_HISTORIC,1809;TAX_DISEASE_MEASLES,1420;WB_840_JUSTICE,3198;WB_2473_DIPLOMACY_AND_NEGOTIATIONS,3198;WB_939_NEGOTIATION,3198;WB_2470_PEACE_OPERATIONS_AND_CONFLICT_MANAGEMENT,3198;WB_936_ALTERNATIVE_DISPUTE_RESOLUTION,3198;WB_2432_FRAGILITY_CONFLICT_AND_VIOLENCE,3198;WB_843_DISPUTE_RESOLUTION,3198;WB_2471_PEACEKEEPING,3198;WB_2024_ANTI_CORRUPTION_AUTHORITIES,2748;WB_696_PUBLIC_SECTOR_MANAGEMENT,2748;WB_831_GOVERNANCE,2748;WB_832_ANTI_CORRUPTION,2748;WB_2026_PREVENTION,2748;TAX_DISEASE_DIABETES,2011;TAX_CHRONICDISEASE_DIABETES,2011;WB_1433_DIABETES,2011;TAX_DISEASE_CORONAVIRUS,309;TAX_DISEASE_CORONAVIRUS,770;TAX_DISEASE_CORONAVIRUS,887;TAX_DISEASE_CORONAVIRUS,2281;TAX_DISEASE_CORONAVIRUS,3270;WB_1427_NON_COMMUNICABLE_DISEASE_AND_INJURY,1994;TAX_FNCACT_MINISTER,156;TAX_FNCACT_MINISTER,339;TAX_FNCACT_MINISTER,2314;TAX_FNCACT_MINISTER,2863;TAX_FNCACT_MINISTER,3317;GENERAL_HEALTH,147;GENERAL_HEALTH,330;GENERAL_HEALTH,2205;GENERAL_HEALTH,2305;GENERAL_HEALTH,3308;GENERAL_HEALTH,3373;MEDICAL,147;MEDICAL,330;MEDICAL,2205;MEDICAL,2305;MEDICAL,3308;MEDICAL,3373;TAX_DISEASE_HIGH_BLOOD_PRESSURE,2033;WB_1432_HYPERTENSION,2033;TAX_DISEASE_OUTBREAK,1429;WB_635_PUBLIC_HEALTH,1429;WB_2165_HEALTH_EMERGENCIES,1429;WB_2166_HEALTH_EMERGENCY_PREPAREDNESS_AND_DISASTER_RESPONSE,1429;WB_2167_PANDEMICS,1429;WB_1331_HEALTH_TECHNOLOGIES,1698;WB_1331_HEALTH_TECHNOLOGIES,1906;WB_1350_PHARMACEUTICALS,1698;WB_1350_PHARMACEUTICALS,1906;UNGP_FORESTS_RIVERS_OCEANS,900;USPEC_POLICY1,226;USPEC_POLICY1,1845;USPEC_POLICY1,2184;EPU_POLICY_BUDGET,226;EPU_POLICY_BUDGET,1845;EPU_POLICY_BUDGET,2184;   \n",
       "579408   GENERAL_GOVERNMENT,681;GENERAL_GOVERNMENT,2163;EPU_POLICY_GOVERNMENT,681;EPU_POLICY_GOVERNMENT,2163;CRISISLEX_CRISISLEXREC,453;WB_642_CHILD_HEALTH,438;WB_642_CHILD_HEALTH,550;WB_642_CHILD_HEALTH,723;WB_642_CHILD_HEALTH,985;WB_1459_IMMUNIZATIONS,438;WB_1459_IMMUNIZATIONS,550;WB_1459_IMMUNIZATIONS,723;WB_1459_IMMUNIZATIONS,985;WB_621_HEALTH_NUTRITION_AND_POPULATION,438;WB_621_HEALTH_NUTRITION_AND_POPULATION,550;WB_621_HEALTH_NUTRITION_AND_POPULATION,723;WB_621_HEALTH_NUTRITION_AND_POPULATION,985;WB_639_REPRODUCTIVE_MATERNAL_AND_CHILD_HEALTH,438;WB_639_REPRODUCTIVE_MATERNAL_AND_CHILD_HEALTH,550;WB_639_REPRODUCTIVE_MATERNAL_AND_CHILD_HEALTH,723;WB_639_REPRODUCTIVE_MATERNAL_AND_CHILD_HEALTH,985;HEALTH_VACCINATION,283;UNGP_HEALTHCARE,283;TAX_DISEASE_DISEASES,1994;WB_1406_DISEASES,1994;CRISISLEX_C03_WELLBEING_HEALTH,1689;CRISISLEX_C03_WELLBEING_HEALTH,1897;CRISISLEX_T03_DEAD,1381;SHORTAGE,1678;EPU_ECONOMY,1809;EPU_ECONOMY_HISTORIC,1809;TAX_DISEASE_MEASLES,1420;WB_840_JUSTICE,3198;WB_2473_DIPLOMACY_AND_NEGOTIATIONS,3198;WB_939_NEGOTIATION,3198;WB_2470_PEACE_OPERATIONS_AND_CONFLICT_MANAGEMENT,3198;WB_936_ALTERNATIVE_DISPUTE_RESOLUTION,3198;WB_2432_FRAGILITY_CONFLICT_AND_VIOLENCE,3198;WB_843_DISPUTE_RESOLUTION,3198;WB_2471_PEACEKEEPING,3198;WB_2024_ANTI_CORRUPTION_AUTHORITIES,2748;WB_696_PUBLIC_SECTOR_MANAGEMENT,2748;WB_831_GOVERNANCE,2748;WB_832_ANTI_CORRUPTION,2748;WB_2026_PREVENTION,2748;TAX_DISEASE_DIABETES,2011;TAX_CHRONICDISEASE_DIABETES,2011;WB_1433_DIABETES,2011;TAX_DISEASE_CORONAVIRUS,309;TAX_DISEASE_CORONAVIRUS,770;TAX_DISEASE_CORONAVIRUS,887;TAX_DISEASE_CORONAVIRUS,2281;TAX_DISEASE_CORONAVIRUS,3270;WB_1427_NON_COMMUNICABLE_DISEASE_AND_INJURY,1994;TAX_FNCACT_MINISTER,156;TAX_FNCACT_MINISTER,339;TAX_FNCACT_MINISTER,2314;TAX_FNCACT_MINISTER,2863;TAX_FNCACT_MINISTER,3317;GENERAL_HEALTH,147;GENERAL_HEALTH,330;GENERAL_HEALTH,2205;GENERAL_HEALTH,2305;GENERAL_HEALTH,3308;GENERAL_HEALTH,3373;MEDICAL,147;MEDICAL,330;MEDICAL,2205;MEDICAL,2305;MEDICAL,3308;MEDICAL,3373;TAX_DISEASE_HIGH_BLOOD_PRESSURE,2033;WB_1432_HYPERTENSION,2033;TAX_DISEASE_OUTBREAK,1429;WB_635_PUBLIC_HEALTH,1429;WB_2165_HEALTH_EMERGENCIES,1429;WB_2166_HEALTH_EMERGENCY_PREPAREDNESS_AND_DISASTER_RESPONSE,1429;WB_2167_PANDEMICS,1429;WB_1331_HEALTH_TECHNOLOGIES,1698;WB_1331_HEALTH_TECHNOLOGIES,1906;WB_1350_PHARMACEUTICALS,1698;WB_1350_PHARMACEUTICALS,1906;UNGP_FORESTS_RIVERS_OCEANS,900;USPEC_POLICY1,226;USPEC_POLICY1,1845;USPEC_POLICY1,2184;EPU_POLICY_BUDGET,226;EPU_POLICY_BUDGET,1845;EPU_POLICY_BUDGET,2184;   \n",
       "1613628  GENERAL_GOVERNMENT,681;GENERAL_GOVERNMENT,2163;EPU_POLICY_GOVERNMENT,681;EPU_POLICY_GOVERNMENT,2163;CRISISLEX_CRISISLEXREC,453;WB_642_CHILD_HEALTH,438;WB_642_CHILD_HEALTH,550;WB_642_CHILD_HEALTH,723;WB_642_CHILD_HEALTH,985;WB_1459_IMMUNIZATIONS,438;WB_1459_IMMUNIZATIONS,550;WB_1459_IMMUNIZATIONS,723;WB_1459_IMMUNIZATIONS,985;WB_621_HEALTH_NUTRITION_AND_POPULATION,438;WB_621_HEALTH_NUTRITION_AND_POPULATION,550;WB_621_HEALTH_NUTRITION_AND_POPULATION,723;WB_621_HEALTH_NUTRITION_AND_POPULATION,985;WB_639_REPRODUCTIVE_MATERNAL_AND_CHILD_HEALTH,438;WB_639_REPRODUCTIVE_MATERNAL_AND_CHILD_HEALTH,550;WB_639_REPRODUCTIVE_MATERNAL_AND_CHILD_HEALTH,723;WB_639_REPRODUCTIVE_MATERNAL_AND_CHILD_HEALTH,985;HEALTH_VACCINATION,283;UNGP_HEALTHCARE,283;TAX_DISEASE_DISEASES,1994;WB_1406_DISEASES,1994;CRISISLEX_C03_WELLBEING_HEALTH,1689;CRISISLEX_C03_WELLBEING_HEALTH,1897;CRISISLEX_T03_DEAD,1381;SHORTAGE,1678;EPU_ECONOMY,1809;EPU_ECONOMY_HISTORIC,1809;TAX_DISEASE_MEASLES,1420;WB_840_JUSTICE,3198;WB_2473_DIPLOMACY_AND_NEGOTIATIONS,3198;WB_939_NEGOTIATION,3198;WB_2470_PEACE_OPERATIONS_AND_CONFLICT_MANAGEMENT,3198;WB_936_ALTERNATIVE_DISPUTE_RESOLUTION,3198;WB_2432_FRAGILITY_CONFLICT_AND_VIOLENCE,3198;WB_843_DISPUTE_RESOLUTION,3198;WB_2471_PEACEKEEPING,3198;WB_2024_ANTI_CORRUPTION_AUTHORITIES,2748;WB_696_PUBLIC_SECTOR_MANAGEMENT,2748;WB_831_GOVERNANCE,2748;WB_832_ANTI_CORRUPTION,2748;WB_2026_PREVENTION,2748;TAX_DISEASE_DIABETES,2011;TAX_CHRONICDISEASE_DIABETES,2011;WB_1433_DIABETES,2011;TAX_DISEASE_CORONAVIRUS,309;TAX_DISEASE_CORONAVIRUS,770;TAX_DISEASE_CORONAVIRUS,887;TAX_DISEASE_CORONAVIRUS,2281;TAX_DISEASE_CORONAVIRUS,3270;WB_1427_NON_COMMUNICABLE_DISEASE_AND_INJURY,1994;TAX_FNCACT_MINISTER,156;TAX_FNCACT_MINISTER,339;TAX_FNCACT_MINISTER,2314;TAX_FNCACT_MINISTER,2863;TAX_FNCACT_MINISTER,3317;GENERAL_HEALTH,147;GENERAL_HEALTH,330;GENERAL_HEALTH,2205;GENERAL_HEALTH,2305;GENERAL_HEALTH,3308;GENERAL_HEALTH,3373;MEDICAL,147;MEDICAL,330;MEDICAL,2205;MEDICAL,2305;MEDICAL,3308;MEDICAL,3373;TAX_DISEASE_HIGH_BLOOD_PRESSURE,2033;WB_1432_HYPERTENSION,2033;TAX_DISEASE_OUTBREAK,1429;WB_635_PUBLIC_HEALTH,1429;WB_2165_HEALTH_EMERGENCIES,1429;WB_2166_HEALTH_EMERGENCY_PREPAREDNESS_AND_DISASTER_RESPONSE,1429;WB_2167_PANDEMICS,1429;WB_1331_HEALTH_TECHNOLOGIES,1698;WB_1331_HEALTH_TECHNOLOGIES,1906;WB_1350_PHARMACEUTICALS,1698;WB_1350_PHARMACEUTICALS,1906;UNGP_FORESTS_RIVERS_OCEANS,900;USPEC_POLICY1,226;USPEC_POLICY1,1845;USPEC_POLICY1,2184;EPU_POLICY_BUDGET,226;EPU_POLICY_BUDGET,1845;EPU_POLICY_BUDGET,2184;   \n",
       "2177827  GENERAL_GOVERNMENT,681;GENERAL_GOVERNMENT,2163;EPU_POLICY_GOVERNMENT,681;EPU_POLICY_GOVERNMENT,2163;CRISISLEX_CRISISLEXREC,453;WB_642_CHILD_HEALTH,438;WB_642_CHILD_HEALTH,550;WB_642_CHILD_HEALTH,723;WB_642_CHILD_HEALTH,985;WB_1459_IMMUNIZATIONS,438;WB_1459_IMMUNIZATIONS,550;WB_1459_IMMUNIZATIONS,723;WB_1459_IMMUNIZATIONS,985;WB_621_HEALTH_NUTRITION_AND_POPULATION,438;WB_621_HEALTH_NUTRITION_AND_POPULATION,550;WB_621_HEALTH_NUTRITION_AND_POPULATION,723;WB_621_HEALTH_NUTRITION_AND_POPULATION,985;WB_639_REPRODUCTIVE_MATERNAL_AND_CHILD_HEALTH,438;WB_639_REPRODUCTIVE_MATERNAL_AND_CHILD_HEALTH,550;WB_639_REPRODUCTIVE_MATERNAL_AND_CHILD_HEALTH,723;WB_639_REPRODUCTIVE_MATERNAL_AND_CHILD_HEALTH,985;HEALTH_VACCINATION,283;UNGP_HEALTHCARE,283;TAX_DISEASE_DISEASES,1994;WB_1406_DISEASES,1994;CRISISLEX_C03_WELLBEING_HEALTH,1689;CRISISLEX_C03_WELLBEING_HEALTH,1897;CRISISLEX_T03_DEAD,1381;SHORTAGE,1678;EPU_ECONOMY,1809;EPU_ECONOMY_HISTORIC,1809;TAX_DISEASE_MEASLES,1420;WB_840_JUSTICE,3198;WB_2473_DIPLOMACY_AND_NEGOTIATIONS,3198;WB_939_NEGOTIATION,3198;WB_2470_PEACE_OPERATIONS_AND_CONFLICT_MANAGEMENT,3198;WB_936_ALTERNATIVE_DISPUTE_RESOLUTION,3198;WB_2432_FRAGILITY_CONFLICT_AND_VIOLENCE,3198;WB_843_DISPUTE_RESOLUTION,3198;WB_2471_PEACEKEEPING,3198;WB_2024_ANTI_CORRUPTION_AUTHORITIES,2748;WB_696_PUBLIC_SECTOR_MANAGEMENT,2748;WB_831_GOVERNANCE,2748;WB_832_ANTI_CORRUPTION,2748;WB_2026_PREVENTION,2748;TAX_DISEASE_DIABETES,2011;TAX_CHRONICDISEASE_DIABETES,2011;WB_1433_DIABETES,2011;TAX_DISEASE_CORONAVIRUS,309;TAX_DISEASE_CORONAVIRUS,770;TAX_DISEASE_CORONAVIRUS,887;TAX_DISEASE_CORONAVIRUS,2281;TAX_DISEASE_CORONAVIRUS,3270;WB_1427_NON_COMMUNICABLE_DISEASE_AND_INJURY,1994;TAX_FNCACT_MINISTER,156;TAX_FNCACT_MINISTER,339;TAX_FNCACT_MINISTER,2314;TAX_FNCACT_MINISTER,2863;TAX_FNCACT_MINISTER,3317;GENERAL_HEALTH,147;GENERAL_HEALTH,330;GENERAL_HEALTH,2205;GENERAL_HEALTH,2305;GENERAL_HEALTH,3308;GENERAL_HEALTH,3373;MEDICAL,147;MEDICAL,330;MEDICAL,2205;MEDICAL,2305;MEDICAL,3308;MEDICAL,3373;TAX_DISEASE_HIGH_BLOOD_PRESSURE,2033;WB_1432_HYPERTENSION,2033;TAX_DISEASE_OUTBREAK,1429;WB_635_PUBLIC_HEALTH,1429;WB_2165_HEALTH_EMERGENCIES,1429;WB_2166_HEALTH_EMERGENCY_PREPAREDNESS_AND_DISASTER_RESPONSE,1429;WB_2167_PANDEMICS,1429;WB_1331_HEALTH_TECHNOLOGIES,1698;WB_1331_HEALTH_TECHNOLOGIES,1906;WB_1350_PHARMACEUTICALS,1698;WB_1350_PHARMACEUTICALS,1906;UNGP_FORESTS_RIVERS_OCEANS,900;USPEC_POLICY1,226;USPEC_POLICY1,1845;USPEC_POLICY1,2184;EPU_POLICY_BUDGET,226;EPU_POLICY_BUDGET,1845;EPU_POLICY_BUDGET,2184;   \n",
       "2261689  GENERAL_GOVERNMENT,681;GENERAL_GOVERNMENT,2163;EPU_POLICY_GOVERNMENT,681;EPU_POLICY_GOVERNMENT,2163;CRISISLEX_CRISISLEXREC,453;WB_642_CHILD_HEALTH,438;WB_642_CHILD_HEALTH,550;WB_642_CHILD_HEALTH,723;WB_642_CHILD_HEALTH,985;WB_1459_IMMUNIZATIONS,438;WB_1459_IMMUNIZATIONS,550;WB_1459_IMMUNIZATIONS,723;WB_1459_IMMUNIZATIONS,985;WB_621_HEALTH_NUTRITION_AND_POPULATION,438;WB_621_HEALTH_NUTRITION_AND_POPULATION,550;WB_621_HEALTH_NUTRITION_AND_POPULATION,723;WB_621_HEALTH_NUTRITION_AND_POPULATION,985;WB_639_REPRODUCTIVE_MATERNAL_AND_CHILD_HEALTH,438;WB_639_REPRODUCTIVE_MATERNAL_AND_CHILD_HEALTH,550;WB_639_REPRODUCTIVE_MATERNAL_AND_CHILD_HEALTH,723;WB_639_REPRODUCTIVE_MATERNAL_AND_CHILD_HEALTH,985;HEALTH_VACCINATION,283;UNGP_HEALTHCARE,283;TAX_DISEASE_DISEASES,1994;WB_1406_DISEASES,1994;CRISISLEX_C03_WELLBEING_HEALTH,1689;CRISISLEX_C03_WELLBEING_HEALTH,1897;CRISISLEX_T03_DEAD,1381;SHORTAGE,1678;EPU_ECONOMY,1809;EPU_ECONOMY_HISTORIC,1809;TAX_DISEASE_MEASLES,1420;WB_840_JUSTICE,3198;WB_2473_DIPLOMACY_AND_NEGOTIATIONS,3198;WB_939_NEGOTIATION,3198;WB_2470_PEACE_OPERATIONS_AND_CONFLICT_MANAGEMENT,3198;WB_936_ALTERNATIVE_DISPUTE_RESOLUTION,3198;WB_2432_FRAGILITY_CONFLICT_AND_VIOLENCE,3198;WB_843_DISPUTE_RESOLUTION,3198;WB_2471_PEACEKEEPING,3198;WB_2024_ANTI_CORRUPTION_AUTHORITIES,2748;WB_696_PUBLIC_SECTOR_MANAGEMENT,2748;WB_831_GOVERNANCE,2748;WB_832_ANTI_CORRUPTION,2748;WB_2026_PREVENTION,2748;TAX_DISEASE_DIABETES,2011;TAX_CHRONICDISEASE_DIABETES,2011;WB_1433_DIABETES,2011;TAX_DISEASE_CORONAVIRUS,309;TAX_DISEASE_CORONAVIRUS,770;TAX_DISEASE_CORONAVIRUS,887;TAX_DISEASE_CORONAVIRUS,2281;TAX_DISEASE_CORONAVIRUS,3270;WB_1427_NON_COMMUNICABLE_DISEASE_AND_INJURY,1994;TAX_FNCACT_MINISTER,156;TAX_FNCACT_MINISTER,339;TAX_FNCACT_MINISTER,2314;TAX_FNCACT_MINISTER,2863;TAX_FNCACT_MINISTER,3317;GENERAL_HEALTH,147;GENERAL_HEALTH,330;GENERAL_HEALTH,2205;GENERAL_HEALTH,2305;GENERAL_HEALTH,3308;GENERAL_HEALTH,3373;MEDICAL,147;MEDICAL,330;MEDICAL,2205;MEDICAL,2305;MEDICAL,3308;MEDICAL,3373;TAX_DISEASE_HIGH_BLOOD_PRESSURE,2033;WB_1432_HYPERTENSION,2033;TAX_DISEASE_OUTBREAK,1429;WB_635_PUBLIC_HEALTH,1429;WB_2165_HEALTH_EMERGENCIES,1429;WB_2166_HEALTH_EMERGENCY_PREPAREDNESS_AND_DISASTER_RESPONSE,1429;WB_2167_PANDEMICS,1429;WB_1331_HEALTH_TECHNOLOGIES,1698;WB_1331_HEALTH_TECHNOLOGIES,1906;WB_1350_PHARMACEUTICALS,1698;WB_1350_PHARMACEUTICALS,1906;UNGP_FORESTS_RIVERS_OCEANS,900;USPEC_POLICY1,226;USPEC_POLICY1,1845;USPEC_POLICY1,2184;EPU_POLICY_BUDGET,226;EPU_POLICY_BUDGET,1845;EPU_POLICY_BUDGET,2184;   \n",
       "2302755  GENERAL_GOVERNMENT,681;GENERAL_GOVERNMENT,2163;EPU_POLICY_GOVERNMENT,681;EPU_POLICY_GOVERNMENT,2163;CRISISLEX_CRISISLEXREC,453;WB_642_CHILD_HEALTH,438;WB_642_CHILD_HEALTH,550;WB_642_CHILD_HEALTH,723;WB_642_CHILD_HEALTH,985;WB_1459_IMMUNIZATIONS,438;WB_1459_IMMUNIZATIONS,550;WB_1459_IMMUNIZATIONS,723;WB_1459_IMMUNIZATIONS,985;WB_621_HEALTH_NUTRITION_AND_POPULATION,438;WB_621_HEALTH_NUTRITION_AND_POPULATION,550;WB_621_HEALTH_NUTRITION_AND_POPULATION,723;WB_621_HEALTH_NUTRITION_AND_POPULATION,985;WB_639_REPRODUCTIVE_MATERNAL_AND_CHILD_HEALTH,438;WB_639_REPRODUCTIVE_MATERNAL_AND_CHILD_HEALTH,550;WB_639_REPRODUCTIVE_MATERNAL_AND_CHILD_HEALTH,723;WB_639_REPRODUCTIVE_MATERNAL_AND_CHILD_HEALTH,985;HEALTH_VACCINATION,283;UNGP_HEALTHCARE,283;TAX_DISEASE_DISEASES,1994;WB_1406_DISEASES,1994;CRISISLEX_C03_WELLBEING_HEALTH,1689;CRISISLEX_C03_WELLBEING_HEALTH,1897;CRISISLEX_T03_DEAD,1381;SHORTAGE,1678;EPU_ECONOMY,1809;EPU_ECONOMY_HISTORIC,1809;TAX_DISEASE_MEASLES,1420;WB_840_JUSTICE,3198;WB_2473_DIPLOMACY_AND_NEGOTIATIONS,3198;WB_939_NEGOTIATION,3198;WB_2470_PEACE_OPERATIONS_AND_CONFLICT_MANAGEMENT,3198;WB_936_ALTERNATIVE_DISPUTE_RESOLUTION,3198;WB_2432_FRAGILITY_CONFLICT_AND_VIOLENCE,3198;WB_843_DISPUTE_RESOLUTION,3198;WB_2471_PEACEKEEPING,3198;WB_2024_ANTI_CORRUPTION_AUTHORITIES,2748;WB_696_PUBLIC_SECTOR_MANAGEMENT,2748;WB_831_GOVERNANCE,2748;WB_832_ANTI_CORRUPTION,2748;WB_2026_PREVENTION,2748;TAX_DISEASE_DIABETES,2011;TAX_CHRONICDISEASE_DIABETES,2011;WB_1433_DIABETES,2011;TAX_DISEASE_CORONAVIRUS,309;TAX_DISEASE_CORONAVIRUS,770;TAX_DISEASE_CORONAVIRUS,887;TAX_DISEASE_CORONAVIRUS,2281;TAX_DISEASE_CORONAVIRUS,3270;WB_1427_NON_COMMUNICABLE_DISEASE_AND_INJURY,1994;TAX_FNCACT_MINISTER,156;TAX_FNCACT_MINISTER,339;TAX_FNCACT_MINISTER,2314;TAX_FNCACT_MINISTER,2863;TAX_FNCACT_MINISTER,3317;GENERAL_HEALTH,147;GENERAL_HEALTH,330;GENERAL_HEALTH,2205;GENERAL_HEALTH,2305;GENERAL_HEALTH,3308;GENERAL_HEALTH,3373;MEDICAL,147;MEDICAL,330;MEDICAL,2205;MEDICAL,2305;MEDICAL,3308;MEDICAL,3373;TAX_DISEASE_HIGH_BLOOD_PRESSURE,2033;WB_1432_HYPERTENSION,2033;TAX_DISEASE_OUTBREAK,1429;WB_635_PUBLIC_HEALTH,1429;WB_2165_HEALTH_EMERGENCIES,1429;WB_2166_HEALTH_EMERGENCY_PREPAREDNESS_AND_DISASTER_RESPONSE,1429;WB_2167_PANDEMICS,1429;WB_1331_HEALTH_TECHNOLOGIES,1698;WB_1331_HEALTH_TECHNOLOGIES,1906;WB_1350_PHARMACEUTICALS,1698;WB_1350_PHARMACEUTICALS,1906;UNGP_FORESTS_RIVERS_OCEANS,900;USPEC_POLICY1,226;USPEC_POLICY1,1845;USPEC_POLICY1,2184;EPU_POLICY_BUDGET,226;EPU_POLICY_BUDGET,1845;EPU_POLICY_BUDGET,2184;   \n",
       "2350729  GENERAL_GOVERNMENT,681;GENERAL_GOVERNMENT,2163;EPU_POLICY_GOVERNMENT,681;EPU_POLICY_GOVERNMENT,2163;CRISISLEX_CRISISLEXREC,453;WB_642_CHILD_HEALTH,438;WB_642_CHILD_HEALTH,550;WB_642_CHILD_HEALTH,723;WB_642_CHILD_HEALTH,985;WB_1459_IMMUNIZATIONS,438;WB_1459_IMMUNIZATIONS,550;WB_1459_IMMUNIZATIONS,723;WB_1459_IMMUNIZATIONS,985;WB_621_HEALTH_NUTRITION_AND_POPULATION,438;WB_621_HEALTH_NUTRITION_AND_POPULATION,550;WB_621_HEALTH_NUTRITION_AND_POPULATION,723;WB_621_HEALTH_NUTRITION_AND_POPULATION,985;WB_639_REPRODUCTIVE_MATERNAL_AND_CHILD_HEALTH,438;WB_639_REPRODUCTIVE_MATERNAL_AND_CHILD_HEALTH,550;WB_639_REPRODUCTIVE_MATERNAL_AND_CHILD_HEALTH,723;WB_639_REPRODUCTIVE_MATERNAL_AND_CHILD_HEALTH,985;HEALTH_VACCINATION,283;UNGP_HEALTHCARE,283;TAX_DISEASE_DISEASES,1994;WB_1406_DISEASES,1994;CRISISLEX_C03_WELLBEING_HEALTH,1689;CRISISLEX_C03_WELLBEING_HEALTH,1897;CRISISLEX_T03_DEAD,1381;SHORTAGE,1678;EPU_ECONOMY,1809;EPU_ECONOMY_HISTORIC,1809;TAX_DISEASE_MEASLES,1420;WB_840_JUSTICE,3198;WB_2473_DIPLOMACY_AND_NEGOTIATIONS,3198;WB_939_NEGOTIATION,3198;WB_2470_PEACE_OPERATIONS_AND_CONFLICT_MANAGEMENT,3198;WB_936_ALTERNATIVE_DISPUTE_RESOLUTION,3198;WB_2432_FRAGILITY_CONFLICT_AND_VIOLENCE,3198;WB_843_DISPUTE_RESOLUTION,3198;WB_2471_PEACEKEEPING,3198;WB_2024_ANTI_CORRUPTION_AUTHORITIES,2748;WB_696_PUBLIC_SECTOR_MANAGEMENT,2748;WB_831_GOVERNANCE,2748;WB_832_ANTI_CORRUPTION,2748;WB_2026_PREVENTION,2748;TAX_DISEASE_DIABETES,2011;TAX_CHRONICDISEASE_DIABETES,2011;WB_1433_DIABETES,2011;TAX_DISEASE_CORONAVIRUS,309;TAX_DISEASE_CORONAVIRUS,770;TAX_DISEASE_CORONAVIRUS,887;TAX_DISEASE_CORONAVIRUS,2281;TAX_DISEASE_CORONAVIRUS,3270;WB_1427_NON_COMMUNICABLE_DISEASE_AND_INJURY,1994;TAX_FNCACT_MINISTER,156;TAX_FNCACT_MINISTER,339;TAX_FNCACT_MINISTER,2314;TAX_FNCACT_MINISTER,2863;TAX_FNCACT_MINISTER,3317;GENERAL_HEALTH,147;GENERAL_HEALTH,330;GENERAL_HEALTH,2205;GENERAL_HEALTH,2305;GENERAL_HEALTH,3308;GENERAL_HEALTH,3373;MEDICAL,147;MEDICAL,330;MEDICAL,2205;MEDICAL,2305;MEDICAL,3308;MEDICAL,3373;TAX_DISEASE_HIGH_BLOOD_PRESSURE,2033;WB_1432_HYPERTENSION,2033;TAX_DISEASE_OUTBREAK,1429;WB_635_PUBLIC_HEALTH,1429;WB_2165_HEALTH_EMERGENCIES,1429;WB_2166_HEALTH_EMERGENCY_PREPAREDNESS_AND_DISASTER_RESPONSE,1429;WB_2167_PANDEMICS,1429;WB_1331_HEALTH_TECHNOLOGIES,1698;WB_1331_HEALTH_TECHNOLOGIES,1906;WB_1350_PHARMACEUTICALS,1698;WB_1350_PHARMACEUTICALS,1906;UNGP_FORESTS_RIVERS_OCEANS,900;USPEC_POLICY1,226;USPEC_POLICY1,1845;USPEC_POLICY1,2184;EPU_POLICY_BUDGET,226;EPU_POLICY_BUDGET,1845;EPU_POLICY_BUDGET,2184;   \n",
       "3729368  GENERAL_GOVERNMENT,681;GENERAL_GOVERNMENT,2163;EPU_POLICY_GOVERNMENT,681;EPU_POLICY_GOVERNMENT,2163;CRISISLEX_CRISISLEXREC,453;WB_642_CHILD_HEALTH,438;WB_642_CHILD_HEALTH,550;WB_642_CHILD_HEALTH,723;WB_642_CHILD_HEALTH,985;WB_1459_IMMUNIZATIONS,438;WB_1459_IMMUNIZATIONS,550;WB_1459_IMMUNIZATIONS,723;WB_1459_IMMUNIZATIONS,985;WB_621_HEALTH_NUTRITION_AND_POPULATION,438;WB_621_HEALTH_NUTRITION_AND_POPULATION,550;WB_621_HEALTH_NUTRITION_AND_POPULATION,723;WB_621_HEALTH_NUTRITION_AND_POPULATION,985;WB_639_REPRODUCTIVE_MATERNAL_AND_CHILD_HEALTH,438;WB_639_REPRODUCTIVE_MATERNAL_AND_CHILD_HEALTH,550;WB_639_REPRODUCTIVE_MATERNAL_AND_CHILD_HEALTH,723;WB_639_REPRODUCTIVE_MATERNAL_AND_CHILD_HEALTH,985;HEALTH_VACCINATION,283;UNGP_HEALTHCARE,283;TAX_DISEASE_DISEASES,1994;WB_1406_DISEASES,1994;CRISISLEX_C03_WELLBEING_HEALTH,1689;CRISISLEX_C03_WELLBEING_HEALTH,1897;CRISISLEX_T03_DEAD,1381;SHORTAGE,1678;EPU_ECONOMY,1809;EPU_ECONOMY_HISTORIC,1809;TAX_DISEASE_MEASLES,1420;WB_840_JUSTICE,3198;WB_2473_DIPLOMACY_AND_NEGOTIATIONS,3198;WB_939_NEGOTIATION,3198;WB_2470_PEACE_OPERATIONS_AND_CONFLICT_MANAGEMENT,3198;WB_936_ALTERNATIVE_DISPUTE_RESOLUTION,3198;WB_2432_FRAGILITY_CONFLICT_AND_VIOLENCE,3198;WB_843_DISPUTE_RESOLUTION,3198;WB_2471_PEACEKEEPING,3198;WB_2024_ANTI_CORRUPTION_AUTHORITIES,2748;WB_696_PUBLIC_SECTOR_MANAGEMENT,2748;WB_831_GOVERNANCE,2748;WB_832_ANTI_CORRUPTION,2748;WB_2026_PREVENTION,2748;TAX_DISEASE_DIABETES,2011;TAX_CHRONICDISEASE_DIABETES,2011;WB_1433_DIABETES,2011;TAX_DISEASE_CORONAVIRUS,309;TAX_DISEASE_CORONAVIRUS,770;TAX_DISEASE_CORONAVIRUS,887;TAX_DISEASE_CORONAVIRUS,2281;TAX_DISEASE_CORONAVIRUS,3270;WB_1427_NON_COMMUNICABLE_DISEASE_AND_INJURY,1994;TAX_FNCACT_MINISTER,156;TAX_FNCACT_MINISTER,339;TAX_FNCACT_MINISTER,2314;TAX_FNCACT_MINISTER,2863;TAX_FNCACT_MINISTER,3317;GENERAL_HEALTH,147;GENERAL_HEALTH,330;GENERAL_HEALTH,2205;GENERAL_HEALTH,2305;GENERAL_HEALTH,3308;GENERAL_HEALTH,3373;MEDICAL,147;MEDICAL,330;MEDICAL,2205;MEDICAL,2305;MEDICAL,3308;MEDICAL,3373;TAX_DISEASE_HIGH_BLOOD_PRESSURE,2033;WB_1432_HYPERTENSION,2033;TAX_DISEASE_OUTBREAK,1429;WB_635_PUBLIC_HEALTH,1429;WB_2165_HEALTH_EMERGENCIES,1429;WB_2166_HEALTH_EMERGENCY_PREPAREDNESS_AND_DISASTER_RESPONSE,1429;WB_2167_PANDEMICS,1429;WB_1331_HEALTH_TECHNOLOGIES,1698;WB_1331_HEALTH_TECHNOLOGIES,1906;WB_1350_PHARMACEUTICALS,1698;WB_1350_PHARMACEUTICALS,1906;UNGP_FORESTS_RIVERS_OCEANS,900;USPEC_POLICY1,226;USPEC_POLICY1,1845;USPEC_POLICY1,2184;EPU_POLICY_BUDGET,226;EPU_POLICY_BUDGET,1845;EPU_POLICY_BUDGET,2184;   \n",
       "\n",
       "                  Persons                       Organizations  \\\n",
       "62545    amelia tuipulotu  health for tonga;mua health centre   \n",
       "579408   amelia tuipulotu  health for tonga;mua health centre   \n",
       "1613628  amelia tuipulotu  health for tonga;mua health centre   \n",
       "2177827  amelia tuipulotu  health for tonga;mua health centre   \n",
       "2261689  amelia tuipulotu  health for tonga;mua health centre   \n",
       "2302755  amelia tuipulotu  health for tonga;mua health centre   \n",
       "2350729  amelia tuipulotu  health for tonga;mua health centre   \n",
       "3729368  amelia tuipulotu  health for tonga;mua health centre   \n",
       "\n",
       "                                                                                                             V2Tone  \n",
       "62545    0.33955857385399,3.05602716468591,2.71646859083192,5.77249575551783,22.0713073005093,0.169779286926995,520  \n",
       "579408   0.33955857385399,3.05602716468591,2.71646859083192,5.77249575551783,22.0713073005093,0.169779286926995,520  \n",
       "1613628  0.33955857385399,3.05602716468591,2.71646859083192,5.77249575551783,22.0713073005093,0.169779286926995,520  \n",
       "2177827  0.33955857385399,3.05602716468591,2.71646859083192,5.77249575551783,22.0713073005093,0.169779286926995,520  \n",
       "2261689  0.33955857385399,3.05602716468591,2.71646859083192,5.77249575551783,22.0713073005093,0.169779286926995,520  \n",
       "2302755  0.33955857385399,3.05602716468591,2.71646859083192,5.77249575551783,22.0713073005093,0.169779286926995,520  \n",
       "2350729  0.33955857385399,3.05602716468591,2.71646859083192,5.77249575551783,22.0713073005093,0.169779286926995,520  \n",
       "3729368  0.33955857385399,3.05602716468591,2.71646859083192,5.77249575551783,22.0713073005093,0.169779286926995,520  "
      ]
     },
     "execution_count": 17,
     "metadata": {},
     "output_type": "execute_result"
    }
   ],
   "source": [
    "gkg[gkg['MentionIdentifier'] == 'https://parliament.gov.to/media-centre/latest-news/latest-news-in-english/729-cabinet-asked-to-review-budget-allocation-to-health-for-tonga-s-readiness-against-covid-19?switch_to_desktop_ui=438']"
   ]
  },
  {
   "cell_type": "markdown",
   "metadata": {},
   "source": [
    "## Theory i have on why merging all three tables is 98 million+, there are duplicates"
   ]
  },
  {
   "cell_type": "markdown",
   "metadata": {},
   "source": [
    "### Try a different URL in the GKG table"
   ]
  },
  {
   "cell_type": "markdown",
   "metadata": {},
   "source": [
    "https://parliament.gov.to/media-centre/latest-news/latest-news-in-english/729-cabinet-asked-to-review-budget-allocation-to-health-for-tonga-s-readiness-against-covid-19?switch_to_desktop_ui=438"
   ]
  },
  {
   "cell_type": "code",
   "execution_count": 17,
   "metadata": {},
   "outputs": [
    {
     "data": {
      "text/plain": [
       "11"
      ]
     },
     "execution_count": 17,
     "metadata": {},
     "output_type": "execute_result"
    }
   ],
   "source": [
    "gkg['MentionIdentifier'][gkg['MentionIdentifier'] == 'http://www.cookislandsnews.com/national/local/item/77260-border-begins-to-open'].count()"
   ]
  },
  {
   "cell_type": "markdown",
   "metadata": {},
   "source": [
    "## Drop duplicates in GKG table"
   ]
  },
  {
   "cell_type": "code",
   "execution_count": null,
   "metadata": {},
   "outputs": [],
   "source": [
    "gkg.drop_duplicates()"
   ]
  },
  {
   "cell_type": "code",
   "execution_count": null,
   "metadata": {},
   "outputs": [],
   "source": [
    "gkg.info()"
   ]
  },
  {
   "cell_type": "code",
   "execution_count": null,
   "metadata": {},
   "outputs": [],
   "source": []
  }
 ],
 "metadata": {
  "kernelspec": {
   "display_name": "Python 3",
   "language": "python",
   "name": "python3"
  },
  "language_info": {
   "codemirror_mode": {
    "name": "ipython",
    "version": 3
   },
   "file_extension": ".py",
   "mimetype": "text/x-python",
   "name": "python",
   "nbconvert_exporter": "python",
   "pygments_lexer": "ipython3",
   "version": "3.7.9"
  }
 },
 "nbformat": 4,
 "nbformat_minor": 4
}
