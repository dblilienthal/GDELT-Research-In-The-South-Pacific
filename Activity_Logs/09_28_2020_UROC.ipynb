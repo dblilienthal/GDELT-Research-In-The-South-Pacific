{
 "cells": [
  {
   "cell_type": "markdown",
   "metadata": {},
   "source": [
    "<b> In this notebook, i start trying to do some general tabulations of the south pacific like, how many events are there in the whole region? I also graph them using time-series to try to see if there is any strange anomalies. I also made a query where china is actor1 and Guam is the action location and graphed all the number of mentions from 2015 to 2020 for each month. </b>\n"
   ]
  },
  {
   "cell_type": "code",
   "execution_count": 1,
   "metadata": {},
   "outputs": [
    {
     "name": "stderr",
     "output_type": "stream",
     "text": [
      "C:\\Users\\dlili\\anaconda3\\lib\\site-packages\\IPython\\core\\interactiveshell.py:3063: DtypeWarning: Columns (3,4,13,14) have mixed types.Specify dtype option on import or set low_memory=False.\n",
      "  interactivity=interactivity, compiler=compiler, result=result)\n"
     ]
    }
   ],
   "source": [
    "import numpy as np\n",
    "import pandas as pd\n",
    "\n",
    "\n",
    "pd.set_option('display.max_columns', 50)\n",
    "\n",
    "df = pd.read_csv('C:/Users/dlili/OneDrive/Documents/CSUMB/UROC Fall 2020/All Oceania Events.csv')"
   ]
  },
  {
   "cell_type": "code",
   "execution_count": 23,
   "metadata": {},
   "outputs": [
    {
     "name": "stdout",
     "output_type": "stream",
     "text": [
      "<class 'pandas.core.frame.DataFrame'>\n",
      "RangeIndex: 1351482 entries, 0 to 1351481\n",
      "Data columns (total 20 columns):\n",
      " #   Column                 Non-Null Count    Dtype  \n",
      "---  ------                 --------------    -----  \n",
      " 0   GLOBALEVENTID          1351482 non-null  int64  \n",
      " 1   SQLDATE                1351482 non-null  int64  \n",
      " 2   MonthYear              1351482 non-null  int64  \n",
      " 3   Actor1Name             1196865 non-null  object \n",
      " 4   Actor1CountryCode      672281 non-null   object \n",
      " 5   Actor2Name             880521 non-null   object \n",
      " 6   Actor2CountryCode      524619 non-null   object \n",
      " 7   EventCode              1351482 non-null  int64  \n",
      " 8   GoldsteinScale         1351481 non-null  float64\n",
      " 9   NumMentions            1351482 non-null  int64  \n",
      " 10  NumSources             1351482 non-null  int64  \n",
      " 11  NumArticles            1351482 non-null  int64  \n",
      " 12  AvgTone                1351482 non-null  float64\n",
      " 13  Actor1Geo_FullName     1196383 non-null  object \n",
      " 14  Actor1Geo_CountryCode  1196865 non-null  object \n",
      " 15  Actor2Geo_FullName     880159 non-null   object \n",
      " 16  Actor2Geo_CountryCode  880521 non-null   object \n",
      " 17  ActionGeo_FullName     1351055 non-null  object \n",
      " 18  ActionGeo_ADM1Code     1351482 non-null  object \n",
      " 19  SOURCEURL              1351482 non-null  object \n",
      "dtypes: float64(2), int64(7), object(11)\n",
      "memory usage: 206.2+ MB\n"
     ]
    }
   ],
   "source": [
    "# Show the top few columns\n",
    "df.head()\n",
    "df.info()"
   ]
  },
  {
   "cell_type": "code",
   "execution_count": 4,
   "metadata": {},
   "outputs": [],
   "source": [
    "# Import SQL stuff\n",
    "\n",
    "import sqlalchemy\n",
    "from sqlalchemy import create_engine\n",
    "engine = create_engine('sqlite://', echo=False)\n",
    "\n",
    "df.to_sql('df', con=engine)"
   ]
  },
  {
   "cell_type": "code",
   "execution_count": 8,
   "metadata": {},
   "outputs": [
    {
     "data": {
      "text/html": [
       "<div>\n",
       "<style scoped>\n",
       "    .dataframe tbody tr th:only-of-type {\n",
       "        vertical-align: middle;\n",
       "    }\n",
       "\n",
       "    .dataframe tbody tr th {\n",
       "        vertical-align: top;\n",
       "    }\n",
       "\n",
       "    .dataframe thead th {\n",
       "        text-align: right;\n",
       "    }\n",
       "</style>\n",
       "<table border=\"1\" class=\"dataframe\">\n",
       "  <thead>\n",
       "    <tr style=\"text-align: right;\">\n",
       "      <th></th>\n",
       "      <th>SQLDATE</th>\n",
       "    </tr>\n",
       "  </thead>\n",
       "  <tbody>\n",
       "    <tr>\n",
       "      <th>0</th>\n",
       "      <td>20200927</td>\n",
       "    </tr>\n",
       "    <tr>\n",
       "      <th>1</th>\n",
       "      <td>20200927</td>\n",
       "    </tr>\n",
       "    <tr>\n",
       "      <th>2</th>\n",
       "      <td>20200927</td>\n",
       "    </tr>\n",
       "    <tr>\n",
       "      <th>3</th>\n",
       "      <td>20200927</td>\n",
       "    </tr>\n",
       "    <tr>\n",
       "      <th>4</th>\n",
       "      <td>20200927</td>\n",
       "    </tr>\n",
       "    <tr>\n",
       "      <th>...</th>\n",
       "      <td>...</td>\n",
       "    </tr>\n",
       "    <tr>\n",
       "      <th>2455</th>\n",
       "      <td>20171124</td>\n",
       "    </tr>\n",
       "    <tr>\n",
       "      <th>2456</th>\n",
       "      <td>20171124</td>\n",
       "    </tr>\n",
       "    <tr>\n",
       "      <th>2457</th>\n",
       "      <td>20171124</td>\n",
       "    </tr>\n",
       "    <tr>\n",
       "      <th>2458</th>\n",
       "      <td>20171124</td>\n",
       "    </tr>\n",
       "    <tr>\n",
       "      <th>2459</th>\n",
       "      <td>20171124</td>\n",
       "    </tr>\n",
       "  </tbody>\n",
       "</table>\n",
       "<p>2460 rows × 1 columns</p>\n",
       "</div>"
      ],
      "text/plain": [
       "       SQLDATE\n",
       "0     20200927\n",
       "1     20200927\n",
       "2     20200927\n",
       "3     20200927\n",
       "4     20200927\n",
       "...        ...\n",
       "2455  20171124\n",
       "2456  20171124\n",
       "2457  20171124\n",
       "2458  20171124\n",
       "2459  20171124\n",
       "\n",
       "[2460 rows x 1 columns]"
      ]
     },
     "execution_count": 8,
     "metadata": {},
     "output_type": "execute_result"
    }
   ],
   "source": [
    "# This is all the distinct SQLDATES in the dataset\n",
    "\n",
    "query = \"\"\"\n",
    "SELECT DISTINCT SQLDATE\n",
    "FROM df\n",
    "\"\"\"\n",
    "\n",
    "temp_result = engine.execute(query).fetchall()\n",
    "\n",
    "# Convert result into numpy array\n",
    "temp1 = np.array(temp_result)\n",
    "# Convert np array into dataframe\n",
    "df2 = pd.DataFrame(data=temp1, columns=['SQLDATE'])\n",
    "# Convert the datatypes from Object \n",
    "df2 = df2.convert_dtypes()\n",
    "df2['SQLDATE'] = df['SQLDATE'].astype(int)\n",
    "# Show the result\n",
    "df2"
   ]
  },
  {
   "cell_type": "code",
   "execution_count": 10,
   "metadata": {},
   "outputs": [
    {
     "data": {
      "text/html": [
       "<div>\n",
       "<style scoped>\n",
       "    .dataframe tbody tr th:only-of-type {\n",
       "        vertical-align: middle;\n",
       "    }\n",
       "\n",
       "    .dataframe tbody tr th {\n",
       "        vertical-align: top;\n",
       "    }\n",
       "\n",
       "    .dataframe thead th {\n",
       "        text-align: right;\n",
       "    }\n",
       "</style>\n",
       "<table border=\"1\" class=\"dataframe\">\n",
       "  <thead>\n",
       "    <tr style=\"text-align: right;\">\n",
       "      <th></th>\n",
       "      <th>SQLDATE</th>\n",
       "    </tr>\n",
       "  </thead>\n",
       "  <tbody>\n",
       "    <tr>\n",
       "      <th>0</th>\n",
       "      <td>20200927</td>\n",
       "    </tr>\n",
       "    <tr>\n",
       "      <th>1</th>\n",
       "      <td>20200927</td>\n",
       "    </tr>\n",
       "    <tr>\n",
       "      <th>2</th>\n",
       "      <td>20200927</td>\n",
       "    </tr>\n",
       "    <tr>\n",
       "      <th>3</th>\n",
       "      <td>20200927</td>\n",
       "    </tr>\n",
       "    <tr>\n",
       "      <th>4</th>\n",
       "      <td>20200927</td>\n",
       "    </tr>\n",
       "    <tr>\n",
       "      <th>...</th>\n",
       "      <td>...</td>\n",
       "    </tr>\n",
       "    <tr>\n",
       "      <th>2093</th>\n",
       "      <td>20170915</td>\n",
       "    </tr>\n",
       "    <tr>\n",
       "      <th>2094</th>\n",
       "      <td>20170915</td>\n",
       "    </tr>\n",
       "    <tr>\n",
       "      <th>2095</th>\n",
       "      <td>20170915</td>\n",
       "    </tr>\n",
       "    <tr>\n",
       "      <th>2096</th>\n",
       "      <td>20170916</td>\n",
       "    </tr>\n",
       "    <tr>\n",
       "      <th>2097</th>\n",
       "      <td>20170915</td>\n",
       "    </tr>\n",
       "  </tbody>\n",
       "</table>\n",
       "<p>2098 rows × 1 columns</p>\n",
       "</div>"
      ],
      "text/plain": [
       "       SQLDATE\n",
       "0     20200927\n",
       "1     20200927\n",
       "2     20200927\n",
       "3     20200927\n",
       "4     20200927\n",
       "...        ...\n",
       "2093  20170915\n",
       "2094  20170915\n",
       "2095  20170915\n",
       "2096  20170916\n",
       "2097  20170915\n",
       "\n",
       "[2098 rows x 1 columns]"
      ]
     },
     "execution_count": 10,
     "metadata": {},
     "output_type": "execute_result"
    }
   ],
   "source": [
    "# Create a list of the SQLDATE's starting in 2015\n",
    "query = \"\"\"\n",
    "SELECT DISTINCT SQLDATE as date\n",
    "FROM df\n",
    "WHERE SQLDATE > 20150000\n",
    "\"\"\"\n",
    "\n",
    "# Execute the query and save the result\n",
    "temp_result = engine.execute(query).fetchall()\n",
    "# Convert result into numpy array\n",
    "temp1 = np.array(temp_result)\n",
    "# Convert np array into dataframe\n",
    "df2 = pd.DataFrame(data=temp1, columns=['SQLDATE'])\n",
    "# Convert the datatypes from Object \n",
    "df2 = df2.convert_dtypes()\n",
    "df2['SQLDATE'] = df['SQLDATE'].astype(int)\n",
    "# Show the result\n",
    "df2"
   ]
  },
  {
   "cell_type": "code",
   "execution_count": 47,
   "metadata": {},
   "outputs": [
    {
     "data": {
      "text/html": [
       "<div>\n",
       "<style scoped>\n",
       "    .dataframe tbody tr th:only-of-type {\n",
       "        vertical-align: middle;\n",
       "    }\n",
       "\n",
       "    .dataframe tbody tr th {\n",
       "        vertical-align: top;\n",
       "    }\n",
       "\n",
       "    .dataframe thead th {\n",
       "        text-align: right;\n",
       "    }\n",
       "</style>\n",
       "<table border=\"1\" class=\"dataframe\">\n",
       "  <thead>\n",
       "    <tr style=\"text-align: right;\">\n",
       "      <th></th>\n",
       "      <th>yearMonth</th>\n",
       "      <th>count</th>\n",
       "    </tr>\n",
       "  </thead>\n",
       "  <tbody>\n",
       "    <tr>\n",
       "      <th>0</th>\n",
       "      <td>201501</td>\n",
       "      <td>281</td>\n",
       "    </tr>\n",
       "    <tr>\n",
       "      <th>1</th>\n",
       "      <td>201502</td>\n",
       "      <td>5607</td>\n",
       "    </tr>\n",
       "    <tr>\n",
       "      <th>2</th>\n",
       "      <td>201503</td>\n",
       "      <td>20015</td>\n",
       "    </tr>\n",
       "    <tr>\n",
       "      <th>3</th>\n",
       "      <td>201504</td>\n",
       "      <td>20174</td>\n",
       "    </tr>\n",
       "    <tr>\n",
       "      <th>4</th>\n",
       "      <td>201505</td>\n",
       "      <td>14770</td>\n",
       "    </tr>\n",
       "    <tr>\n",
       "      <th>...</th>\n",
       "      <td>...</td>\n",
       "      <td>...</td>\n",
       "    </tr>\n",
       "    <tr>\n",
       "      <th>64</th>\n",
       "      <td>202005</td>\n",
       "      <td>13564</td>\n",
       "    </tr>\n",
       "    <tr>\n",
       "      <th>65</th>\n",
       "      <td>202006</td>\n",
       "      <td>13550</td>\n",
       "    </tr>\n",
       "    <tr>\n",
       "      <th>66</th>\n",
       "      <td>202007</td>\n",
       "      <td>12902</td>\n",
       "    </tr>\n",
       "    <tr>\n",
       "      <th>67</th>\n",
       "      <td>202008</td>\n",
       "      <td>12777</td>\n",
       "    </tr>\n",
       "    <tr>\n",
       "      <th>68</th>\n",
       "      <td>202009</td>\n",
       "      <td>11087</td>\n",
       "    </tr>\n",
       "  </tbody>\n",
       "</table>\n",
       "<p>69 rows × 2 columns</p>\n",
       "</div>"
      ],
      "text/plain": [
       "    yearMonth  count\n",
       "0      201501    281\n",
       "1      201502   5607\n",
       "2      201503  20015\n",
       "3      201504  20174\n",
       "4      201505  14770\n",
       "..        ...    ...\n",
       "64     202005  13564\n",
       "65     202006  13550\n",
       "66     202007  12902\n",
       "67     202008  12777\n",
       "68     202009  11087\n",
       "\n",
       "[69 rows x 2 columns]"
      ]
     },
     "execution_count": 47,
     "metadata": {},
     "output_type": "execute_result"
    }
   ],
   "source": [
    "# Count the number of Events each month since 2015\n",
    "query = \"\"\"\n",
    "SELECT DISTINCT SUBSTR(CAST(dt.date as varchar),1,6) as yearMonth , count(df.Actor1Geo_FullName) as count\n",
    "FROM \n",
    "(SELECT DISTINCT SQLDATE as date\n",
    "FROM df\n",
    "WHERE SQLDATE > 20150000) dt left join df on dt.date = df.SQLDATE\n",
    "GROUP BY yearMonth\n",
    "\"\"\"\n",
    "\n",
    "# Execute the query and save the result\n",
    "temp_result = engine.execute(query).fetchall()\n",
    "# Convert result into numpy array\n",
    "temp1 = np.array(temp_result)\n",
    "# Convert np array into dataframe\n",
    "df2 = pd.DataFrame(data=temp1, columns=['yearMonth','count'])\n",
    "# Convert the datatypes from Object \n",
    "df2 = df2.convert_dtypes()\n",
    "df2['yearMonth'] = df2['yearMonth'].astype(int)\n",
    "df2['count'] = df2['count'].astype(int)\n",
    "# Show the result\n",
    "df2"
   ]
  },
  {
   "cell_type": "markdown",
   "metadata": {},
   "source": [
    "_This is a time series graph of the number of articles in the Events table in the south pacific region_"
   ]
  },
  {
   "cell_type": "code",
   "execution_count": 48,
   "metadata": {
    "scrolled": true
   },
   "outputs": [
    {
     "data": {
      "text/plain": [
       "<AxesSubplot:>"
      ]
     },
     "execution_count": 48,
     "metadata": {},
     "output_type": "execute_result"
    },
    {
     "data": {
      "image/png": "[encoded data removed]",
      "text/plain": [
       "<Figure size 3600x576 with 1 Axes>"
      ]
     },
     "metadata": {
      "needs_background": "light"
     },
     "output_type": "display_data"
    }
   ],
   "source": [
    "import matplotlib.pyplot as plt\n",
    "import seaborn as sns\n",
    "\n",
    "# Create out numpy array for visualizations\n",
    "temp_array = pd.Series(np.array(df2['count']), index = np.array(df2['yearMonth']))\n",
    "\n",
    "plt.figure(figsize=(50,8))\n",
    "temp_array.plot.bar()"
   ]
  },
  {
   "cell_type": "code",
   "execution_count": 51,
   "metadata": {},
   "outputs": [
    {
     "data": {
      "text/plain": [
       "<AxesSubplot:>"
      ]
     },
     "execution_count": 51,
     "metadata": {},
     "output_type": "execute_result"
    },
    {
     "data": {
      "image/png": "[encoded data removed]",
      "text/plain": [
       "<Figure size 3600x576 with 1 Axes>"
      ]
     },
     "metadata": {
      "needs_background": "light"
     },
     "output_type": "display_data"
    }
   ],
   "source": [
    "# Count the number of Events each month since 2015, where the ActionLocation is Guam and the Actor1 is China\n",
    "query = \"\"\"\n",
    "SELECT DISTINCT SUBSTR(CAST(dt.date as varchar),1,6) as yearMonth , count(*) as count\n",
    "FROM \n",
    "(SELECT DISTINCT SQLDATE as date\n",
    "FROM df\n",
    "WHERE SQLDATE > 20150000) dt left join df on dt.date = df.SQLDATE\n",
    "WHERE Actor1Geo_FullName like '%China' and ActionGeo_FullName = \"Guam\"\n",
    "GROUP BY yearMonth\n",
    "\"\"\"\n",
    "\n",
    "# Execute the query and save the result\n",
    "temp_result = engine.execute(query).fetchall()\n",
    "# Convert result into numpy array\n",
    "temp1 = np.array(temp_result)\n",
    "# Convert np array into dataframe\n",
    "df2 = pd.DataFrame(data=temp1, columns=['yearMonth','count'])\n",
    "# Convert the datatypes from Object \n",
    "df2 = df2.convert_dtypes()\n",
    "df2['yearMonth'] = df2['yearMonth'].astype(int)\n",
    "df2['count'] = df2['count'].astype(int)\n",
    "# Show the result\n",
    "df2\n",
    "\n",
    "temp_array = pd.Series(np.array(df2['count']), index = np.array(df2['yearMonth']))\n",
    "\n",
    "plt.figure(figsize=(50,8))\n",
    "temp_array.plot.bar()"
   ]
  },
  {
   "cell_type": "code",
   "execution_count": null,
   "metadata": {},
   "outputs": [],
   "source": []
  }
 ],
 "metadata": {
  "kernelspec": {
   "display_name": "Python 3",
   "language": "python",
   "name": "python3"
  },
  "language_info": {
   "codemirror_mode": {
    "name": "ipython",
    "version": 3
   },
   "file_extension": ".py",
   "mimetype": "text/x-python",
   "name": "python",
   "nbconvert_exporter": "python",
   "pygments_lexer": "ipython3",
   "version": "3.7.9"
  }
 },
 "nbformat": 4,
 "nbformat_minor": 4
}
